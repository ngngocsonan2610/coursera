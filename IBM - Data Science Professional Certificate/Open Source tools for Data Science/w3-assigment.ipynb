{
    "cells": [
        {
            "metadata": {
                "collapsed": true
            },
            "cell_type": "markdown",
            "source": "# My Jupyter Notebook on IBM Data Science Experience"
        },
        {
            "metadata": {},
            "cell_type": "markdown",
            "source": "**Nguyen Ngoc Son An**\n\nMy desired occupation is Data Scientist\n\n"
        },
        {
            "metadata": {},
            "cell_type": "markdown",
            "source": "I got interested in data science for 3 main reasons:\n- I love telling stories with data and using data to help bring that data to life. As a data scientist I can turn seemingly meaningless data into a recommendation to help a company improve its product, services, or experiences. This can help a business grow or get more clients.\n- I am a technophile. I love using the latest and greatest technology. Whether that is hardware or software, I enjoy getting my hands on with these new technologies to see how that can enrich our lives.\n- Possibly the number one reason I got into data science, I have a passion for helping. In data science that could be helping a business understand its customers or improving the way it uses its customer data. I get a fantastic feeling of job satisfaction when I see the fruits of my labor helping in many different ways."
        },
        {
            "metadata": {},
            "cell_type": "markdown",
            "source": "In the next cell, I will create a sum function"
        },
        {
            "metadata": {},
            "cell_type": "code",
            "source": "def sum(a,b):\n    return a + b",
            "execution_count": 1,
            "outputs": []
        },
        {
            "metadata": {},
            "cell_type": "markdown",
            "source": "> Using Markdown or HTML, this cell must include at least 3 of the following: horizontal rule, bulleted list, numbered list, tables, hyperlinks, images, code/syntax highlighting, blocked quotes, strikethrough.\n----\nBulleted list:\n- bulleted list\n- bulleted list\n- bulleted list\n\nNumbered list\n1. numbered list\n2. numbered list\n3. numbered list\n\n|table|table|\n|---|---|\n|1|2|\n\n\n```python\nimport pandas as pd\nimport numpy as np\n```\n\n> blocked qutes"
        }
    ],
    "metadata": {
        "kernelspec": {
            "name": "python3",
            "display_name": "Python 3.6",
            "language": "python"
        },
        "language_info": {
            "name": "python",
            "version": "3.6.9",
            "mimetype": "text/x-python",
            "codemirror_mode": {
                "name": "ipython",
                "version": 3
            },
            "pygments_lexer": "ipython3",
            "nbconvert_exporter": "python",
            "file_extension": ".py"
        }
    },
    "nbformat": 4,
    "nbformat_minor": 1
}