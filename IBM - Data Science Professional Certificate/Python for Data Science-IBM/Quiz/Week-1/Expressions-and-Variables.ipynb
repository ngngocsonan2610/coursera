{
 "cells": [
  {
   "cell_type": "markdown",
   "metadata": {},
   "source": [
    "##### 1. What is the result of the following code segment:1//2?\n",
    "   Ans: 0\n",
    "##### 2. What is the value of x after the following lines of code:\n",
    "    x=2\n",
    "    x=x+2\n",
    "   Ans: 4\n",
    "##### 3. What is the result of the following operation 3+2*2?\n",
    "   Ans: 7\n",
    "##### 4. What is the type of the variable x after the following: x=2/2?\n",
    "   Ans: float"
   ]
  }
 ],
 "metadata": {
  "kernelspec": {
   "display_name": "Python 3",
   "language": "python",
   "name": "python3"
  },
  "language_info": {
   "codemirror_mode": {
    "name": "ipython",
    "version": 3
   },
   "file_extension": ".py",
   "mimetype": "text/x-python",
   "name": "python",
   "nbconvert_exporter": "python",
   "pygments_lexer": "ipython3",
   "version": "3.6.4"
  }
 },
 "nbformat": 4,
 "nbformat_minor": 2
}
