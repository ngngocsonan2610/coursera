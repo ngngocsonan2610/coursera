{
 "cells": [
  {
   "cell_type": "markdown",
   "metadata": {},
   "source": [
    "1. What is the type of the following: 1?\n",
    "   Ans: int\n",
    "2. What is the result of the following code segment: type(int(12.3))?\n",
    "   Ans: int\n",
    "3. What is the result of the following code segment: int(3.99)?\n",
    "   Ans: 3\n",
    "4. What is the result of the following code segment: int(False)?\n",
    "   Ans: 0"
   ]
  }
 ],
 "metadata": {
  "kernelspec": {
   "display_name": "Python 3",
   "language": "python",
   "name": "python3"
  },
  "language_info": {
   "codemirror_mode": {
    "name": "ipython",
    "version": 3
   },
   "file_extension": ".py",
   "mimetype": "text/x-python",
   "name": "python",
   "nbconvert_exporter": "python",
   "pygments_lexer": "ipython3",
   "version": "3.6.4"
  }
 },
 "nbformat": 4,
 "nbformat_minor": 2
}
