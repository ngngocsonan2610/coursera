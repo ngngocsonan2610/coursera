{
 "cells": [
  {
   "cell_type": "markdown",
   "metadata": {
    "colab_type": "text",
    "id": "0M89p95oLwfG"
   },
   "source": [
    "# Solution\n",
    "To solve this predictional question, I use the classification model to calculate the probability of fraud which can occur for each customer.\n",
    "\n",
    "However, we must handle the data before fitting the model. In here, we face a big data frame problem when merging a table of 151112 data points for 11 columns with a table of 138846 data points for 3 columns. Thus, it will take a large amount of computer memory to sort or merge these tables, and we can not run this code in the normal computer. To solve this, I use np.where to simplify it as SQL problem and find out the relevant index number of specific columns connecting two tables.\n",
    "\n",
    "After that, I analyze the features to fit with the classification model, such as encoding the categorical features or segmenting the numeric ones. At the end of this step, I find out the final database for modeling.\n",
    "\n",
    "Finally, I fit the model with 6 classification algorithms  to find out what is the best model to solve this problem. Therefore, I create two criteria for choosing these methods:\n",
    "\n",
    "- Accuracy:  the model must give the most correct result.\n",
    "- Running time: the model must have the shortest running time and does not  waste computer memory.\n",
    "\n",
    "The working process will show more details as belows.\n",
    "\n",
    "[Adjusting the data](#1)\n",
    "\n",
    "[Feature Engineering](#2)\n",
    "\n",
    "[Modeling](#3)\n",
    "\n",
    "\n"
   ]
  },
  {
   "cell_type": "code",
   "execution_count": 2,
   "metadata": {
    "colab": {
     "base_uri": "https://localhost:8080/",
     "height": 124
    },
    "colab_type": "code",
    "id": "KQSFranSiLZN",
    "outputId": "f7807b87-475b-400f-f031-205d33e7c87c"
   },
   "outputs": [
    {
     "name": "stdout",
     "output_type": "stream",
     "text": [
      "Go to this URL in a browser: https://accounts.google.com/o/oauth2/auth?client_id=947318989803-6bn6qk8qdgf4n4g3pfee6491hc0brc4i.apps.googleusercontent.com&redirect_uri=urn%3Aietf%3Awg%3Aoauth%3A2.0%3Aoob&scope=email%20https%3A%2F%2Fwww.googleapis.com%2Fauth%2Fdocs.test%20https%3A%2F%2Fwww.googleapis.com%2Fauth%2Fdrive%20https%3A%2F%2Fwww.googleapis.com%2Fauth%2Fdrive.photos.readonly%20https%3A%2F%2Fwww.googleapis.com%2Fauth%2Fpeopleapi.readonly&response_type=code\n",
      "\n",
      "Enter your authorization code:\n",
      "··········\n",
      "Mounted at /content/drive\n"
     ]
    }
   ],
   "source": [
    "# google colab setting\n",
    "from google.colab import drive\n",
    "drive.mount('/content/drive')"
   ]
  },
  {
   "cell_type": "code",
   "execution_count": 0,
   "metadata": {
    "colab": {},
    "colab_type": "code",
    "id": "ShmPIBMxUlmT"
   },
   "outputs": [],
   "source": [
    "# Saving requirement\n",
    "# Install the PyDrive wrapper & import libraries.\n",
    "# This only needs to be done once in a notebook.\n",
    "!pip install -U -q PyDrive\n",
    "from pydrive.auth import GoogleAuth\n",
    "from pydrive.drive import GoogleDrive\n",
    "from google.colab import auth\n",
    "from oauth2client.client import GoogleCredentials\n",
    "\n",
    "# Authenticate and create the PyDrive client.\n",
    "# This only needs to be done once in a notebook.\n",
    "auth.authenticate_user()\n",
    "gauth = GoogleAuth()\n",
    "gauth.credentials = GoogleCredentials.get_application_default()\n",
    "drive = GoogleDrive(gauth)"
   ]
  },
  {
   "cell_type": "code",
   "execution_count": 4,
   "metadata": {
    "colab": {
     "base_uri": "https://localhost:8080/",
     "height": 313
    },
    "colab_type": "code",
    "id": "8iTgmkvQUvcP",
    "outputId": "9ab50396-45fe-41c2-fb12-c272dfc8925e"
   },
   "outputs": [
    {
     "data": {
      "text/html": [
       "<div>\n",
       "<style scoped>\n",
       "    .dataframe tbody tr th:only-of-type {\n",
       "        vertical-align: middle;\n",
       "    }\n",
       "\n",
       "    .dataframe tbody tr th {\n",
       "        vertical-align: top;\n",
       "    }\n",
       "\n",
       "    .dataframe thead th {\n",
       "        text-align: right;\n",
       "    }\n",
       "</style>\n",
       "<table border=\"1\" class=\"dataframe\">\n",
       "  <thead>\n",
       "    <tr style=\"text-align: right;\">\n",
       "      <th></th>\n",
       "      <th>user_id</th>\n",
       "      <th>signup_time</th>\n",
       "      <th>purchase_time</th>\n",
       "      <th>purchase_value</th>\n",
       "      <th>device_id</th>\n",
       "      <th>source</th>\n",
       "      <th>browser</th>\n",
       "      <th>sex</th>\n",
       "      <th>age</th>\n",
       "      <th>ip_address</th>\n",
       "      <th>class</th>\n",
       "    </tr>\n",
       "  </thead>\n",
       "  <tbody>\n",
       "    <tr>\n",
       "      <th>0</th>\n",
       "      <td>22058</td>\n",
       "      <td>2015-02-24 22:55:49</td>\n",
       "      <td>2015-04-18 02:47:11</td>\n",
       "      <td>34</td>\n",
       "      <td>QVPSPJUOCKZAR</td>\n",
       "      <td>SEO</td>\n",
       "      <td>Chrome</td>\n",
       "      <td>M</td>\n",
       "      <td>39</td>\n",
       "      <td>7.327584e+08</td>\n",
       "      <td>0</td>\n",
       "    </tr>\n",
       "    <tr>\n",
       "      <th>1</th>\n",
       "      <td>333320</td>\n",
       "      <td>2015-06-07 20:39:50</td>\n",
       "      <td>2015-06-08 01:38:54</td>\n",
       "      <td>16</td>\n",
       "      <td>EOGFQPIZPYXFZ</td>\n",
       "      <td>Ads</td>\n",
       "      <td>Chrome</td>\n",
       "      <td>F</td>\n",
       "      <td>53</td>\n",
       "      <td>3.503114e+08</td>\n",
       "      <td>0</td>\n",
       "    </tr>\n",
       "    <tr>\n",
       "      <th>2</th>\n",
       "      <td>1359</td>\n",
       "      <td>2015-01-01 18:52:44</td>\n",
       "      <td>2015-01-01 18:52:45</td>\n",
       "      <td>15</td>\n",
       "      <td>YSSKYOSJHPPLJ</td>\n",
       "      <td>SEO</td>\n",
       "      <td>Opera</td>\n",
       "      <td>M</td>\n",
       "      <td>53</td>\n",
       "      <td>2.621474e+09</td>\n",
       "      <td>1</td>\n",
       "    </tr>\n",
       "    <tr>\n",
       "      <th>3</th>\n",
       "      <td>150084</td>\n",
       "      <td>2015-04-28 21:13:25</td>\n",
       "      <td>2015-05-04 13:54:50</td>\n",
       "      <td>44</td>\n",
       "      <td>ATGTXKYKUDUQN</td>\n",
       "      <td>SEO</td>\n",
       "      <td>Safari</td>\n",
       "      <td>M</td>\n",
       "      <td>41</td>\n",
       "      <td>3.840542e+09</td>\n",
       "      <td>0</td>\n",
       "    </tr>\n",
       "    <tr>\n",
       "      <th>4</th>\n",
       "      <td>221365</td>\n",
       "      <td>2015-07-21 07:09:52</td>\n",
       "      <td>2015-09-09 18:40:53</td>\n",
       "      <td>39</td>\n",
       "      <td>NAUITBZFJKHWW</td>\n",
       "      <td>Ads</td>\n",
       "      <td>Safari</td>\n",
       "      <td>M</td>\n",
       "      <td>45</td>\n",
       "      <td>4.155831e+08</td>\n",
       "      <td>0</td>\n",
       "    </tr>\n",
       "  </tbody>\n",
       "</table>\n",
       "</div>"
      ],
      "text/plain": [
       "   user_id          signup_time        purchase_time  purchase_value  \\\n",
       "0    22058  2015-02-24 22:55:49  2015-04-18 02:47:11              34   \n",
       "1   333320  2015-06-07 20:39:50  2015-06-08 01:38:54              16   \n",
       "2     1359  2015-01-01 18:52:44  2015-01-01 18:52:45              15   \n",
       "3   150084  2015-04-28 21:13:25  2015-05-04 13:54:50              44   \n",
       "4   221365  2015-07-21 07:09:52  2015-09-09 18:40:53              39   \n",
       "\n",
       "       device_id source browser sex  age    ip_address  class  \n",
       "0  QVPSPJUOCKZAR    SEO  Chrome   M   39  7.327584e+08      0  \n",
       "1  EOGFQPIZPYXFZ    Ads  Chrome   F   53  3.503114e+08      0  \n",
       "2  YSSKYOSJHPPLJ    SEO   Opera   M   53  2.621474e+09      1  \n",
       "3  ATGTXKYKUDUQN    SEO  Safari   M   41  3.840542e+09      0  \n",
       "4  NAUITBZFJKHWW    Ads  Safari   M   45  4.155831e+08      0  "
      ]
     },
     "execution_count": 4,
     "metadata": {
      "tags": []
     },
     "output_type": "execute_result"
    }
   ],
   "source": [
    "import pandas as pd\n",
    "import numpy as np\n",
    "import seaborn as sns\n",
    "import time\n",
    "\n",
    "df_fraud = pd.read_csv('drive/My Drive/DS-course2 - Dr. Xuan Ha/w2/Fraud_Data.csv')\n",
    "df_fraud.head(5)"
   ]
  },
  {
   "cell_type": "code",
   "execution_count": 5,
   "metadata": {
    "colab": {
     "base_uri": "https://localhost:8080/",
     "height": 295
    },
    "colab_type": "code",
    "id": "kmTFdyPrpHnd",
    "outputId": "3fa3dc6d-ddb8-4dcc-e2a6-d79eb7e71b9a"
   },
   "outputs": [
    {
     "name": "stdout",
     "output_type": "stream",
     "text": [
      "<class 'pandas.core.frame.DataFrame'>\n",
      "RangeIndex: 151112 entries, 0 to 151111\n",
      "Data columns (total 11 columns):\n",
      "user_id           151112 non-null int64\n",
      "signup_time       151112 non-null object\n",
      "purchase_time     151112 non-null object\n",
      "purchase_value    151112 non-null int64\n",
      "device_id         151112 non-null object\n",
      "source            151112 non-null object\n",
      "browser           151112 non-null object\n",
      "sex               151112 non-null object\n",
      "age               151112 non-null int64\n",
      "ip_address        151112 non-null float64\n",
      "class             151112 non-null int64\n",
      "dtypes: float64(1), int64(4), object(6)\n",
      "memory usage: 12.7+ MB\n"
     ]
    }
   ],
   "source": [
    "df_fraud.info()\n",
    "#print(df_fraud[df_fraud.isnull().any(axis=1)])"
   ]
  },
  {
   "cell_type": "code",
   "execution_count": 49,
   "metadata": {
    "colab": {
     "base_uri": "https://localhost:8080/",
     "height": 206
    },
    "colab_type": "code",
    "id": "R0xK1EoYUvo7",
    "outputId": "6d6716f1-c1ef-40a6-c6f7-061206fcee64"
   },
   "outputs": [
    {
     "data": {
      "text/html": [
       "<div>\n",
       "<style scoped>\n",
       "    .dataframe tbody tr th:only-of-type {\n",
       "        vertical-align: middle;\n",
       "    }\n",
       "\n",
       "    .dataframe tbody tr th {\n",
       "        vertical-align: top;\n",
       "    }\n",
       "\n",
       "    .dataframe thead th {\n",
       "        text-align: right;\n",
       "    }\n",
       "</style>\n",
       "<table border=\"1\" class=\"dataframe\">\n",
       "  <thead>\n",
       "    <tr style=\"text-align: right;\">\n",
       "      <th></th>\n",
       "      <th>lower_bound_ip_address</th>\n",
       "      <th>upper_bound_ip_address</th>\n",
       "      <th>country</th>\n",
       "    </tr>\n",
       "  </thead>\n",
       "  <tbody>\n",
       "    <tr>\n",
       "      <th>0</th>\n",
       "      <td>16777216.0</td>\n",
       "      <td>16777471</td>\n",
       "      <td>Australia</td>\n",
       "    </tr>\n",
       "    <tr>\n",
       "      <th>1</th>\n",
       "      <td>16777472.0</td>\n",
       "      <td>16777727</td>\n",
       "      <td>China</td>\n",
       "    </tr>\n",
       "    <tr>\n",
       "      <th>2</th>\n",
       "      <td>16777728.0</td>\n",
       "      <td>16778239</td>\n",
       "      <td>China</td>\n",
       "    </tr>\n",
       "    <tr>\n",
       "      <th>3</th>\n",
       "      <td>16778240.0</td>\n",
       "      <td>16779263</td>\n",
       "      <td>Australia</td>\n",
       "    </tr>\n",
       "    <tr>\n",
       "      <th>4</th>\n",
       "      <td>16779264.0</td>\n",
       "      <td>16781311</td>\n",
       "      <td>China</td>\n",
       "    </tr>\n",
       "  </tbody>\n",
       "</table>\n",
       "</div>"
      ],
      "text/plain": [
       "   lower_bound_ip_address  upper_bound_ip_address    country\n",
       "0              16777216.0                16777471  Australia\n",
       "1              16777472.0                16777727      China\n",
       "2              16777728.0                16778239      China\n",
       "3              16778240.0                16779263  Australia\n",
       "4              16779264.0                16781311      China"
      ]
     },
     "execution_count": 49,
     "metadata": {
      "tags": []
     },
     "output_type": "execute_result"
    }
   ],
   "source": [
    "df_ipcountry = pd.read_csv('drive/My Drive/DS-course2 - Dr. Xuan Ha/w2/IpAddress_to_Country.csv')\n",
    "df_ipcountry.head(5)"
   ]
  },
  {
   "cell_type": "code",
   "execution_count": 50,
   "metadata": {
    "colab": {
     "base_uri": "https://localhost:8080/",
     "height": 34
    },
    "colab_type": "code",
    "id": "PuwJxMFfOMff",
    "outputId": "927fccf5-6411-4f47-b4de-cf858241b407"
   },
   "outputs": [
    {
     "data": {
      "text/plain": [
       "(138846, 3)"
      ]
     },
     "execution_count": 50,
     "metadata": {
      "tags": []
     },
     "output_type": "execute_result"
    }
   ],
   "source": [
    "df_ipcountry.shape"
   ]
  },
  {
   "cell_type": "markdown",
   "metadata": {
    "colab_type": "text",
    "id": "BpzneQnjT8v6"
   },
   "source": [
    "# <a name =\"1\"></a> Adjusting the data"
   ]
  },
  {
   "cell_type": "code",
   "execution_count": 0,
   "metadata": {
    "colab": {},
    "colab_type": "code",
    "id": "kCc2XwK1V7vb"
   },
   "outputs": [],
   "source": [
    "x = df_fraud.ip_address.values\n",
    "xlower = df_ipcountry.lower_bound_ip_address.values\n",
    "xupper = df_ipcountry.upper_bound_ip_address.values\n",
    "#n,m = np.where((x[0:20000,None] >= xlower) & (x[0:20000,None] <= xupper))"
   ]
  },
  {
   "cell_type": "code",
   "execution_count": 9,
   "metadata": {
    "colab": {
     "base_uri": "https://localhost:8080/",
     "height": 139
    },
    "colab_type": "code",
    "id": "WNwksjYmiTrN",
    "outputId": "927e45a0-778a-4399-b9a6-1739103958a6"
   },
   "outputs": [
    {
     "name": "stdout",
     "output_type": "stream",
     "text": [
      "i = 0 ,processing...\n",
      "i = 30000 ,processing...\n",
      "i = 60000 ,processing...\n",
      "i = 90000 ,processing...\n",
      "i = 120000 ,processing...\n",
      "i = 151112 .end.\n",
      "--- 115.04504013061523 seconds ---\n"
     ]
    }
   ],
   "source": [
    "# Mapping the ip_address with df_ipcountry to find country name\n",
    "start_time = time.time()\n",
    "i = 0\n",
    "\n",
    "while i <= x.size:  \n",
    "  if i == 0:\n",
    "    a,b = np.where((x[i:i+30000,None] >= xlower) & (x[i:i+30000,None] <= xupper))\n",
    "    # np.where tựng hiện mapping giá trị ở x = ip_address với giá trị ở xlower và\n",
    "    # xupper ở bảng df_ipcountry -> trả về thứ tự vị trí tương ứng a trên df_fraud\n",
    "    # và b trên df_ipcountry.\n",
    "    n = a\n",
    "    m = b\n",
    "    print(\"i = %d ,processing...\"%i)\n",
    "  elif i < 150000:\n",
    "    a,b = np.where((x[i:i+30000,None] >= xlower) & (x[i:i+30000,None] <= xupper))\n",
    "    n = np.concatenate((n,a + i),axis = 0) \n",
    "    # cộng i bởi vì mỗi loop chỉ thực hiện 30000 dòng, cộng thêm để ra vị trí đúng\n",
    "    m = np.concatenate((m , b ),axis = 0)\n",
    "    print(\"i = %d ,processing...\"%i)\n",
    "  else:\n",
    "    a,b = np.where((x[i:151112,None] >= xlower) & (x[i:151112,None] <= xupper))\n",
    "    n = np.concatenate((n,(a+150000)),axis = 0) # tương tự cho vòng lặp cuối\n",
    "    m = np.concatenate((m,b),axis = 0)  \n",
    "    print(\"i = 151112 .end.\")\n",
    "  i +=  30000\n",
    "  \n",
    "print(\"--- %s seconds ---\" % (time.time() - start_time))"
   ]
  },
  {
   "cell_type": "code",
   "execution_count": 0,
   "metadata": {
    "colab": {},
    "colab_type": "code",
    "id": "abwZaLRx0fO2"
   },
   "outputs": [],
   "source": [
    "# merging df_freau and df_ipcountry with specific index number of cols to generate\n",
    "# the df_result which uses for modeling.\n",
    "df_result = pd.DataFrame(\n",
    "    np.column_stack([df_fraud.values[n], df_ipcountry.values[m]])\n",
    "    ,columns=df_fraud.columns.append(df_ipcountry.columns)\n",
    ").append(\n",
    "    df_fraud[~np.in1d(np.arange(len(df_fraud)), np.unique(n))],\n",
    "    ignore_index=True\n",
    ")"
   ]
  },
  {
   "cell_type": "code",
   "execution_count": 11,
   "metadata": {
    "colab": {
     "base_uri": "https://localhost:8080/",
     "height": 34
    },
    "colab_type": "code",
    "id": "-KOW43yuJ6AS",
    "outputId": "6c5759da-33e1-477e-d9d7-ac90433e72e5"
   },
   "outputs": [
    {
     "data": {
      "text/plain": [
       "(151112, 14)"
      ]
     },
     "execution_count": 11,
     "metadata": {
      "tags": []
     },
     "output_type": "execute_result"
    }
   ],
   "source": [
    "df_result.shape"
   ]
  },
  {
   "cell_type": "code",
   "execution_count": 12,
   "metadata": {
    "colab": {
     "base_uri": "https://localhost:8080/",
     "height": 34
    },
    "colab_type": "code",
    "id": "UVDG5bpGhZ1-",
    "outputId": "ab03c1bf-3692-4153-d2a6-d85d7585583e"
   },
   "outputs": [
    {
     "data": {
      "text/plain": [
       "21966"
      ]
     },
     "execution_count": 12,
     "metadata": {
      "tags": []
     },
     "output_type": "execute_result"
    }
   ],
   "source": [
    "df_result['country'].isna().sum()"
   ]
  },
  {
   "cell_type": "code",
   "execution_count": 0,
   "metadata": {
    "colab": {},
    "colab_type": "code",
    "id": "-8J7H9SoX_qE"
   },
   "outputs": [],
   "source": [
    "# I decide to drop 21966 data points with na in country or ip_adress. \n",
    "# We can debug this problem by using the geoip package to tracki the real country \n",
    "# for each ip_address. However,this is just an idea, thus it can make bias or mistake\n",
    "# when modeling the dataframe.\n",
    "df_result = pd.DataFrame(\n",
    "    np.column_stack([df_fraud.values[n], df_ipcountry.values[m]])\n",
    "    ,columns=df_fraud.columns.append(df_ipcountry.columns)\n",
    ")"
   ]
  },
  {
   "cell_type": "code",
   "execution_count": 14,
   "metadata": {
    "colab": {
     "base_uri": "https://localhost:8080/",
     "height": 313
    },
    "colab_type": "code",
    "id": "rdBws9iajeIS",
    "outputId": "6e201fae-f268-4ba0-cf06-f4c18072ab08"
   },
   "outputs": [
    {
     "data": {
      "text/html": [
       "<div>\n",
       "<style scoped>\n",
       "    .dataframe tbody tr th:only-of-type {\n",
       "        vertical-align: middle;\n",
       "    }\n",
       "\n",
       "    .dataframe tbody tr th {\n",
       "        vertical-align: top;\n",
       "    }\n",
       "\n",
       "    .dataframe thead th {\n",
       "        text-align: right;\n",
       "    }\n",
       "</style>\n",
       "<table border=\"1\" class=\"dataframe\">\n",
       "  <thead>\n",
       "    <tr style=\"text-align: right;\">\n",
       "      <th></th>\n",
       "      <th>user_id</th>\n",
       "      <th>signup_time</th>\n",
       "      <th>purchase_time</th>\n",
       "      <th>purchase_value</th>\n",
       "      <th>device_id</th>\n",
       "      <th>source</th>\n",
       "      <th>browser</th>\n",
       "      <th>sex</th>\n",
       "      <th>age</th>\n",
       "      <th>ip_address</th>\n",
       "      <th>class</th>\n",
       "      <th>lower_bound_ip_address</th>\n",
       "      <th>upper_bound_ip_address</th>\n",
       "      <th>country</th>\n",
       "    </tr>\n",
       "  </thead>\n",
       "  <tbody>\n",
       "    <tr>\n",
       "      <th>114608</th>\n",
       "      <td>1288</td>\n",
       "      <td>2015-02-20 00:31:38</td>\n",
       "      <td>2015-05-14 18:58:26</td>\n",
       "      <td>46</td>\n",
       "      <td>HVFCWQFPXGHPU</td>\n",
       "      <td>Ads</td>\n",
       "      <td>Safari</td>\n",
       "      <td>M</td>\n",
       "      <td>45</td>\n",
       "      <td>223970328.53</td>\n",
       "      <td>0</td>\n",
       "      <td>222298112.00</td>\n",
       "      <td>224395263</td>\n",
       "      <td>United States</td>\n",
       "    </tr>\n",
       "    <tr>\n",
       "      <th>70768</th>\n",
       "      <td>242596</td>\n",
       "      <td>2015-03-17 13:03:33</td>\n",
       "      <td>2015-03-27 22:56:13</td>\n",
       "      <td>39</td>\n",
       "      <td>QSIYWMVZUGHOQ</td>\n",
       "      <td>Ads</td>\n",
       "      <td>IE</td>\n",
       "      <td>M</td>\n",
       "      <td>26</td>\n",
       "      <td>3449317189.05</td>\n",
       "      <td>0</td>\n",
       "      <td>3449290752.00</td>\n",
       "      <td>3449356287</td>\n",
       "      <td>United States</td>\n",
       "    </tr>\n",
       "    <tr>\n",
       "      <th>96189</th>\n",
       "      <td>244819</td>\n",
       "      <td>2015-03-18 04:07:01</td>\n",
       "      <td>2015-05-06 07:46:40</td>\n",
       "      <td>82</td>\n",
       "      <td>VLDEADIGZUVSJ</td>\n",
       "      <td>Ads</td>\n",
       "      <td>Opera</td>\n",
       "      <td>M</td>\n",
       "      <td>19</td>\n",
       "      <td>3145035997.09</td>\n",
       "      <td>1</td>\n",
       "      <td>3144941568.00</td>\n",
       "      <td>3145203711</td>\n",
       "      <td>Brazil</td>\n",
       "    </tr>\n",
       "    <tr>\n",
       "      <th>19044</th>\n",
       "      <td>224555</td>\n",
       "      <td>2015-02-28 09:35:44</td>\n",
       "      <td>2015-04-24 08:33:24</td>\n",
       "      <td>22</td>\n",
       "      <td>YKPSRNNIHJMDX</td>\n",
       "      <td>SEO</td>\n",
       "      <td>Chrome</td>\n",
       "      <td>F</td>\n",
       "      <td>32</td>\n",
       "      <td>198883524.99</td>\n",
       "      <td>0</td>\n",
       "      <td>184549376.00</td>\n",
       "      <td>201326591</td>\n",
       "      <td>United States</td>\n",
       "    </tr>\n",
       "    <tr>\n",
       "      <th>71759</th>\n",
       "      <td>262814</td>\n",
       "      <td>2015-07-30 22:33:30</td>\n",
       "      <td>2015-09-03 14:55:53</td>\n",
       "      <td>22</td>\n",
       "      <td>RIUDDYQSTIVLQ</td>\n",
       "      <td>SEO</td>\n",
       "      <td>Chrome</td>\n",
       "      <td>M</td>\n",
       "      <td>48</td>\n",
       "      <td>220046068.09</td>\n",
       "      <td>0</td>\n",
       "      <td>218103808.00</td>\n",
       "      <td>222298111</td>\n",
       "      <td>United States</td>\n",
       "    </tr>\n",
       "  </tbody>\n",
       "</table>\n",
       "</div>"
      ],
      "text/plain": [
       "       user_id          signup_time        purchase_time purchase_value  \\\n",
       "114608    1288  2015-02-20 00:31:38  2015-05-14 18:58:26             46   \n",
       "70768   242596  2015-03-17 13:03:33  2015-03-27 22:56:13             39   \n",
       "96189   244819  2015-03-18 04:07:01  2015-05-06 07:46:40             82   \n",
       "19044   224555  2015-02-28 09:35:44  2015-04-24 08:33:24             22   \n",
       "71759   262814  2015-07-30 22:33:30  2015-09-03 14:55:53             22   \n",
       "\n",
       "            device_id source browser sex age    ip_address class  \\\n",
       "114608  HVFCWQFPXGHPU    Ads  Safari   M  45  223970328.53     0   \n",
       "70768   QSIYWMVZUGHOQ    Ads      IE   M  26 3449317189.05     0   \n",
       "96189   VLDEADIGZUVSJ    Ads   Opera   M  19 3145035997.09     1   \n",
       "19044   YKPSRNNIHJMDX    SEO  Chrome   F  32  198883524.99     0   \n",
       "71759   RIUDDYQSTIVLQ    SEO  Chrome   M  48  220046068.09     0   \n",
       "\n",
       "       lower_bound_ip_address upper_bound_ip_address        country  \n",
       "114608           222298112.00              224395263  United States  \n",
       "70768           3449290752.00             3449356287  United States  \n",
       "96189           3144941568.00             3145203711         Brazil  \n",
       "19044            184549376.00              201326591  United States  \n",
       "71759            218103808.00              222298111  United States  "
      ]
     },
     "execution_count": 14,
     "metadata": {
      "tags": []
     },
     "output_type": "execute_result"
    }
   ],
   "source": [
    "pd.options.display.float_format = '{:.2f}'.format\n",
    "df_result.sample(5)"
   ]
  },
  {
   "cell_type": "code",
   "execution_count": 15,
   "metadata": {
    "colab": {
     "base_uri": "https://localhost:8080/",
     "height": 34
    },
    "colab_type": "code",
    "id": "JhdYL-Etje-l",
    "outputId": "4a630295-4d6c-4dd5-929d-a26b1cdb52a4"
   },
   "outputs": [
    {
     "data": {
      "text/plain": [
       "(129146, 14)"
      ]
     },
     "execution_count": 15,
     "metadata": {
      "tags": []
     },
     "output_type": "execute_result"
    }
   ],
   "source": [
    "df_result.shape"
   ]
  },
  {
   "cell_type": "code",
   "execution_count": 16,
   "metadata": {
    "colab": {
     "base_uri": "https://localhost:8080/",
     "height": 347
    },
    "colab_type": "code",
    "id": "zEjWyajB6oP2",
    "outputId": "15e4e911-447d-472f-ce95-273537ed7af8"
   },
   "outputs": [
    {
     "name": "stdout",
     "output_type": "stream",
     "text": [
      "<class 'pandas.core.frame.DataFrame'>\n",
      "RangeIndex: 129146 entries, 0 to 129145\n",
      "Data columns (total 14 columns):\n",
      "user_id                   129146 non-null object\n",
      "signup_time               129146 non-null object\n",
      "purchase_time             129146 non-null object\n",
      "purchase_value            129146 non-null object\n",
      "device_id                 129146 non-null object\n",
      "source                    129146 non-null object\n",
      "browser                   129146 non-null object\n",
      "sex                       129146 non-null object\n",
      "age                       129146 non-null object\n",
      "ip_address                129146 non-null object\n",
      "class                     129146 non-null object\n",
      "lower_bound_ip_address    129146 non-null object\n",
      "upper_bound_ip_address    129146 non-null object\n",
      "country                   129146 non-null object\n",
      "dtypes: object(14)\n",
      "memory usage: 13.8+ MB\n"
     ]
    }
   ],
   "source": [
    "# check null in df_result\n",
    "#print('Train columns with null values:\\n', df_result.isnull().sum())\n",
    "df_result.info()"
   ]
  },
  {
   "cell_type": "markdown",
   "metadata": {
    "colab_type": "text",
    "id": "i6Rn_nJhwkSE"
   },
   "source": [
    "# <a name=\"2\"></a> Feature Engineering\n",
    "Dividing the feature of df_result into 2 types: Category and Numeric.\n"
   ]
  },
  {
   "cell_type": "code",
   "execution_count": 17,
   "metadata": {
    "colab": {
     "base_uri": "https://localhost:8080/",
     "height": 206
    },
    "colab_type": "code",
    "id": "5B3vzt8qjfPk",
    "outputId": "b28f342c-0a2f-43fc-8287-84e557ea2bf0"
   },
   "outputs": [
    {
     "data": {
      "text/html": [
       "<div>\n",
       "<style scoped>\n",
       "    .dataframe tbody tr th:only-of-type {\n",
       "        vertical-align: middle;\n",
       "    }\n",
       "\n",
       "    .dataframe tbody tr th {\n",
       "        vertical-align: top;\n",
       "    }\n",
       "\n",
       "    .dataframe thead th {\n",
       "        text-align: right;\n",
       "    }\n",
       "</style>\n",
       "<table border=\"1\" class=\"dataframe\">\n",
       "  <thead>\n",
       "    <tr style=\"text-align: right;\">\n",
       "      <th></th>\n",
       "      <th>class</th>\n",
       "      <th>device_id</th>\n",
       "      <th>source</th>\n",
       "      <th>browser</th>\n",
       "      <th>sex</th>\n",
       "      <th>country</th>\n",
       "    </tr>\n",
       "  </thead>\n",
       "  <tbody>\n",
       "    <tr>\n",
       "      <th>0</th>\n",
       "      <td>0</td>\n",
       "      <td>QVPSPJUOCKZAR</td>\n",
       "      <td>SEO</td>\n",
       "      <td>Chrome</td>\n",
       "      <td>M</td>\n",
       "      <td>Japan</td>\n",
       "    </tr>\n",
       "    <tr>\n",
       "      <th>1</th>\n",
       "      <td>0</td>\n",
       "      <td>EOGFQPIZPYXFZ</td>\n",
       "      <td>Ads</td>\n",
       "      <td>Chrome</td>\n",
       "      <td>F</td>\n",
       "      <td>United States</td>\n",
       "    </tr>\n",
       "    <tr>\n",
       "      <th>2</th>\n",
       "      <td>1</td>\n",
       "      <td>YSSKYOSJHPPLJ</td>\n",
       "      <td>SEO</td>\n",
       "      <td>Opera</td>\n",
       "      <td>M</td>\n",
       "      <td>United States</td>\n",
       "    </tr>\n",
       "    <tr>\n",
       "      <th>3</th>\n",
       "      <td>0</td>\n",
       "      <td>NAUITBZFJKHWW</td>\n",
       "      <td>Ads</td>\n",
       "      <td>Safari</td>\n",
       "      <td>M</td>\n",
       "      <td>United States</td>\n",
       "    </tr>\n",
       "    <tr>\n",
       "      <th>4</th>\n",
       "      <td>0</td>\n",
       "      <td>ALEYXFXINSXLZ</td>\n",
       "      <td>Ads</td>\n",
       "      <td>Chrome</td>\n",
       "      <td>M</td>\n",
       "      <td>Canada</td>\n",
       "    </tr>\n",
       "  </tbody>\n",
       "</table>\n",
       "</div>"
      ],
      "text/plain": [
       "  class      device_id source browser sex        country\n",
       "0     0  QVPSPJUOCKZAR    SEO  Chrome   M          Japan\n",
       "1     0  EOGFQPIZPYXFZ    Ads  Chrome   F  United States\n",
       "2     1  YSSKYOSJHPPLJ    SEO   Opera   M  United States\n",
       "3     0  NAUITBZFJKHWW    Ads  Safari   M  United States\n",
       "4     0  ALEYXFXINSXLZ    Ads  Chrome   M         Canada"
      ]
     },
     "execution_count": 17,
     "metadata": {
      "tags": []
     },
     "output_type": "execute_result"
    }
   ],
   "source": [
    "# categorical features ['source','browser','sex','country']\n",
    "categorical_cols = ['class','device_id','source','browser','sex','country']\n",
    "df_result[categorical_cols].head(5)"
   ]
  },
  {
   "cell_type": "code",
   "execution_count": 18,
   "metadata": {
    "colab": {
     "base_uri": "https://localhost:8080/",
     "height": 139
    },
    "colab_type": "code",
    "id": "qBOeZZdfjfUv",
    "outputId": "8c6af44a-68be-4888-feb9-5dbdbf3ef2f9"
   },
   "outputs": [
    {
     "name": "stdout",
     "output_type": "stream",
     "text": [
      "                   class\n",
      "country                 \n",
      "United States       5551\n",
      "China               1043\n",
      "Japan                715\n",
      "United Kingdom       477\n",
      "Korea Republic of    380\n"
     ]
    }
   ],
   "source": [
    "# I can feature out\n",
    "# 1. Showing the numer of fraud in each country\n",
    "fraud_country = df_result[['country','class']].groupby(['country']).agg({\"class\": \"sum\"})\n",
    "print(fraud_country.sort_values('class',ascending=False).head())"
   ]
  },
  {
   "cell_type": "code",
   "execution_count": 19,
   "metadata": {
    "colab": {
     "base_uri": "https://localhost:8080/",
     "height": 433
    },
    "colab_type": "code",
    "id": "q2BurCRL5PUR",
    "outputId": "a07f3ce2-6ac0-46bd-901d-a4a564e62f0b"
   },
   "outputs": [
    {
     "name": "stderr",
     "output_type": "stream",
     "text": [
      "/usr/local/lib/python3.6/dist-packages/seaborn/categorical.py:1428: FutureWarning: remove_na is deprecated and is a private function. Do not use.\n",
      "  stat_data = remove_na(group_data)\n"
     ]
    },
    {
     "data": {
      "text/plain": [
       "<matplotlib.axes._subplots.AxesSubplot at 0x7f1176886e80>"
      ]
     },
     "execution_count": 19,
     "metadata": {
      "tags": []
     },
     "output_type": "execute_result"
    },
    {
     "data": {
      "image/png": "[encoded data removed]",
      "text/plain": [
       "<matplotlib.figure.Figure at 0x7f118a8c22e8>"
      ]
     },
     "metadata": {
      "tags": []
     },
     "output_type": "display_data"
    }
   ],
   "source": [
    "fraud_brower = df_result[['browser','class']]\n",
    "sns.barplot(x=\"browser\", y=\"class\", data=fraud_brower, palette=\"Reds_d\", estimator = sum)"
   ]
  },
  {
   "cell_type": "code",
   "execution_count": 20,
   "metadata": {
    "colab": {
     "base_uri": "https://localhost:8080/",
     "height": 433
    },
    "colab_type": "code",
    "id": "uLe6B7Hk_ilg",
    "outputId": "8316b8ae-60e9-425f-9626-97f073c125b7"
   },
   "outputs": [
    {
     "name": "stderr",
     "output_type": "stream",
     "text": [
      "/usr/local/lib/python3.6/dist-packages/seaborn/categorical.py:1428: FutureWarning: remove_na is deprecated and is a private function. Do not use.\n",
      "  stat_data = remove_na(group_data)\n"
     ]
    },
    {
     "data": {
      "text/plain": [
       "<matplotlib.axes._subplots.AxesSubplot at 0x7f1175a86748>"
      ]
     },
     "execution_count": 20,
     "metadata": {
      "tags": []
     },
     "output_type": "execute_result"
    },
    {
     "data": {
      "image/png": "[encoded data removed]",
      "text/plain": [
       "<matplotlib.figure.Figure at 0x7f1175ab2fd0>"
      ]
     },
     "metadata": {
      "tags": []
     },
     "output_type": "display_data"
    }
   ],
   "source": [
    "fraud_source = df_result[['source','class']]\n",
    "sns.barplot(x=\"source\", y=\"class\", data=fraud_source, palette=\"Greens_d\", estimator = sum)"
   ]
  },
  {
   "cell_type": "code",
   "execution_count": 21,
   "metadata": {
    "colab": {
     "base_uri": "https://localhost:8080/",
     "height": 313
    },
    "colab_type": "code",
    "id": "k2S0JvgtHtVQ",
    "outputId": "142db01b-c6af-40cb-c8bc-20403df06a58"
   },
   "outputs": [
    {
     "data": {
      "text/html": [
       "<div>\n",
       "<style scoped>\n",
       "    .dataframe tbody tr th:only-of-type {\n",
       "        vertical-align: middle;\n",
       "    }\n",
       "\n",
       "    .dataframe tbody tr th {\n",
       "        vertical-align: top;\n",
       "    }\n",
       "\n",
       "    .dataframe thead th {\n",
       "        text-align: right;\n",
       "    }\n",
       "</style>\n",
       "<table border=\"1\" class=\"dataframe\">\n",
       "  <thead>\n",
       "    <tr style=\"text-align: right;\">\n",
       "      <th></th>\n",
       "      <th>user_id</th>\n",
       "      <th>signup_time</th>\n",
       "      <th>purchase_time</th>\n",
       "      <th>purchase_value</th>\n",
       "      <th>device_id</th>\n",
       "      <th>source</th>\n",
       "      <th>browser</th>\n",
       "      <th>sex</th>\n",
       "      <th>age</th>\n",
       "      <th>ip_address</th>\n",
       "      <th>class</th>\n",
       "      <th>lower_bound_ip_address</th>\n",
       "      <th>upper_bound_ip_address</th>\n",
       "      <th>country</th>\n",
       "    </tr>\n",
       "  </thead>\n",
       "  <tbody>\n",
       "    <tr>\n",
       "      <th>8973</th>\n",
       "      <td>120917</td>\n",
       "      <td>2015-01-27 21:14:34</td>\n",
       "      <td>2015-03-04 10:55:39</td>\n",
       "      <td>13</td>\n",
       "      <td>LSHILMMVKBBXI</td>\n",
       "      <td>2</td>\n",
       "      <td>0</td>\n",
       "      <td>1</td>\n",
       "      <td>37</td>\n",
       "      <td>1918413665.84</td>\n",
       "      <td>0</td>\n",
       "      <td>1917845504.00</td>\n",
       "      <td>1918894079</td>\n",
       "      <td>36</td>\n",
       "    </tr>\n",
       "    <tr>\n",
       "      <th>12872</th>\n",
       "      <td>282769</td>\n",
       "      <td>2015-07-27 14:57:49</td>\n",
       "      <td>2015-10-20 04:57:21</td>\n",
       "      <td>9</td>\n",
       "      <td>OVHKPAOKQQNWO</td>\n",
       "      <td>0</td>\n",
       "      <td>4</td>\n",
       "      <td>1</td>\n",
       "      <td>23</td>\n",
       "      <td>2962810996.91</td>\n",
       "      <td>0</td>\n",
       "      <td>2961178624.00</td>\n",
       "      <td>2965372927</td>\n",
       "      <td>60</td>\n",
       "    </tr>\n",
       "    <tr>\n",
       "      <th>36568</th>\n",
       "      <td>377782</td>\n",
       "      <td>2015-06-25 09:38:49</td>\n",
       "      <td>2015-09-13 21:02:32</td>\n",
       "      <td>75</td>\n",
       "      <td>DAHRZKSKTPWUW</td>\n",
       "      <td>0</td>\n",
       "      <td>1</td>\n",
       "      <td>0</td>\n",
       "      <td>39</td>\n",
       "      <td>246129888.98</td>\n",
       "      <td>0</td>\n",
       "      <td>245366784.00</td>\n",
       "      <td>247463935</td>\n",
       "      <td>176</td>\n",
       "    </tr>\n",
       "    <tr>\n",
       "      <th>30989</th>\n",
       "      <td>165322</td>\n",
       "      <td>2015-01-05 12:36:28</td>\n",
       "      <td>2015-04-09 15:39:29</td>\n",
       "      <td>53</td>\n",
       "      <td>NACZOBLPOPJFV</td>\n",
       "      <td>1</td>\n",
       "      <td>2</td>\n",
       "      <td>1</td>\n",
       "      <td>26</td>\n",
       "      <td>128704200.38</td>\n",
       "      <td>0</td>\n",
       "      <td>117440512.00</td>\n",
       "      <td>134217727</td>\n",
       "      <td>171</td>\n",
       "    </tr>\n",
       "    <tr>\n",
       "      <th>92991</th>\n",
       "      <td>318575</td>\n",
       "      <td>2015-01-16 05:59:46</td>\n",
       "      <td>2015-03-07 10:13:35</td>\n",
       "      <td>35</td>\n",
       "      <td>EHDYSYEAKPTCZ</td>\n",
       "      <td>0</td>\n",
       "      <td>0</td>\n",
       "      <td>1</td>\n",
       "      <td>31</td>\n",
       "      <td>677527326.49</td>\n",
       "      <td>0</td>\n",
       "      <td>671088640.00</td>\n",
       "      <td>679477247</td>\n",
       "      <td>171</td>\n",
       "    </tr>\n",
       "  </tbody>\n",
       "</table>\n",
       "</div>"
      ],
      "text/plain": [
       "      user_id          signup_time        purchase_time purchase_value  \\\n",
       "8973   120917  2015-01-27 21:14:34  2015-03-04 10:55:39             13   \n",
       "12872  282769  2015-07-27 14:57:49  2015-10-20 04:57:21              9   \n",
       "36568  377782  2015-06-25 09:38:49  2015-09-13 21:02:32             75   \n",
       "30989  165322  2015-01-05 12:36:28  2015-04-09 15:39:29             53   \n",
       "92991  318575  2015-01-16 05:59:46  2015-03-07 10:13:35             35   \n",
       "\n",
       "           device_id  source  browser  sex age    ip_address class  \\\n",
       "8973   LSHILMMVKBBXI       2        0    1  37 1918413665.84     0   \n",
       "12872  OVHKPAOKQQNWO       0        4    1  23 2962810996.91     0   \n",
       "36568  DAHRZKSKTPWUW       0        1    0  39  246129888.98     0   \n",
       "30989  NACZOBLPOPJFV       1        2    1  26  128704200.38     0   \n",
       "92991  EHDYSYEAKPTCZ       0        0    1  31  677527326.49     0   \n",
       "\n",
       "      lower_bound_ip_address upper_bound_ip_address  country  \n",
       "8973           1917845504.00             1918894079       36  \n",
       "12872          2961178624.00             2965372927       60  \n",
       "36568           245366784.00              247463935      176  \n",
       "30989           117440512.00              134217727      171  \n",
       "92991           671088640.00              679477247      171  "
      ]
     },
     "execution_count": 21,
     "metadata": {
      "tags": []
     },
     "output_type": "execute_result"
    }
   ],
   "source": [
    "# encoding the categorical features ['source','browser','sex','country']\n",
    "from sklearn.preprocessing import LabelEncoder\n",
    "le = LabelEncoder()\n",
    "df_result[['source','browser','sex','country']] = df_result[['source','browser','sex','country']].apply(le.fit_transform)\n",
    "df_result.sample(5)"
   ]
  },
  {
   "cell_type": "code",
   "execution_count": 0,
   "metadata": {
    "colab": {},
    "colab_type": "code",
    "id": "ILALwkY6D2NC"
   },
   "outputs": [],
   "source": [
    "# counting the repeated number of device_id\n",
    "df_result['device_usedtime'] = df_result.groupby('device_id')['user_id'].transform('size')\n",
    "#df_result.groupby(['device_id'])['user_id'].transform(lambda x : x.duplicated(keep=False).sum())"
   ]
  },
  {
   "cell_type": "code",
   "execution_count": 23,
   "metadata": {
    "colab": {
     "base_uri": "https://localhost:8080/",
     "height": 313
    },
    "colab_type": "code",
    "id": "6MKm4jR8Nutd",
    "outputId": "a8927acd-9e78-4015-9a18-33e27d798823"
   },
   "outputs": [
    {
     "data": {
      "text/html": [
       "<div>\n",
       "<style scoped>\n",
       "    .dataframe tbody tr th:only-of-type {\n",
       "        vertical-align: middle;\n",
       "    }\n",
       "\n",
       "    .dataframe tbody tr th {\n",
       "        vertical-align: top;\n",
       "    }\n",
       "\n",
       "    .dataframe thead th {\n",
       "        text-align: right;\n",
       "    }\n",
       "</style>\n",
       "<table border=\"1\" class=\"dataframe\">\n",
       "  <thead>\n",
       "    <tr style=\"text-align: right;\">\n",
       "      <th></th>\n",
       "      <th>user_id</th>\n",
       "      <th>signup_time</th>\n",
       "      <th>purchase_time</th>\n",
       "      <th>purchase_value</th>\n",
       "      <th>device_id</th>\n",
       "      <th>source</th>\n",
       "      <th>browser</th>\n",
       "      <th>sex</th>\n",
       "      <th>age</th>\n",
       "      <th>ip_address</th>\n",
       "      <th>class</th>\n",
       "      <th>lower_bound_ip_address</th>\n",
       "      <th>upper_bound_ip_address</th>\n",
       "      <th>country</th>\n",
       "      <th>device_usedtime</th>\n",
       "    </tr>\n",
       "  </thead>\n",
       "  <tbody>\n",
       "    <tr>\n",
       "      <th>37505</th>\n",
       "      <td>53692</td>\n",
       "      <td>2015-03-20 03:54:30</td>\n",
       "      <td>2015-06-03 03:54:44</td>\n",
       "      <td>25</td>\n",
       "      <td>KMKVLLZWYADRK</td>\n",
       "      <td>2</td>\n",
       "      <td>1</td>\n",
       "      <td>1</td>\n",
       "      <td>34</td>\n",
       "      <td>2932035265.90</td>\n",
       "      <td>0</td>\n",
       "      <td>2931818496.00</td>\n",
       "      <td>2936012799</td>\n",
       "      <td>171</td>\n",
       "      <td>1</td>\n",
       "    </tr>\n",
       "    <tr>\n",
       "      <th>16806</th>\n",
       "      <td>114643</td>\n",
       "      <td>2015-07-05 05:07:47</td>\n",
       "      <td>2015-07-29 01:51:41</td>\n",
       "      <td>57</td>\n",
       "      <td>PCDUNZHTXSBEA</td>\n",
       "      <td>1</td>\n",
       "      <td>2</td>\n",
       "      <td>0</td>\n",
       "      <td>23</td>\n",
       "      <td>3083526932.50</td>\n",
       "      <td>0</td>\n",
       "      <td>3082813440.00</td>\n",
       "      <td>3087007743</td>\n",
       "      <td>36</td>\n",
       "      <td>1</td>\n",
       "    </tr>\n",
       "    <tr>\n",
       "      <th>59020</th>\n",
       "      <td>272907</td>\n",
       "      <td>2015-02-06 09:49:05</td>\n",
       "      <td>2015-03-12 04:08:38</td>\n",
       "      <td>28</td>\n",
       "      <td>TPDMODIIVDAQW</td>\n",
       "      <td>0</td>\n",
       "      <td>2</td>\n",
       "      <td>1</td>\n",
       "      <td>21</td>\n",
       "      <td>541841888.81</td>\n",
       "      <td>0</td>\n",
       "      <td>536870912.00</td>\n",
       "      <td>553648127</td>\n",
       "      <td>171</td>\n",
       "      <td>1</td>\n",
       "    </tr>\n",
       "    <tr>\n",
       "      <th>116839</th>\n",
       "      <td>217837</td>\n",
       "      <td>2015-07-23 03:28:21</td>\n",
       "      <td>2015-09-14 17:11:28</td>\n",
       "      <td>44</td>\n",
       "      <td>FLASYKNKNKPPH</td>\n",
       "      <td>0</td>\n",
       "      <td>2</td>\n",
       "      <td>0</td>\n",
       "      <td>32</td>\n",
       "      <td>3468943768.35</td>\n",
       "      <td>0</td>\n",
       "      <td>3468943360.00</td>\n",
       "      <td>3468951551</td>\n",
       "      <td>171</td>\n",
       "      <td>1</td>\n",
       "    </tr>\n",
       "    <tr>\n",
       "      <th>54618</th>\n",
       "      <td>55775</td>\n",
       "      <td>2015-01-02 13:10:12</td>\n",
       "      <td>2015-01-02 13:10:13</td>\n",
       "      <td>26</td>\n",
       "      <td>BDIRFSGFIWPEP</td>\n",
       "      <td>1</td>\n",
       "      <td>0</td>\n",
       "      <td>1</td>\n",
       "      <td>25</td>\n",
       "      <td>509438338.34</td>\n",
       "      <td>1</td>\n",
       "      <td>503316480.00</td>\n",
       "      <td>520093695</td>\n",
       "      <td>171</td>\n",
       "      <td>11</td>\n",
       "    </tr>\n",
       "  </tbody>\n",
       "</table>\n",
       "</div>"
      ],
      "text/plain": [
       "       user_id          signup_time        purchase_time purchase_value  \\\n",
       "37505    53692  2015-03-20 03:54:30  2015-06-03 03:54:44             25   \n",
       "16806   114643  2015-07-05 05:07:47  2015-07-29 01:51:41             57   \n",
       "59020   272907  2015-02-06 09:49:05  2015-03-12 04:08:38             28   \n",
       "116839  217837  2015-07-23 03:28:21  2015-09-14 17:11:28             44   \n",
       "54618    55775  2015-01-02 13:10:12  2015-01-02 13:10:13             26   \n",
       "\n",
       "            device_id  source  browser  sex age    ip_address class  \\\n",
       "37505   KMKVLLZWYADRK       2        1    1  34 2932035265.90     0   \n",
       "16806   PCDUNZHTXSBEA       1        2    0  23 3083526932.50     0   \n",
       "59020   TPDMODIIVDAQW       0        2    1  21  541841888.81     0   \n",
       "116839  FLASYKNKNKPPH       0        2    0  32 3468943768.35     0   \n",
       "54618   BDIRFSGFIWPEP       1        0    1  25  509438338.34     1   \n",
       "\n",
       "       lower_bound_ip_address upper_bound_ip_address  country  device_usedtime  \n",
       "37505           2931818496.00             2936012799      171                1  \n",
       "16806           3082813440.00             3087007743       36                1  \n",
       "59020            536870912.00              553648127      171                1  \n",
       "116839          3468943360.00             3468951551      171                1  \n",
       "54618            503316480.00              520093695      171               11  "
      ]
     },
     "execution_count": 23,
     "metadata": {
      "tags": []
     },
     "output_type": "execute_result"
    }
   ],
   "source": [
    "df_result.sort_values('device_usedtime',ascending=False).sample(5)"
   ]
  },
  {
   "cell_type": "code",
   "execution_count": 0,
   "metadata": {
    "colab": {},
    "colab_type": "code",
    "id": "Fzf_JY_cNvEJ"
   },
   "outputs": [],
   "source": [
    "# Numerical feartures ['signup_time','purchase_time','purchase_value','age']"
   ]
  },
  {
   "cell_type": "code",
   "execution_count": 24,
   "metadata": {
    "colab": {
     "base_uri": "https://localhost:8080/",
     "height": 313
    },
    "colab_type": "code",
    "id": "iRQtaaRMNvBV",
    "outputId": "eed12b5b-b0d4-4053-fedf-0463098f8703"
   },
   "outputs": [
    {
     "data": {
      "text/html": [
       "<div>\n",
       "<style scoped>\n",
       "    .dataframe tbody tr th:only-of-type {\n",
       "        vertical-align: middle;\n",
       "    }\n",
       "\n",
       "    .dataframe tbody tr th {\n",
       "        vertical-align: top;\n",
       "    }\n",
       "\n",
       "    .dataframe thead th {\n",
       "        text-align: right;\n",
       "    }\n",
       "</style>\n",
       "<table border=\"1\" class=\"dataframe\">\n",
       "  <thead>\n",
       "    <tr style=\"text-align: right;\">\n",
       "      <th></th>\n",
       "      <th>user_id</th>\n",
       "      <th>signup_time</th>\n",
       "      <th>purchase_time</th>\n",
       "      <th>purchase_value</th>\n",
       "      <th>device_id</th>\n",
       "      <th>source</th>\n",
       "      <th>browser</th>\n",
       "      <th>sex</th>\n",
       "      <th>age</th>\n",
       "      <th>ip_address</th>\n",
       "      <th>class</th>\n",
       "      <th>lower_bound_ip_address</th>\n",
       "      <th>upper_bound_ip_address</th>\n",
       "      <th>country</th>\n",
       "      <th>device_usedtime</th>\n",
       "      <th>buying_time</th>\n",
       "    </tr>\n",
       "  </thead>\n",
       "  <tbody>\n",
       "    <tr>\n",
       "      <th>0</th>\n",
       "      <td>22058</td>\n",
       "      <td>2015-02-24 22:55:49</td>\n",
       "      <td>2015-04-18 02:47:11</td>\n",
       "      <td>34</td>\n",
       "      <td>QVPSPJUOCKZAR</td>\n",
       "      <td>2</td>\n",
       "      <td>0</td>\n",
       "      <td>1</td>\n",
       "      <td>39</td>\n",
       "      <td>732758368.80</td>\n",
       "      <td>0</td>\n",
       "      <td>729808896.00</td>\n",
       "      <td>734003199</td>\n",
       "      <td>84</td>\n",
       "      <td>1</td>\n",
       "      <td>75111.00</td>\n",
       "    </tr>\n",
       "    <tr>\n",
       "      <th>1</th>\n",
       "      <td>333320</td>\n",
       "      <td>2015-06-07 20:39:50</td>\n",
       "      <td>2015-06-08 01:38:54</td>\n",
       "      <td>16</td>\n",
       "      <td>EOGFQPIZPYXFZ</td>\n",
       "      <td>0</td>\n",
       "      <td>0</td>\n",
       "      <td>0</td>\n",
       "      <td>53</td>\n",
       "      <td>350311387.87</td>\n",
       "      <td>0</td>\n",
       "      <td>335544320.00</td>\n",
       "      <td>352321535</td>\n",
       "      <td>171</td>\n",
       "      <td>1</td>\n",
       "      <td>299.00</td>\n",
       "    </tr>\n",
       "    <tr>\n",
       "      <th>2</th>\n",
       "      <td>1359</td>\n",
       "      <td>2015-01-01 18:52:44</td>\n",
       "      <td>2015-01-01 18:52:45</td>\n",
       "      <td>15</td>\n",
       "      <td>YSSKYOSJHPPLJ</td>\n",
       "      <td>2</td>\n",
       "      <td>3</td>\n",
       "      <td>1</td>\n",
       "      <td>53</td>\n",
       "      <td>2621473820.11</td>\n",
       "      <td>1</td>\n",
       "      <td>2621440000.00</td>\n",
       "      <td>2621505535</td>\n",
       "      <td>171</td>\n",
       "      <td>12</td>\n",
       "      <td>0.00</td>\n",
       "    </tr>\n",
       "    <tr>\n",
       "      <th>3</th>\n",
       "      <td>221365</td>\n",
       "      <td>2015-07-21 07:09:52</td>\n",
       "      <td>2015-09-09 18:40:53</td>\n",
       "      <td>39</td>\n",
       "      <td>NAUITBZFJKHWW</td>\n",
       "      <td>0</td>\n",
       "      <td>4</td>\n",
       "      <td>1</td>\n",
       "      <td>45</td>\n",
       "      <td>415583117.45</td>\n",
       "      <td>0</td>\n",
       "      <td>415498240.00</td>\n",
       "      <td>415629311</td>\n",
       "      <td>171</td>\n",
       "      <td>1</td>\n",
       "      <td>72691.00</td>\n",
       "    </tr>\n",
       "    <tr>\n",
       "      <th>4</th>\n",
       "      <td>159135</td>\n",
       "      <td>2015-05-21 06:03:03</td>\n",
       "      <td>2015-07-09 08:05:14</td>\n",
       "      <td>42</td>\n",
       "      <td>ALEYXFXINSXLZ</td>\n",
       "      <td>0</td>\n",
       "      <td>0</td>\n",
       "      <td>1</td>\n",
       "      <td>18</td>\n",
       "      <td>2809315199.93</td>\n",
       "      <td>0</td>\n",
       "      <td>2809266176.00</td>\n",
       "      <td>2809331711</td>\n",
       "      <td>32</td>\n",
       "      <td>1</td>\n",
       "      <td>70682.00</td>\n",
       "    </tr>\n",
       "  </tbody>\n",
       "</table>\n",
       "</div>"
      ],
      "text/plain": [
       "  user_id          signup_time        purchase_time purchase_value  \\\n",
       "0   22058  2015-02-24 22:55:49  2015-04-18 02:47:11             34   \n",
       "1  333320  2015-06-07 20:39:50  2015-06-08 01:38:54             16   \n",
       "2    1359  2015-01-01 18:52:44  2015-01-01 18:52:45             15   \n",
       "3  221365  2015-07-21 07:09:52  2015-09-09 18:40:53             39   \n",
       "4  159135  2015-05-21 06:03:03  2015-07-09 08:05:14             42   \n",
       "\n",
       "       device_id  source  browser  sex age    ip_address class  \\\n",
       "0  QVPSPJUOCKZAR       2        0    1  39  732758368.80     0   \n",
       "1  EOGFQPIZPYXFZ       0        0    0  53  350311387.87     0   \n",
       "2  YSSKYOSJHPPLJ       2        3    1  53 2621473820.11     1   \n",
       "3  NAUITBZFJKHWW       0        4    1  45  415583117.45     0   \n",
       "4  ALEYXFXINSXLZ       0        0    1  18 2809315199.93     0   \n",
       "\n",
       "  lower_bound_ip_address upper_bound_ip_address  country  device_usedtime  \\\n",
       "0           729808896.00              734003199       84                1   \n",
       "1           335544320.00              352321535      171                1   \n",
       "2          2621440000.00             2621505535      171               12   \n",
       "3           415498240.00              415629311      171                1   \n",
       "4          2809266176.00             2809331711       32                1   \n",
       "\n",
       "   buying_time  \n",
       "0     75111.00  \n",
       "1       299.00  \n",
       "2         0.00  \n",
       "3     72691.00  \n",
       "4     70682.00  "
      ]
     },
     "execution_count": 24,
     "metadata": {
      "tags": []
     },
     "output_type": "execute_result"
    }
   ],
   "source": [
    "# calcualting the buying_time of user\n",
    "df_result['buying_time'] = abs(pd.to_datetime(df_result['purchase_time'])- \n",
    "                                 pd.to_datetime(df_result['signup_time'])).astype('timedelta64[m]')\n",
    "df_result.head()"
   ]
  },
  {
   "cell_type": "code",
   "execution_count": 0,
   "metadata": {
    "colab": {},
    "colab_type": "code",
    "id": "h78L1C9RWYGV"
   },
   "outputs": [],
   "source": [
    "df_result['age'] = df_result['age'].astype('float')\n",
    "df_result['purchase_value'] = df_result['purchase_value'].astype('float')"
   ]
  },
  {
   "cell_type": "code",
   "execution_count": 26,
   "metadata": {
    "colab": {
     "base_uri": "https://localhost:8080/",
     "height": 300
    },
    "colab_type": "code",
    "id": "iv0B3juINu-k",
    "outputId": "7d57820e-fb27-446d-85b2-79fb63005a63"
   },
   "outputs": [
    {
     "data": {
      "text/html": [
       "<div>\n",
       "<style scoped>\n",
       "    .dataframe tbody tr th:only-of-type {\n",
       "        vertical-align: middle;\n",
       "    }\n",
       "\n",
       "    .dataframe tbody tr th {\n",
       "        vertical-align: top;\n",
       "    }\n",
       "\n",
       "    .dataframe thead th {\n",
       "        text-align: right;\n",
       "    }\n",
       "</style>\n",
       "<table border=\"1\" class=\"dataframe\">\n",
       "  <thead>\n",
       "    <tr style=\"text-align: right;\">\n",
       "      <th></th>\n",
       "      <th>purchase_value</th>\n",
       "      <th>age</th>\n",
       "      <th>device_usedtime</th>\n",
       "      <th>buying_time</th>\n",
       "    </tr>\n",
       "  </thead>\n",
       "  <tbody>\n",
       "    <tr>\n",
       "      <th>count</th>\n",
       "      <td>129146.00</td>\n",
       "      <td>129146.00</td>\n",
       "      <td>129146.00</td>\n",
       "      <td>129146.00</td>\n",
       "    </tr>\n",
       "    <tr>\n",
       "      <th>mean</th>\n",
       "      <td>36.93</td>\n",
       "      <td>33.13</td>\n",
       "      <td>1.69</td>\n",
       "      <td>82120.37</td>\n",
       "    </tr>\n",
       "    <tr>\n",
       "      <th>std</th>\n",
       "      <td>18.32</td>\n",
       "      <td>8.62</td>\n",
       "      <td>2.65</td>\n",
       "      <td>52160.44</td>\n",
       "    </tr>\n",
       "    <tr>\n",
       "      <th>min</th>\n",
       "      <td>9.00</td>\n",
       "      <td>18.00</td>\n",
       "      <td>1.00</td>\n",
       "      <td>0.00</td>\n",
       "    </tr>\n",
       "    <tr>\n",
       "      <th>25%</th>\n",
       "      <td>22.00</td>\n",
       "      <td>27.00</td>\n",
       "      <td>1.00</td>\n",
       "      <td>36337.00</td>\n",
       "    </tr>\n",
       "    <tr>\n",
       "      <th>50%</th>\n",
       "      <td>35.00</td>\n",
       "      <td>33.00</td>\n",
       "      <td>1.00</td>\n",
       "      <td>82088.00</td>\n",
       "    </tr>\n",
       "    <tr>\n",
       "      <th>75%</th>\n",
       "      <td>49.00</td>\n",
       "      <td>39.00</td>\n",
       "      <td>1.00</td>\n",
       "      <td>127392.00</td>\n",
       "    </tr>\n",
       "    <tr>\n",
       "      <th>max</th>\n",
       "      <td>154.00</td>\n",
       "      <td>76.00</td>\n",
       "      <td>20.00</td>\n",
       "      <td>172799.00</td>\n",
       "    </tr>\n",
       "  </tbody>\n",
       "</table>\n",
       "</div>"
      ],
      "text/plain": [
       "       purchase_value       age  device_usedtime  buying_time\n",
       "count       129146.00 129146.00        129146.00    129146.00\n",
       "mean            36.93     33.13             1.69     82120.37\n",
       "std             18.32      8.62             2.65     52160.44\n",
       "min              9.00     18.00             1.00         0.00\n",
       "25%             22.00     27.00             1.00     36337.00\n",
       "50%             35.00     33.00             1.00     82088.00\n",
       "75%             49.00     39.00             1.00    127392.00\n",
       "max            154.00     76.00            20.00    172799.00"
      ]
     },
     "execution_count": 26,
     "metadata": {
      "tags": []
     },
     "output_type": "execute_result"
    }
   ],
   "source": [
    "# using describe() fucntion, i can analyze the descriptive statistics included:\n",
    "# count, mean, std, min, max, percentiles.\n",
    "df_result[['purchase_value','age','device_usedtime','buying_time']].describe()"
   ]
  },
  {
   "cell_type": "code",
   "execution_count": 0,
   "metadata": {
    "colab": {},
    "colab_type": "code",
    "id": "wtaGkvblX0MA"
   },
   "outputs": [],
   "source": [
    "# By this result, categorizing the numerical feature as: purchase_value,\n",
    "# age and buying_time into 3 grouds attributed by 3 percentiles."
   ]
  },
  {
   "cell_type": "code",
   "execution_count": 0,
   "metadata": {
    "colab": {},
    "colab_type": "code",
    "id": "Xp0Ecj-VbjYX"
   },
   "outputs": [],
   "source": [
    "# purchase_vale\n",
    "df_result['group_purchase_value'] = pd.cut(df_result['purchase_value'],3)"
   ]
  },
  {
   "cell_type": "code",
   "execution_count": 28,
   "metadata": {
    "colab": {
     "base_uri": "https://localhost:8080/",
     "height": 143
    },
    "colab_type": "code",
    "id": "fYWjxSUTc4AU",
    "outputId": "6dcf30bf-fe1a-44b7-9a62-7ced745cc99d"
   },
   "outputs": [
    {
     "data": {
      "text/html": [
       "<div>\n",
       "<style scoped>\n",
       "    .dataframe tbody tr th:only-of-type {\n",
       "        vertical-align: middle;\n",
       "    }\n",
       "\n",
       "    .dataframe tbody tr th {\n",
       "        vertical-align: top;\n",
       "    }\n",
       "\n",
       "    .dataframe thead th {\n",
       "        text-align: right;\n",
       "    }\n",
       "</style>\n",
       "<table border=\"1\" class=\"dataframe\">\n",
       "  <thead>\n",
       "    <tr style=\"text-align: right;\">\n",
       "      <th></th>\n",
       "      <th>group_purchase_value</th>\n",
       "      <th>class</th>\n",
       "    </tr>\n",
       "  </thead>\n",
       "  <tbody>\n",
       "    <tr>\n",
       "      <th>0</th>\n",
       "      <td>(8.855, 57.333]</td>\n",
       "      <td>0.85</td>\n",
       "    </tr>\n",
       "    <tr>\n",
       "      <th>1</th>\n",
       "      <td>(57.333, 105.667]</td>\n",
       "      <td>0.15</td>\n",
       "    </tr>\n",
       "    <tr>\n",
       "      <th>2</th>\n",
       "      <td>(105.667, 154.0]</td>\n",
       "      <td>0.00</td>\n",
       "    </tr>\n",
       "  </tbody>\n",
       "</table>\n",
       "</div>"
      ],
      "text/plain": [
       "  group_purchase_value  class\n",
       "0      (8.855, 57.333]   0.85\n",
       "1    (57.333, 105.667]   0.15\n",
       "2     (105.667, 154.0]   0.00"
      ]
     },
     "execution_count": 28,
     "metadata": {
      "tags": []
     },
     "output_type": "execute_result"
    }
   ],
   "source": [
    "df_t = df_result[['group_purchase_value', 'class']].groupby(\n",
    "    ['group_purchase_value'], as_index=False).sum()\n",
    "df_t['class'] = pd.to_numeric(df_t['class']/df_result['class'].sum())\n",
    "df_t"
   ]
  },
  {
   "cell_type": "code",
   "execution_count": 29,
   "metadata": {
    "colab": {
     "base_uri": "https://localhost:8080/",
     "height": 34
    },
    "colab_type": "code",
    "id": "fehBToXoX0gX",
    "outputId": "67175622-b8f4-4097-cc8b-02145277e052"
   },
   "outputs": [
    {
     "data": {
      "text/plain": [
       "pandas.core.series.Series"
      ]
     },
     "execution_count": 29,
     "metadata": {
      "tags": []
     },
     "output_type": "execute_result"
    }
   ],
   "source": [
    "type(df_result['purchase_value'])"
   ]
  },
  {
   "cell_type": "code",
   "execution_count": 0,
   "metadata": {
    "colab": {},
    "colab_type": "code",
    "id": "v6GhToqfX0nd"
   },
   "outputs": [],
   "source": [
    "df_result.loc[df_result['purchase_value']<57,'purchase_value'] =0\n",
    "df_result.loc[(df_result['purchase_value']>=57) &(df_result['purchase_value']<105),'purchase_value'] =1\n",
    "df_result.loc[df_result['purchase_value']>=105,'purchase_value'] =2"
   ]
  },
  {
   "cell_type": "code",
   "execution_count": 0,
   "metadata": {
    "colab": {},
    "colab_type": "code",
    "id": "gQ2g7UETX0k7"
   },
   "outputs": [],
   "source": [
    "# buying_time\n",
    "df_result['group_buying_time'] = pd.cut(df_result['buying_time'],3)"
   ]
  },
  {
   "cell_type": "code",
   "execution_count": 32,
   "metadata": {
    "colab": {
     "base_uri": "https://localhost:8080/",
     "height": 143
    },
    "colab_type": "code",
    "id": "mEOdqulSX0Rh",
    "outputId": "98f9596f-d087-40e3-c866-bb0862f9d49b"
   },
   "outputs": [
    {
     "data": {
      "text/html": [
       "<div>\n",
       "<style scoped>\n",
       "    .dataframe tbody tr th:only-of-type {\n",
       "        vertical-align: middle;\n",
       "    }\n",
       "\n",
       "    .dataframe tbody tr th {\n",
       "        vertical-align: top;\n",
       "    }\n",
       "\n",
       "    .dataframe thead th {\n",
       "        text-align: right;\n",
       "    }\n",
       "</style>\n",
       "<table border=\"1\" class=\"dataframe\">\n",
       "  <thead>\n",
       "    <tr style=\"text-align: right;\">\n",
       "      <th></th>\n",
       "      <th>group_buying_time</th>\n",
       "      <th>class</th>\n",
       "    </tr>\n",
       "  </thead>\n",
       "  <tbody>\n",
       "    <tr>\n",
       "      <th>0</th>\n",
       "      <td>(-172.799, 57599.667]</td>\n",
       "      <td>0.69</td>\n",
       "    </tr>\n",
       "    <tr>\n",
       "      <th>1</th>\n",
       "      <td>(57599.667, 115199.333]</td>\n",
       "      <td>0.15</td>\n",
       "    </tr>\n",
       "    <tr>\n",
       "      <th>2</th>\n",
       "      <td>(115199.333, 172799.0]</td>\n",
       "      <td>0.16</td>\n",
       "    </tr>\n",
       "  </tbody>\n",
       "</table>\n",
       "</div>"
      ],
      "text/plain": [
       "         group_buying_time  class\n",
       "0    (-172.799, 57599.667]   0.69\n",
       "1  (57599.667, 115199.333]   0.15\n",
       "2   (115199.333, 172799.0]   0.16"
      ]
     },
     "execution_count": 32,
     "metadata": {
      "tags": []
     },
     "output_type": "execute_result"
    }
   ],
   "source": [
    "df_t = df_result[['group_buying_time', 'class']].groupby(\n",
    "    ['group_buying_time'], as_index=False).sum()\n",
    "df_t['class'] = pd.to_numeric(df_t['class']/df_result['class'].sum())\n",
    "df_t"
   ]
  },
  {
   "cell_type": "code",
   "execution_count": 0,
   "metadata": {
    "colab": {},
    "colab_type": "code",
    "id": "3NUGdDV-hT-Y"
   },
   "outputs": [],
   "source": [
    "df_result.loc[df_result['buying_time']<57600,'buying_time'] =0\n",
    "df_result.loc[(df_result['buying_time']>=57600) &(df_result['buying_time']<115200),'buying_time'] =1\n",
    "df_result.loc[df_result['buying_time']>=115200,'buying_time'] =2"
   ]
  },
  {
   "cell_type": "code",
   "execution_count": 0,
   "metadata": {
    "colab": {},
    "colab_type": "code",
    "id": "QqnbHaqbhmOO"
   },
   "outputs": [],
   "source": [
    "# age\n",
    "df_result['group_age'] = pd.cut(df_result['age'],3)"
   ]
  },
  {
   "cell_type": "code",
   "execution_count": 35,
   "metadata": {
    "colab": {
     "base_uri": "https://localhost:8080/",
     "height": 143
    },
    "colab_type": "code",
    "id": "a5fpkAWbhmhC",
    "outputId": "b6f74176-6015-4b2c-d188-3187aae7883a"
   },
   "outputs": [
    {
     "data": {
      "text/html": [
       "<div>\n",
       "<style scoped>\n",
       "    .dataframe tbody tr th:only-of-type {\n",
       "        vertical-align: middle;\n",
       "    }\n",
       "\n",
       "    .dataframe tbody tr th {\n",
       "        vertical-align: top;\n",
       "    }\n",
       "\n",
       "    .dataframe thead th {\n",
       "        text-align: right;\n",
       "    }\n",
       "</style>\n",
       "<table border=\"1\" class=\"dataframe\">\n",
       "  <thead>\n",
       "    <tr style=\"text-align: right;\">\n",
       "      <th></th>\n",
       "      <th>group_age</th>\n",
       "      <th>class</th>\n",
       "    </tr>\n",
       "  </thead>\n",
       "  <tbody>\n",
       "    <tr>\n",
       "      <th>0</th>\n",
       "      <td>(17.942, 37.333]</td>\n",
       "      <td>0.70</td>\n",
       "    </tr>\n",
       "    <tr>\n",
       "      <th>1</th>\n",
       "      <td>(37.333, 56.667]</td>\n",
       "      <td>0.29</td>\n",
       "    </tr>\n",
       "    <tr>\n",
       "      <th>2</th>\n",
       "      <td>(56.667, 76.0]</td>\n",
       "      <td>0.01</td>\n",
       "    </tr>\n",
       "  </tbody>\n",
       "</table>\n",
       "</div>"
      ],
      "text/plain": [
       "          group_age  class\n",
       "0  (17.942, 37.333]   0.70\n",
       "1  (37.333, 56.667]   0.29\n",
       "2    (56.667, 76.0]   0.01"
      ]
     },
     "execution_count": 35,
     "metadata": {
      "tags": []
     },
     "output_type": "execute_result"
    }
   ],
   "source": [
    "df_t = df_result[['group_age', 'class']].groupby(\n",
    "    ['group_age'], as_index=False).sum()\n",
    "df_t['class'] = pd.to_numeric(df_t['class']/df_result['class'].sum())\n",
    "df_t"
   ]
  },
  {
   "cell_type": "code",
   "execution_count": 0,
   "metadata": {
    "colab": {},
    "colab_type": "code",
    "id": "d7E3XqHBhmrP"
   },
   "outputs": [],
   "source": [
    "df_result.loc[df_result['age']<38,'age'] =0\n",
    "df_result.loc[(df_result['age']>=38) &(df_result['age']<56),'buying_time'] =1\n",
    "df_result.loc[df_result['age']>=56,'buying_time'] =2"
   ]
  },
  {
   "cell_type": "code",
   "execution_count": 0,
   "metadata": {
    "colab": {},
    "colab_type": "code",
    "id": "pt1J6Uxy7p21"
   },
   "outputs": [],
   "source": [
    "from google.colab import files\n",
    "df_model = pd.DataFrame(df_result)\n",
    "df_model.to_csv('df_model.csv')\n",
    "# Create & upload a file.\n",
    "uploaded = drive.CreateFile({'title': 'df_model.csv'})\n",
    "uploaded.SetContentFile('df_model.csv')\n",
    "uploaded.Upload()"
   ]
  },
  {
   "cell_type": "code",
   "execution_count": 0,
   "metadata": {
    "colab": {},
    "colab_type": "code",
    "id": "Q7fyZh7viIWw"
   },
   "outputs": [],
   "source": [
    "# final data for modelling"
   ]
  },
  {
   "cell_type": "code",
   "execution_count": 0,
   "metadata": {
    "colab": {},
    "colab_type": "code",
    "id": "-ajLh41biIwy"
   },
   "outputs": [],
   "source": [
    "import pandas as pd\n",
    "import numpy as np\n",
    "import seaborn as sns\n",
    "import time\n",
    "df_result = pd.read_csv('df_model.csv')\n",
    "df_result.drop(['user_id','signup_time','purchase_time','device_id',\n",
    "                          'ip_address','lower_bound_ip_address','upper_bound_ip_address',\n",
    "                          'group_purchase_value','group_buying_time','group_age'],\n",
    "                          axis = 1 ,inplace = True)"
   ]
  },
  {
   "cell_type": "code",
   "execution_count": 9,
   "metadata": {
    "colab": {
     "base_uri": "https://localhost:8080/",
     "height": 206
    },
    "colab_type": "code",
    "id": "MopJOYiqiIj7",
    "outputId": "9b264ac5-a6b8-4215-bc50-b0a632b5be02"
   },
   "outputs": [
    {
     "data": {
      "text/html": [
       "<div>\n",
       "<style scoped>\n",
       "    .dataframe tbody tr th:only-of-type {\n",
       "        vertical-align: middle;\n",
       "    }\n",
       "\n",
       "    .dataframe tbody tr th {\n",
       "        vertical-align: top;\n",
       "    }\n",
       "\n",
       "    .dataframe thead th {\n",
       "        text-align: right;\n",
       "    }\n",
       "</style>\n",
       "<table border=\"1\" class=\"dataframe\">\n",
       "  <thead>\n",
       "    <tr style=\"text-align: right;\">\n",
       "      <th></th>\n",
       "      <th>purchase_value</th>\n",
       "      <th>source</th>\n",
       "      <th>browser</th>\n",
       "      <th>sex</th>\n",
       "      <th>age</th>\n",
       "      <th>class</th>\n",
       "      <th>country</th>\n",
       "      <th>device_usedtime</th>\n",
       "      <th>buying_time</th>\n",
       "    </tr>\n",
       "  </thead>\n",
       "  <tbody>\n",
       "    <tr>\n",
       "      <th>0</th>\n",
       "      <td>0.0</td>\n",
       "      <td>2</td>\n",
       "      <td>0</td>\n",
       "      <td>1</td>\n",
       "      <td>39.0</td>\n",
       "      <td>0</td>\n",
       "      <td>84</td>\n",
       "      <td>1</td>\n",
       "      <td>1.0</td>\n",
       "    </tr>\n",
       "    <tr>\n",
       "      <th>1</th>\n",
       "      <td>0.0</td>\n",
       "      <td>0</td>\n",
       "      <td>0</td>\n",
       "      <td>0</td>\n",
       "      <td>53.0</td>\n",
       "      <td>0</td>\n",
       "      <td>171</td>\n",
       "      <td>1</td>\n",
       "      <td>1.0</td>\n",
       "    </tr>\n",
       "    <tr>\n",
       "      <th>2</th>\n",
       "      <td>0.0</td>\n",
       "      <td>2</td>\n",
       "      <td>3</td>\n",
       "      <td>1</td>\n",
       "      <td>53.0</td>\n",
       "      <td>1</td>\n",
       "      <td>171</td>\n",
       "      <td>12</td>\n",
       "      <td>1.0</td>\n",
       "    </tr>\n",
       "    <tr>\n",
       "      <th>3</th>\n",
       "      <td>0.0</td>\n",
       "      <td>0</td>\n",
       "      <td>4</td>\n",
       "      <td>1</td>\n",
       "      <td>45.0</td>\n",
       "      <td>0</td>\n",
       "      <td>171</td>\n",
       "      <td>1</td>\n",
       "      <td>1.0</td>\n",
       "    </tr>\n",
       "    <tr>\n",
       "      <th>4</th>\n",
       "      <td>0.0</td>\n",
       "      <td>0</td>\n",
       "      <td>0</td>\n",
       "      <td>1</td>\n",
       "      <td>0.0</td>\n",
       "      <td>0</td>\n",
       "      <td>32</td>\n",
       "      <td>1</td>\n",
       "      <td>1.0</td>\n",
       "    </tr>\n",
       "  </tbody>\n",
       "</table>\n",
       "</div>"
      ],
      "text/plain": [
       "   purchase_value  source  browser  sex   age  class  country  \\\n",
       "0             0.0       2        0    1  39.0      0       84   \n",
       "1             0.0       0        0    0  53.0      0      171   \n",
       "2             0.0       2        3    1  53.0      1      171   \n",
       "3             0.0       0        4    1  45.0      0      171   \n",
       "4             0.0       0        0    1   0.0      0       32   \n",
       "\n",
       "   device_usedtime  buying_time  \n",
       "0                1          1.0  \n",
       "1                1          1.0  \n",
       "2               12          1.0  \n",
       "3                1          1.0  \n",
       "4                1          1.0  "
      ]
     },
     "execution_count": 9,
     "metadata": {
      "tags": []
     },
     "output_type": "execute_result"
    }
   ],
   "source": [
    "df_result.drop(['Unnamed: 0'],axis = 1 ,inplace = True)\n",
    "df_result.head()"
   ]
  },
  {
   "cell_type": "markdown",
   "metadata": {
    "colab_type": "text",
    "id": "GUtzlBYTjqOG"
   },
   "source": [
    "# <a name=\"3\"></a> Modeling"
   ]
  },
  {
   "cell_type": "code",
   "execution_count": 0,
   "metadata": {
    "colab": {},
    "colab_type": "code",
    "id": "JBjdTORlEDke"
   },
   "outputs": [],
   "source": [
    "# Calling ML algorithm from sklearn\n",
    "from sklearn.model_selection import train_test_split\n",
    "from sklearn.linear_model import LogisticRegression\n",
    "from sklearn.ensemble import RandomForestClassifier\n",
    "from sklearn.neighbors import KNeighborsClassifier\n",
    "from sklearn.naive_bayes import GaussianNB\n",
    "from sklearn.linear_model import SGDClassifier\n",
    "from sklearn.tree import DecisionTreeClassifier\n",
    "from sklearn import metrics"
   ]
  },
  {
   "cell_type": "code",
   "execution_count": 0,
   "metadata": {
    "colab": {},
    "colab_type": "code",
    "id": "en32Vf83jpLk"
   },
   "outputs": [],
   "source": [
    "# splitting dataframe\n",
    "y = df_result['class']\n",
    "X = df_result.drop(['class'],axis=1).copy()\n",
    "X_train, X_test, y_train, y_test = train_test_split(X, y, test_size=0.3, random_state=42)\n",
    "y_train = y_train.astype('int')\n",
    "y_test = y_test.astype('int')"
   ]
  },
  {
   "cell_type": "code",
   "execution_count": 11,
   "metadata": {
    "colab": {
     "base_uri": "https://localhost:8080/",
     "height": 143
    },
    "colab_type": "code",
    "id": "u7osgChKBaJv",
    "outputId": "da749ce3-7d3d-43fa-c5c5-ba5db0366419"
   },
   "outputs": [
    {
     "data": {
      "text/html": [
       "<div>\n",
       "<style scoped>\n",
       "    .dataframe tbody tr th:only-of-type {\n",
       "        vertical-align: middle;\n",
       "    }\n",
       "\n",
       "    .dataframe tbody tr th {\n",
       "        vertical-align: top;\n",
       "    }\n",
       "\n",
       "    .dataframe thead th {\n",
       "        text-align: right;\n",
       "    }\n",
       "</style>\n",
       "<table border=\"1\" class=\"dataframe\">\n",
       "  <thead>\n",
       "    <tr style=\"text-align: right;\">\n",
       "      <th></th>\n",
       "      <th>purchase_value</th>\n",
       "      <th>source</th>\n",
       "      <th>browser</th>\n",
       "      <th>sex</th>\n",
       "      <th>age</th>\n",
       "      <th>country</th>\n",
       "      <th>device_usedtime</th>\n",
       "      <th>buying_time</th>\n",
       "    </tr>\n",
       "    <tr>\n",
       "      <th>class</th>\n",
       "      <th></th>\n",
       "      <th></th>\n",
       "      <th></th>\n",
       "      <th></th>\n",
       "      <th></th>\n",
       "      <th></th>\n",
       "      <th></th>\n",
       "      <th></th>\n",
       "    </tr>\n",
       "  </thead>\n",
       "  <tbody>\n",
       "    <tr>\n",
       "      <th>0</th>\n",
       "      <td>0.153416</td>\n",
       "      <td>1.007940</td>\n",
       "      <td>1.380559</td>\n",
       "      <td>0.582907</td>\n",
       "      <td>12.975684</td>\n",
       "      <td>121.815380</td>\n",
       "      <td>1.112083</td>\n",
       "      <td>1.009275</td>\n",
       "    </tr>\n",
       "    <tr>\n",
       "      <th>1</th>\n",
       "      <td>0.157809</td>\n",
       "      <td>0.997147</td>\n",
       "      <td>1.307711</td>\n",
       "      <td>0.596022</td>\n",
       "      <td>13.066922</td>\n",
       "      <td>122.344229</td>\n",
       "      <td>7.192370</td>\n",
       "      <td>0.634496</td>\n",
       "    </tr>\n",
       "  </tbody>\n",
       "</table>\n",
       "</div>"
      ],
      "text/plain": [
       "       purchase_value    source   browser       sex        age     country  \\\n",
       "class                                                                        \n",
       "0            0.153416  1.007940  1.380559  0.582907  12.975684  121.815380   \n",
       "1            0.157809  0.997147  1.307711  0.596022  13.066922  122.344229   \n",
       "\n",
       "       device_usedtime  buying_time  \n",
       "class                                \n",
       "0             1.112083     1.009275  \n",
       "1             7.192370     0.634496  "
      ]
     },
     "execution_count": 11,
     "metadata": {
      "tags": []
     },
     "output_type": "execute_result"
    }
   ],
   "source": [
    "df_result.groupby(['class']).mean()"
   ]
  },
  {
   "cell_type": "code",
   "execution_count": 12,
   "metadata": {
    "colab": {
     "base_uri": "https://localhost:8080/",
     "height": 688
    },
    "colab_type": "code",
    "id": "W-2qzepoB3Ab",
    "outputId": "b002cb24-bc6d-4272-83ee-56f6ff25a7fd"
   },
   "outputs": [
    {
     "data": {
      "image/png": "[encoded data removed]",
      "text/plain": [
       "<matplotlib.figure.Figure at 0x7f3c459f9c18>"
      ]
     },
     "metadata": {
      "tags": []
     },
     "output_type": "display_data"
    },
    {
     "data": {
      "text/html": [
       "<div>\n",
       "<style scoped>\n",
       "    .dataframe tbody tr th:only-of-type {\n",
       "        vertical-align: middle;\n",
       "    }\n",
       "\n",
       "    .dataframe tbody tr th {\n",
       "        vertical-align: top;\n",
       "    }\n",
       "\n",
       "    .dataframe thead th {\n",
       "        text-align: right;\n",
       "    }\n",
       "</style>\n",
       "<table border=\"1\" class=\"dataframe\">\n",
       "  <thead>\n",
       "    <tr style=\"text-align: right;\">\n",
       "      <th></th>\n",
       "      <th>purchase_value</th>\n",
       "      <th>source</th>\n",
       "      <th>browser</th>\n",
       "      <th>sex</th>\n",
       "      <th>age</th>\n",
       "      <th>class</th>\n",
       "      <th>country</th>\n",
       "      <th>device_usedtime</th>\n",
       "      <th>buying_time</th>\n",
       "    </tr>\n",
       "  </thead>\n",
       "  <tbody>\n",
       "    <tr>\n",
       "      <th>purchase_value</th>\n",
       "      <td>1.000000</td>\n",
       "      <td>-0.000795</td>\n",
       "      <td>0.001299</td>\n",
       "      <td>-0.003341</td>\n",
       "      <td>0.000806</td>\n",
       "      <td>0.003540</td>\n",
       "      <td>-0.000648</td>\n",
       "      <td>0.011079</td>\n",
       "      <td>0.003015</td>\n",
       "    </tr>\n",
       "    <tr>\n",
       "      <th>source</th>\n",
       "      <td>-0.000795</td>\n",
       "      <td>1.000000</td>\n",
       "      <td>0.006748</td>\n",
       "      <td>0.001572</td>\n",
       "      <td>-0.001132</td>\n",
       "      <td>-0.003543</td>\n",
       "      <td>-0.002081</td>\n",
       "      <td>-0.001610</td>\n",
       "      <td>0.005772</td>\n",
       "    </tr>\n",
       "    <tr>\n",
       "      <th>browser</th>\n",
       "      <td>0.001299</td>\n",
       "      <td>0.006748</td>\n",
       "      <td>1.000000</td>\n",
       "      <td>0.000941</td>\n",
       "      <td>-0.002084</td>\n",
       "      <td>-0.014827</td>\n",
       "      <td>0.000771</td>\n",
       "      <td>-0.021340</td>\n",
       "      <td>0.011004</td>\n",
       "    </tr>\n",
       "    <tr>\n",
       "      <th>sex</th>\n",
       "      <td>-0.003341</td>\n",
       "      <td>0.001572</td>\n",
       "      <td>0.000941</td>\n",
       "      <td>1.000000</td>\n",
       "      <td>0.000907</td>\n",
       "      <td>0.007802</td>\n",
       "      <td>-0.002022</td>\n",
       "      <td>0.008540</td>\n",
       "      <td>-0.005682</td>\n",
       "    </tr>\n",
       "    <tr>\n",
       "      <th>age</th>\n",
       "      <td>0.000806</td>\n",
       "      <td>-0.001132</td>\n",
       "      <td>-0.002084</td>\n",
       "      <td>0.000907</td>\n",
       "      <td>1.000000</td>\n",
       "      <td>0.001329</td>\n",
       "      <td>0.000108</td>\n",
       "      <td>0.002144</td>\n",
       "      <td>0.061448</td>\n",
       "    </tr>\n",
       "    <tr>\n",
       "      <th>class</th>\n",
       "      <td>0.003540</td>\n",
       "      <td>-0.003543</td>\n",
       "      <td>-0.014827</td>\n",
       "      <td>0.007802</td>\n",
       "      <td>0.001329</td>\n",
       "      <td>1.000000</td>\n",
       "      <td>0.002697</td>\n",
       "      <td>0.671768</td>\n",
       "      <td>-0.157174</td>\n",
       "    </tr>\n",
       "    <tr>\n",
       "      <th>country</th>\n",
       "      <td>-0.000648</td>\n",
       "      <td>-0.002081</td>\n",
       "      <td>0.000771</td>\n",
       "      <td>-0.002022</td>\n",
       "      <td>0.000108</td>\n",
       "      <td>0.002697</td>\n",
       "      <td>1.000000</td>\n",
       "      <td>0.001969</td>\n",
       "      <td>-0.002890</td>\n",
       "    </tr>\n",
       "    <tr>\n",
       "      <th>device_usedtime</th>\n",
       "      <td>0.011079</td>\n",
       "      <td>-0.001610</td>\n",
       "      <td>-0.021340</td>\n",
       "      <td>0.008540</td>\n",
       "      <td>0.002144</td>\n",
       "      <td>0.671768</td>\n",
       "      <td>0.001969</td>\n",
       "      <td>1.000000</td>\n",
       "      <td>-0.201757</td>\n",
       "    </tr>\n",
       "    <tr>\n",
       "      <th>buying_time</th>\n",
       "      <td>0.003015</td>\n",
       "      <td>0.005772</td>\n",
       "      <td>0.011004</td>\n",
       "      <td>-0.005682</td>\n",
       "      <td>0.061448</td>\n",
       "      <td>-0.157174</td>\n",
       "      <td>-0.002890</td>\n",
       "      <td>-0.201757</td>\n",
       "      <td>1.000000</td>\n",
       "    </tr>\n",
       "  </tbody>\n",
       "</table>\n",
       "</div>"
      ],
      "text/plain": [
       "                 purchase_value    source   browser       sex       age  \\\n",
       "purchase_value         1.000000 -0.000795  0.001299 -0.003341  0.000806   \n",
       "source                -0.000795  1.000000  0.006748  0.001572 -0.001132   \n",
       "browser                0.001299  0.006748  1.000000  0.000941 -0.002084   \n",
       "sex                   -0.003341  0.001572  0.000941  1.000000  0.000907   \n",
       "age                    0.000806 -0.001132 -0.002084  0.000907  1.000000   \n",
       "class                  0.003540 -0.003543 -0.014827  0.007802  0.001329   \n",
       "country               -0.000648 -0.002081  0.000771 -0.002022  0.000108   \n",
       "device_usedtime        0.011079 -0.001610 -0.021340  0.008540  0.002144   \n",
       "buying_time            0.003015  0.005772  0.011004 -0.005682  0.061448   \n",
       "\n",
       "                    class   country  device_usedtime  buying_time  \n",
       "purchase_value   0.003540 -0.000648         0.011079     0.003015  \n",
       "source          -0.003543 -0.002081        -0.001610     0.005772  \n",
       "browser         -0.014827  0.000771        -0.021340     0.011004  \n",
       "sex              0.007802 -0.002022         0.008540    -0.005682  \n",
       "age              0.001329  0.000108         0.002144     0.061448  \n",
       "class            1.000000  0.002697         0.671768    -0.157174  \n",
       "country          0.002697  1.000000         0.001969    -0.002890  \n",
       "device_usedtime  0.671768  0.001969         1.000000    -0.201757  \n",
       "buying_time     -0.157174 -0.002890        -0.201757     1.000000  "
      ]
     },
     "execution_count": 12,
     "metadata": {
      "tags": []
     },
     "output_type": "execute_result"
    }
   ],
   "source": [
    "import matplotlib.pyplot as plt\n",
    "\n",
    "correlations = df_result.corr()\n",
    "fig = plt.figure()\n",
    "ax = fig.add_subplot(111)\n",
    "cax = ax.matshow(correlations, vmin=-1, vmax=1)\n",
    "fig.colorbar(cax)\n",
    "names = ['']+list(df_result)\n",
    "ax.set_xticklabels(names)\n",
    "ax.set_yticklabels(names)\n",
    "plt.show()\n",
    "correlations"
   ]
  },
  {
   "cell_type": "markdown",
   "metadata": {
    "colab_type": "text",
    "id": "ElDiRv5hKQpq"
   },
   "source": [
    "I use 6 ML method to predict y_test and calcuating the result:\n",
    "  - Logistic Regression\n",
    "  - Decision Free\n",
    "  - Random Forest\n",
    "  - SGD \n",
    "  - KNN\n",
    "  - Gaussian Naive Bayes\n",
    " Besides, I also plot the confusion matrix. This  is a table that is often used to describe the performance of a classification model (or “classifier”) on a set of test data for which the true values are known.\n",
    " \n",
    " Moreover, the confusion matrix can give an idea for assigning the event row as “positive” and the no-event row as “negative“. We can then assign the event column of predictions as “true” and the no-event as “false“. This gives us:\n",
    "\n",
    "  -   “true positive” for correctly predicted event values.\n",
    "  -  “false positive” for incorrectly predicted event values.\n",
    "  -  “true negative” for correctly predicted no-event values.\n",
    "  -  “false negative” for incorrectly predicted no-event values.\n",
    "\n",
    "We can summarize this in the confusion matrix as follows:\n",
    "\t\n",
    "            |    event\t\t\t    |no-event\n",
    "    event   |\ttrue positive\t    |false positive\n",
    "    no-event|    false negative\t   |true negative\n",
    "\n",
    "This can help in calculating more advanced classification metrics such as precision, recall, specificity and sensitivity of our classifier."
   ]
  },
  {
   "cell_type": "code",
   "execution_count": 56,
   "metadata": {
    "colab": {
     "base_uri": "https://localhost:8080/",
     "height": 104
    },
    "colab_type": "code",
    "id": "BE2lDZUyjpRY",
    "outputId": "9863622b-401a-44a6-c60d-0fc3d0dd00c4"
   },
   "outputs": [
    {
     "name": "stdout",
     "output_type": "stream",
     "text": [
      "Logistic Regression accuracy score = 94.960000\n",
      "Confusion matrix\n",
      "[[34825   197]\n",
      " [ 1757  1965]]\n",
      "--- 2.920809745788574 seconds ---\n"
     ]
    }
   ],
   "source": [
    "# Logistic Regression\n",
    "start_time = time.time()\n",
    "logreg = LogisticRegression(C=1e5, solver='lbfgs', multi_class='multinomial')\n",
    "logreg.fit(X_train, y_train)\n",
    "y_pred = logreg.predict(X_test)\n",
    "score_logreg = round(logreg.score(X_test, y_test) * 100, 2)\n",
    "print('Logistic Regression accuracy score = %f' %score_logreg)\n",
    "print('Confusion matrix')\n",
    "print(metrics.confusion_matrix(y_test, y_pred))\n",
    "\n",
    "print(\"--- %s seconds ---\" % (time.time() - start_time))"
   ]
  },
  {
   "cell_type": "code",
   "execution_count": 57,
   "metadata": {
    "colab": {
     "base_uri": "https://localhost:8080/",
     "height": 104
    },
    "colab_type": "code",
    "id": "x5w0EGAbElPc",
    "outputId": "dad30e3b-b78c-4429-fd84-e1b350585a80"
   },
   "outputs": [
    {
     "name": "stdout",
     "output_type": "stream",
     "text": [
      "Logistic Regression accuracy score = 94.370000\n",
      "Confusion matrix\n",
      "[[34480   542]\n",
      " [ 1638  2084]]\n",
      "--- 0.23912596702575684 seconds ---\n"
     ]
    }
   ],
   "source": [
    "# Decision tree algorithm\n",
    "start_time = time.time()\n",
    "decision_tree = DecisionTreeClassifier()\n",
    "decision_tree.fit(X_train, y_train)\n",
    "y_pred = decision_tree.predict(X_test)\n",
    "score_decisiontree = round(decision_tree.score(X_test, y_test) * 100, 2)\n",
    "print('Logistic Regression accuracy score = %f' %score_decisiontree)\n",
    "print('Confusion matrix')\n",
    "print(metrics.confusion_matrix(y_test, y_pred))\n",
    "\n",
    "print(\"--- %s seconds ---\" % (time.time() - start_time))"
   ]
  },
  {
   "cell_type": "code",
   "execution_count": 58,
   "metadata": {
    "colab": {
     "base_uri": "https://localhost:8080/",
     "height": 104
    },
    "colab_type": "code",
    "id": "yziEonCvGmGY",
    "outputId": "38794dac-bb5c-44ce-d404-ea2b94e58dcf"
   },
   "outputs": [
    {
     "name": "stdout",
     "output_type": "stream",
     "text": [
      "Logistic Regression accuracy score = 94.770000\n",
      "Confusion matrix\n",
      "[[34635   387]\n",
      " [ 1640  2082]]\n",
      "--- 7.097902536392212 seconds ---\n"
     ]
    }
   ],
   "source": [
    "# Random forest algorithm\n",
    "start_time = time.time()\n",
    "random_forest = RandomForestClassifier(n_estimators=100)\n",
    "random_forest.fit(X_train, y_train)\n",
    "y_pred = random_forest.predict(X_test)\n",
    "score_randomforest = round(random_forest.score(X_test, y_test) * 100, 2)\n",
    "print('Logistic Regression accuracy score = %f' %score_randomforest)\n",
    "print('Confusion matrix')\n",
    "print(metrics.confusion_matrix(y_test, y_pred))\n",
    "\n",
    "print(\"--- %s seconds ---\" % (time.time() - start_time))"
   ]
  },
  {
   "cell_type": "code",
   "execution_count": 59,
   "metadata": {
    "colab": {
     "base_uri": "https://localhost:8080/",
     "height": 159
    },
    "colab_type": "code",
    "id": "NXPkkFhDGmUQ",
    "outputId": "e0ac571d-3ba2-4c59-f952-c203a790f4bf"
   },
   "outputs": [
    {
     "name": "stdout",
     "output_type": "stream",
     "text": [
      "Stochastic Gradient Descent accuracy score = 94.400000\n",
      "Confusion matrix\n",
      "[[34859   163]\n",
      " [ 2006  1716]]\n",
      "--- 0.14350342750549316 seconds ---\n"
     ]
    },
    {
     "name": "stderr",
     "output_type": "stream",
     "text": [
      "/usr/local/lib/python3.6/dist-packages/sklearn/linear_model/stochastic_gradient.py:128: FutureWarning: max_iter and tol parameters have been added in <class 'sklearn.linear_model.stochastic_gradient.SGDClassifier'> in 0.19. If both are left unset, they default to max_iter=5 and tol=None. If tol is not None, max_iter defaults to max_iter=1000. From 0.21, default max_iter will be 1000, and default tol will be 1e-3.\n",
      "  \"and default tol will be 1e-3.\" % type(self), FutureWarning)\n"
     ]
    }
   ],
   "source": [
    "# Stochastic Gradient Descent\n",
    "start_time = time.time()\n",
    "sgd = SGDClassifier()\n",
    "sgd.fit(X_train, y_train)\n",
    "y_pred = sgd.predict(X_test)\n",
    "score_sgd = round(sgd.score(X_test, y_test) * 100, 2)\n",
    "print('Stochastic Gradient Descent accuracy score = %f' %score_sgd)\n",
    "print('Confusion matrix')\n",
    "print(metrics.confusion_matrix(y_test, y_pred))\n",
    "\n",
    "print(\"--- %s seconds ---\" % (time.time() - start_time))"
   ]
  },
  {
   "cell_type": "code",
   "execution_count": 61,
   "metadata": {
    "colab": {
     "base_uri": "https://localhost:8080/",
     "height": 104
    },
    "colab_type": "code",
    "id": "V8E7WnkyGmeC",
    "outputId": "1bde6b3e-8f87-4c84-8107-20ad8753bfd5"
   },
   "outputs": [
    {
     "name": "stdout",
     "output_type": "stream",
     "text": [
      "KNeighborsClassifier accuracy score = 95.310000\n",
      "Confusion matrix\n",
      "[[34822   200]\n",
      " [ 1700  2022]]\n",
      "--- 19.25624990463257 seconds ---\n"
     ]
    }
   ],
   "source": [
    "#KNeighborsClassifier\n",
    "start_time = time.time()\n",
    "knn = KNeighborsClassifier(n_neighbors = 6)\n",
    "knn.fit(X_train, y_train)\n",
    "y_pred = knn.predict(X_test)\n",
    "score_knn = round(knn.score(X_train, y_train) * 100, 2)\n",
    "print('KNeighborsClassifier accuracy score = %f' %score_knn)\n",
    "print('Confusion matrix')\n",
    "print(metrics.confusion_matrix(y_test, y_pred))\n",
    "\n",
    "print(\"--- %s seconds ---\" % (time.time() - start_time))"
   ]
  },
  {
   "cell_type": "code",
   "execution_count": 63,
   "metadata": {
    "colab": {
     "base_uri": "https://localhost:8080/",
     "height": 104
    },
    "colab_type": "code",
    "id": "PGf7vdl1KT86",
    "outputId": "c3a03cfb-9a91-4594-f9b8-b54a4548d157"
   },
   "outputs": [
    {
     "name": "stdout",
     "output_type": "stream",
     "text": [
      "KNeighborsClassifier accuracy score = 95.190000\n",
      "Confusion matrix\n",
      "[[34818   204]\n",
      " [ 1709  2013]]\n",
      "--- 0.08650493621826172 seconds ---\n"
     ]
    }
   ],
   "source": [
    "# Gaussian Naive Bayes\n",
    "start_time = time.time()\n",
    "gaussian = GaussianNB()\n",
    "gaussian.fit(X_train, y_train)\n",
    "y_pred = gaussian.predict(X_test)\n",
    "score_gnb = round(gaussian.score(X_train, y_train) * 100, 2)\n",
    "print('KNeighborsClassifier accuracy score = %f' %score_gnb)\n",
    "print('Confusion matrix')\n",
    "print(metrics.confusion_matrix(y_test, y_pred))\n",
    "\n",
    "print(\"--- %s seconds ---\" % (time.time() - start_time))"
   ]
  },
  {
   "cell_type": "markdown",
   "metadata": {
    "colab_type": "text",
    "id": "F8lMMYivW2Sd"
   },
   "source": [
    "# Final result\n",
    "As we can see above, in the algorithm testing, the Gaussian Naive Bayes give one of the most accurate results at 95.2%, however, the running time is extremely short when compared with the others algorithm. Therefore, we can choose Gaussian Naive Bayes algorithm as the most suitable way to solve this problem in this scenario."
   ]
  }
 ],
 "metadata": {
  "colab": {
   "collapsed_sections": [],
   "name": "HW2.ipynb",
   "provenance": [],
   "toc_visible": true,
   "version": "0.3.2"
  },
  "kernelspec": {
   "display_name": "Python 3",
   "language": "python",
   "name": "python3"
  },
  "language_info": {
   "codemirror_mode": {
    "name": "ipython",
    "version": 3
   },
   "file_extension": ".py",
   "mimetype": "text/x-python",
   "name": "python",
   "nbconvert_exporter": "python",
   "pygments_lexer": "ipython3",
   "version": "3.6.5"
  }
 },
 "nbformat": 4,
 "nbformat_minor": 1
}
