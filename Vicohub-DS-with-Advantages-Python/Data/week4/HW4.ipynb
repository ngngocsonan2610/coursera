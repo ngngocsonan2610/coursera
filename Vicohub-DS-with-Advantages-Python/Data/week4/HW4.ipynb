{
  "nbformat": 4,
  "nbformat_minor": 0,
  "metadata": {
    "colab": {
      "name": "HW4.ipynb",
      "version": "0.3.2",
      "provenance": [],
      "toc_visible": true
    },
    "kernelspec": {
      "name": "python3",
      "display_name": "Python 3"
    }
  },
  "cells": [
    {
      "metadata": {
        "id": "bJVJHn6Ji57J",
        "colab_type": "text"
      },
      "cell_type": "markdown",
      "source": [
        "# Import Library & Data Analysis\n"
      ]
    },
    {
      "metadata": {
        "id": "DyjKcEVBFxPR",
        "colab_type": "code",
        "colab": {
          "base_uri": "https://localhost:8080/",
          "height": 124
        },
        "outputId": "bda1615f-f8c5-48bf-a7fe-2dbc2cb65726"
      },
      "cell_type": "code",
      "source": [
        "# connecting google drive with google colab\n",
        "from google.colab import drive\n",
        "drive.mount('/content/drive')"
      ],
      "execution_count": 1,
      "outputs": [
        {
          "output_type": "stream",
          "text": [
            "Go to this URL in a browser: https://accounts.google.com/o/oauth2/auth?client_id=947318989803-6bn6qk8qdgf4n4g3pfee6491hc0brc4i.apps.googleusercontent.com&redirect_uri=urn%3Aietf%3Awg%3Aoauth%3A2.0%3Aoob&scope=email%20https%3A%2F%2Fwww.googleapis.com%2Fauth%2Fdocs.test%20https%3A%2F%2Fwww.googleapis.com%2Fauth%2Fdrive%20https%3A%2F%2Fwww.googleapis.com%2Fauth%2Fdrive.photos.readonly%20https%3A%2F%2Fwww.googleapis.com%2Fauth%2Fpeopleapi.readonly&response_type=code\n",
            "\n",
            "Enter your authorization code:\n",
            "··········\n",
            "Mounted at /content/drive\n"
          ],
          "name": "stdout"
        }
      ]
    },
    {
      "metadata": {
        "id": "Q9GExNuxhBos",
        "colab_type": "code",
        "colab": {}
      },
      "cell_type": "code",
      "source": [
        "import pandas as pd\n",
        "import numpy as np\n",
        "import seaborn as sns\n",
        "import time\n",
        "from scipy import stats\n",
        "import matplotlib.pyplot as plt"
      ],
      "execution_count": 0,
      "outputs": []
    },
    {
      "metadata": {
        "id": "hwMm5ufhhBuk",
        "colab_type": "code",
        "colab": {
          "base_uri": "https://localhost:8080/",
          "height": 226
        },
        "outputId": "5f456d34-e47f-44dc-970c-56a5cac0f852"
      },
      "cell_type": "code",
      "source": [
        "df_borrower = pd.read_csv('drive/My Drive/DS-course2 - Dr. Xuan Ha/w4/borrower_data.csv')\n",
        "df_borrower.sample(5)"
      ],
      "execution_count": 249,
      "outputs": [
        {
          "output_type": "execute_result",
          "data": {
            "text/html": [
              "<div>\n",
              "<style scoped>\n",
              "    .dataframe tbody tr th:only-of-type {\n",
              "        vertical-align: middle;\n",
              "    }\n",
              "\n",
              "    .dataframe tbody tr th {\n",
              "        vertical-align: top;\n",
              "    }\n",
              "\n",
              "    .dataframe thead th {\n",
              "        text-align: right;\n",
              "    }\n",
              "</style>\n",
              "<table border=\"1\" class=\"dataframe\">\n",
              "  <thead>\n",
              "    <tr style=\"text-align: right;\">\n",
              "      <th></th>\n",
              "      <th>loan_id</th>\n",
              "      <th>is_first_loan</th>\n",
              "      <th>fully_repaid_previous_loans</th>\n",
              "      <th>currently_repaying_other_loans</th>\n",
              "      <th>total_credit_card_limit</th>\n",
              "      <th>avg_percentage_credit_card_limit_used_last_year</th>\n",
              "      <th>saving_amount</th>\n",
              "      <th>checking_amount</th>\n",
              "      <th>is_employed</th>\n",
              "      <th>yearly_salary</th>\n",
              "      <th>age</th>\n",
              "      <th>dependent_number</th>\n",
              "    </tr>\n",
              "  </thead>\n",
              "  <tbody>\n",
              "    <tr>\n",
              "      <th>2088</th>\n",
              "      <td>407027</td>\n",
              "      <td>1</td>\n",
              "      <td>NaN</td>\n",
              "      <td>NaN</td>\n",
              "      <td>3900</td>\n",
              "      <td>0.83</td>\n",
              "      <td>456</td>\n",
              "      <td>591</td>\n",
              "      <td>1</td>\n",
              "      <td>27200</td>\n",
              "      <td>26</td>\n",
              "      <td>5</td>\n",
              "    </tr>\n",
              "    <tr>\n",
              "      <th>93159</th>\n",
              "      <td>920957</td>\n",
              "      <td>0</td>\n",
              "      <td>1.0</td>\n",
              "      <td>0.0</td>\n",
              "      <td>2000</td>\n",
              "      <td>0.62</td>\n",
              "      <td>2862</td>\n",
              "      <td>1365</td>\n",
              "      <td>1</td>\n",
              "      <td>60900</td>\n",
              "      <td>60</td>\n",
              "      <td>1</td>\n",
              "    </tr>\n",
              "    <tr>\n",
              "      <th>21311</th>\n",
              "      <td>143466</td>\n",
              "      <td>0</td>\n",
              "      <td>1.0</td>\n",
              "      <td>1.0</td>\n",
              "      <td>2300</td>\n",
              "      <td>0.77</td>\n",
              "      <td>2073</td>\n",
              "      <td>2424</td>\n",
              "      <td>0</td>\n",
              "      <td>0</td>\n",
              "      <td>53</td>\n",
              "      <td>5</td>\n",
              "    </tr>\n",
              "    <tr>\n",
              "      <th>18355</th>\n",
              "      <td>34374</td>\n",
              "      <td>0</td>\n",
              "      <td>1.0</td>\n",
              "      <td>0.0</td>\n",
              "      <td>4900</td>\n",
              "      <td>0.70</td>\n",
              "      <td>5334</td>\n",
              "      <td>2443</td>\n",
              "      <td>1</td>\n",
              "      <td>33300</td>\n",
              "      <td>41</td>\n",
              "      <td>4</td>\n",
              "    </tr>\n",
              "    <tr>\n",
              "      <th>61300</th>\n",
              "      <td>616773</td>\n",
              "      <td>0</td>\n",
              "      <td>1.0</td>\n",
              "      <td>0.0</td>\n",
              "      <td>5800</td>\n",
              "      <td>0.85</td>\n",
              "      <td>692</td>\n",
              "      <td>4225</td>\n",
              "      <td>1</td>\n",
              "      <td>43200</td>\n",
              "      <td>57</td>\n",
              "      <td>8</td>\n",
              "    </tr>\n",
              "  </tbody>\n",
              "</table>\n",
              "</div>"
            ],
            "text/plain": [
              "       loan_id  is_first_loan  fully_repaid_previous_loans  \\\n",
              "2088    407027              1                          NaN   \n",
              "93159   920957              0                          1.0   \n",
              "21311   143466              0                          1.0   \n",
              "18355    34374              0                          1.0   \n",
              "61300   616773              0                          1.0   \n",
              "\n",
              "       currently_repaying_other_loans  total_credit_card_limit  \\\n",
              "2088                              NaN                     3900   \n",
              "93159                             0.0                     2000   \n",
              "21311                             1.0                     2300   \n",
              "18355                             0.0                     4900   \n",
              "61300                             0.0                     5800   \n",
              "\n",
              "       avg_percentage_credit_card_limit_used_last_year  saving_amount  \\\n",
              "2088                                              0.83            456   \n",
              "93159                                             0.62           2862   \n",
              "21311                                             0.77           2073   \n",
              "18355                                             0.70           5334   \n",
              "61300                                             0.85            692   \n",
              "\n",
              "       checking_amount  is_employed  yearly_salary  age  dependent_number  \n",
              "2088               591            1          27200   26                 5  \n",
              "93159             1365            1          60900   60                 1  \n",
              "21311             2424            0              0   53                 5  \n",
              "18355             2443            1          33300   41                 4  \n",
              "61300             4225            1          43200   57                 8  "
            ]
          },
          "metadata": {
            "tags": []
          },
          "execution_count": 249
        }
      ]
    },
    {
      "metadata": {
        "id": "3cJkiY-ThCHd",
        "colab_type": "code",
        "colab": {
          "base_uri": "https://localhost:8080/",
          "height": 363
        },
        "outputId": "5b1a465c-c468-451a-be01-4ce35e8b3766"
      },
      "cell_type": "code",
      "source": [
        "df_loan = pd.read_csv('drive/My Drive/DS-course2 - Dr. Xuan Ha/w4/loan_data.csv')\n",
        "df_loan.sample(10)"
      ],
      "execution_count": 250,
      "outputs": [
        {
          "output_type": "execute_result",
          "data": {
            "text/html": [
              "<div>\n",
              "<style scoped>\n",
              "    .dataframe tbody tr th:only-of-type {\n",
              "        vertical-align: middle;\n",
              "    }\n",
              "\n",
              "    .dataframe tbody tr th {\n",
              "        vertical-align: top;\n",
              "    }\n",
              "\n",
              "    .dataframe thead th {\n",
              "        text-align: right;\n",
              "    }\n",
              "</style>\n",
              "<table border=\"1\" class=\"dataframe\">\n",
              "  <thead>\n",
              "    <tr style=\"text-align: right;\">\n",
              "      <th></th>\n",
              "      <th>loan_id</th>\n",
              "      <th>loan_purpose</th>\n",
              "      <th>date</th>\n",
              "      <th>loan_granted</th>\n",
              "      <th>loan_repaid</th>\n",
              "    </tr>\n",
              "  </thead>\n",
              "  <tbody>\n",
              "    <tr>\n",
              "      <th>3955</th>\n",
              "      <td>698235</td>\n",
              "      <td>home</td>\n",
              "      <td>2012-05-31</td>\n",
              "      <td>1</td>\n",
              "      <td>1.0</td>\n",
              "    </tr>\n",
              "    <tr>\n",
              "      <th>30890</th>\n",
              "      <td>772342</td>\n",
              "      <td>business</td>\n",
              "      <td>2012-07-19</td>\n",
              "      <td>0</td>\n",
              "      <td>NaN</td>\n",
              "    </tr>\n",
              "    <tr>\n",
              "      <th>40202</th>\n",
              "      <td>512882</td>\n",
              "      <td>business</td>\n",
              "      <td>2012-05-02</td>\n",
              "      <td>0</td>\n",
              "      <td>NaN</td>\n",
              "    </tr>\n",
              "    <tr>\n",
              "      <th>69620</th>\n",
              "      <td>664347</td>\n",
              "      <td>home</td>\n",
              "      <td>2012-08-22</td>\n",
              "      <td>1</td>\n",
              "      <td>1.0</td>\n",
              "    </tr>\n",
              "    <tr>\n",
              "      <th>1407</th>\n",
              "      <td>725567</td>\n",
              "      <td>home</td>\n",
              "      <td>2012-07-25</td>\n",
              "      <td>0</td>\n",
              "      <td>NaN</td>\n",
              "    </tr>\n",
              "    <tr>\n",
              "      <th>86923</th>\n",
              "      <td>646530</td>\n",
              "      <td>investment</td>\n",
              "      <td>2012-04-27</td>\n",
              "      <td>0</td>\n",
              "      <td>NaN</td>\n",
              "    </tr>\n",
              "    <tr>\n",
              "      <th>73430</th>\n",
              "      <td>374635</td>\n",
              "      <td>business</td>\n",
              "      <td>2012-12-14</td>\n",
              "      <td>0</td>\n",
              "      <td>NaN</td>\n",
              "    </tr>\n",
              "    <tr>\n",
              "      <th>60886</th>\n",
              "      <td>150706</td>\n",
              "      <td>emergency_funds</td>\n",
              "      <td>2012-03-15</td>\n",
              "      <td>0</td>\n",
              "      <td>NaN</td>\n",
              "    </tr>\n",
              "    <tr>\n",
              "      <th>41313</th>\n",
              "      <td>686525</td>\n",
              "      <td>emergency_funds</td>\n",
              "      <td>2012-04-12</td>\n",
              "      <td>0</td>\n",
              "      <td>NaN</td>\n",
              "    </tr>\n",
              "    <tr>\n",
              "      <th>77131</th>\n",
              "      <td>998967</td>\n",
              "      <td>business</td>\n",
              "      <td>2012-01-19</td>\n",
              "      <td>0</td>\n",
              "      <td>NaN</td>\n",
              "    </tr>\n",
              "  </tbody>\n",
              "</table>\n",
              "</div>"
            ],
            "text/plain": [
              "       loan_id     loan_purpose        date  loan_granted  loan_repaid\n",
              "3955    698235             home  2012-05-31             1          1.0\n",
              "30890   772342         business  2012-07-19             0          NaN\n",
              "40202   512882         business  2012-05-02             0          NaN\n",
              "69620   664347             home  2012-08-22             1          1.0\n",
              "1407    725567             home  2012-07-25             0          NaN\n",
              "86923   646530       investment  2012-04-27             0          NaN\n",
              "73430   374635         business  2012-12-14             0          NaN\n",
              "60886   150706  emergency_funds  2012-03-15             0          NaN\n",
              "41313   686525  emergency_funds  2012-04-12             0          NaN\n",
              "77131   998967         business  2012-01-19             0          NaN"
            ]
          },
          "metadata": {
            "tags": []
          },
          "execution_count": 250
        }
      ]
    },
    {
      "metadata": {
        "id": "XLyKSiXAiRBz",
        "colab_type": "code",
        "colab": {
          "base_uri": "https://localhost:8080/",
          "height": 607
        },
        "outputId": "7b778be3-e022-4e22-c71d-ac7ee0e634f5"
      },
      "cell_type": "code",
      "source": [
        "df_borrower.info()\n",
        "# Checking nan\n",
        "print('\\n > Train columns with null values:\\n', df_borrower.isnull().sum())\n",
        "# print('\\n > Train columns with unique values:\\n', df_borrower.nunique())\n",
        "print('\\n Unique value in loan_id: ', df_borrower['loan_id'].nunique())"
      ],
      "execution_count": 75,
      "outputs": [
        {
          "output_type": "stream",
          "text": [
            "<class 'pandas.core.frame.DataFrame'>\n",
            "RangeIndex: 101100 entries, 0 to 101099\n",
            "Data columns (total 12 columns):\n",
            "loan_id                                            101100 non-null int64\n",
            "is_first_loan                                      101100 non-null int64\n",
            "fully_repaid_previous_loans                        46153 non-null float64\n",
            "currently_repaying_other_loans                     46153 non-null float64\n",
            "total_credit_card_limit                            101100 non-null int64\n",
            "avg_percentage_credit_card_limit_used_last_year    94128 non-null float64\n",
            "saving_amount                                      101100 non-null int64\n",
            "checking_amount                                    101100 non-null int64\n",
            "is_employed                                        101100 non-null int64\n",
            "yearly_salary                                      101100 non-null int64\n",
            "age                                                101100 non-null int64\n",
            "dependent_number                                   101100 non-null int64\n",
            "dtypes: float64(3), int64(9)\n",
            "memory usage: 9.3 MB\n",
            "\n",
            " > Train columns with null values:\n",
            " loan_id                                                0\n",
            "is_first_loan                                          0\n",
            "fully_repaid_previous_loans                        54947\n",
            "currently_repaying_other_loans                     54947\n",
            "total_credit_card_limit                                0\n",
            "avg_percentage_credit_card_limit_used_last_year     6972\n",
            "saving_amount                                          0\n",
            "checking_amount                                        0\n",
            "is_employed                                            0\n",
            "yearly_salary                                          0\n",
            "age                                                    0\n",
            "dependent_number                                       0\n",
            "dtype: int64\n",
            "\n",
            " Unique value in loan_id:  101100\n"
          ],
          "name": "stdout"
        }
      ]
    },
    {
      "metadata": {
        "id": "U08NipjMhCAu",
        "colab_type": "code",
        "colab": {}
      },
      "cell_type": "code",
      "source": [
        "# Generating the training df_borrower_tr\n",
        "df_borrower_tr = df_borrower\n",
        "# Replacing Nan values by new categorical values, ex: if currently_repaying_other_loans is null,\n",
        "# I will adjust it with 2 \n",
        "df_borrower_tr['currently_repaying_other_loans'] = df_borrower_tr['currently_repaying_other_loans'].fillna(2)\n",
        "df_borrower_tr['fully_repaid_previous_loans'] = df_borrower_tr['fully_repaid_previous_loans'].fillna(2)\n",
        "df_borrower_tr['avg_percentage_credit_card_limit_used_last_year'] = df_borrower_tr['avg_percentage_credit_card_limit_used_last_year'].fillna(0)\n"
      ],
      "execution_count": 0,
      "outputs": []
    },
    {
      "metadata": {
        "id": "V1EQwPAuhB8j",
        "colab_type": "code",
        "colab": {
          "base_uri": "https://localhost:8080/",
          "height": 312
        },
        "outputId": "d2f4c4cc-f821-4aff-cd60-62ef2cd5f004"
      },
      "cell_type": "code",
      "source": [
        "df_borrower_tr.info()"
      ],
      "execution_count": 77,
      "outputs": [
        {
          "output_type": "stream",
          "text": [
            "<class 'pandas.core.frame.DataFrame'>\n",
            "RangeIndex: 101100 entries, 0 to 101099\n",
            "Data columns (total 12 columns):\n",
            "loan_id                                            101100 non-null int64\n",
            "is_first_loan                                      101100 non-null int64\n",
            "fully_repaid_previous_loans                        101100 non-null float64\n",
            "currently_repaying_other_loans                     101100 non-null float64\n",
            "total_credit_card_limit                            101100 non-null int64\n",
            "avg_percentage_credit_card_limit_used_last_year    101100 non-null float64\n",
            "saving_amount                                      101100 non-null int64\n",
            "checking_amount                                    101100 non-null int64\n",
            "is_employed                                        101100 non-null int64\n",
            "yearly_salary                                      101100 non-null int64\n",
            "age                                                101100 non-null int64\n",
            "dependent_number                                   101100 non-null int64\n",
            "dtypes: float64(3), int64(9)\n",
            "memory usage: 9.3 MB\n"
          ],
          "name": "stdout"
        }
      ]
    },
    {
      "metadata": {
        "id": "EcC9A2OQhCEO",
        "colab_type": "code",
        "colab": {
          "base_uri": "https://localhost:8080/",
          "height": 364
        },
        "outputId": "0addafd9-9c22-4ec7-9784-498e3a5c87b8"
      },
      "cell_type": "code",
      "source": [
        "df_loan.info()\n",
        "print('\\n> Train columns with null values:\\n', df_loan.isnull().sum())\n",
        "print('\\n Unique value in loan_id: ', df_loan['loan_id'].nunique())"
      ],
      "execution_count": 78,
      "outputs": [
        {
          "output_type": "stream",
          "text": [
            "<class 'pandas.core.frame.DataFrame'>\n",
            "RangeIndex: 101100 entries, 0 to 101099\n",
            "Data columns (total 5 columns):\n",
            "loan_id         101100 non-null int64\n",
            "loan_purpose    101100 non-null object\n",
            "date            101100 non-null object\n",
            "loan_granted    101100 non-null int64\n",
            "loan_repaid     47654 non-null float64\n",
            "dtypes: float64(1), int64(2), object(2)\n",
            "memory usage: 3.9+ MB\n",
            "\n",
            "> Train columns with null values:\n",
            " loan_id             0\n",
            "loan_purpose        0\n",
            "date                0\n",
            "loan_granted        0\n",
            "loan_repaid     53446\n",
            "dtype: int64\n",
            "\n",
            " Unique value in loan_id:  101100\n"
          ],
          "name": "stdout"
        }
      ]
    },
    {
      "metadata": {
        "id": "KmcQV1-iRV0q",
        "colab_type": "code",
        "colab": {}
      },
      "cell_type": "code",
      "source": [
        "# Generating the training dataframe\n",
        "df_loan_tr = df_loan\n",
        "df_loan_tr['loan_repaid'] = df_loan_tr['loan_repaid'].fillna('not granted')"
      ],
      "execution_count": 0,
      "outputs": []
    },
    {
      "metadata": {
        "id": "phNWtqU7afV-",
        "colab_type": "code",
        "colab": {}
      },
      "cell_type": "code",
      "source": [
        "# using list comprehension\n",
        "df_loan_tr['profit'] = [ 1 if x == 1 else (-1 if x == 0 else 0) for x in df_loan_tr['loan_repaid']]\n",
        "#df_loan_tr['profit'] = np.select(\n",
        "#    [(df_loan_tr['loan_granted'] == 1) & (df_loan_tr['loan_repaid'] == 0),\n",
        "#     (df_loan_tr['loan_granted'] == 1) & (df_loan_tr['loan_repaid'] == 1)],\n",
        "#    [-1,1], default= 0)\n",
        "# np.select work well with big dataframe evironment"
      ],
      "execution_count": 0,
      "outputs": []
    },
    {
      "metadata": {
        "id": "EZKG3z7-QnMl",
        "colab_type": "code",
        "colab": {
          "base_uri": "https://localhost:8080/",
          "height": 144
        },
        "outputId": "3ae616af-d725-4ebb-c28f-a2189b4f73db"
      },
      "cell_type": "code",
      "source": [
        "df_loan_tr.groupby(['loan_granted', 'loan_repaid']).size().reset_index(name='Freq')"
      ],
      "execution_count": 254,
      "outputs": [
        {
          "output_type": "execute_result",
          "data": {
            "text/html": [
              "<div>\n",
              "<style scoped>\n",
              "    .dataframe tbody tr th:only-of-type {\n",
              "        vertical-align: middle;\n",
              "    }\n",
              "\n",
              "    .dataframe tbody tr th {\n",
              "        vertical-align: top;\n",
              "    }\n",
              "\n",
              "    .dataframe thead th {\n",
              "        text-align: right;\n",
              "    }\n",
              "</style>\n",
              "<table border=\"1\" class=\"dataframe\">\n",
              "  <thead>\n",
              "    <tr style=\"text-align: right;\">\n",
              "      <th></th>\n",
              "      <th>loan_granted</th>\n",
              "      <th>loan_repaid</th>\n",
              "      <th>Freq</th>\n",
              "    </tr>\n",
              "  </thead>\n",
              "  <tbody>\n",
              "    <tr>\n",
              "      <th>0</th>\n",
              "      <td>0</td>\n",
              "      <td>not granted</td>\n",
              "      <td>53446</td>\n",
              "    </tr>\n",
              "    <tr>\n",
              "      <th>1</th>\n",
              "      <td>1</td>\n",
              "      <td>0</td>\n",
              "      <td>16948</td>\n",
              "    </tr>\n",
              "    <tr>\n",
              "      <th>2</th>\n",
              "      <td>1</td>\n",
              "      <td>1</td>\n",
              "      <td>30706</td>\n",
              "    </tr>\n",
              "  </tbody>\n",
              "</table>\n",
              "</div>"
            ],
            "text/plain": [
              "   loan_granted  loan_repaid   Freq\n",
              "0             0  not granted  53446\n",
              "1             1            0  16948\n",
              "2             1            1  30706"
            ]
          },
          "metadata": {
            "tags": []
          },
          "execution_count": 254
        }
      ]
    },
    {
      "metadata": {
        "id": "PGkzKNL9iswU",
        "colab_type": "code",
        "colab": {
          "base_uri": "https://localhost:8080/",
          "height": 144
        },
        "outputId": "cfad24db-cea6-48aa-fdf2-c43fbc8cdcc5"
      },
      "cell_type": "code",
      "source": [
        "df_loan_tr.groupby(['loan_granted', 'loan_repaid'])['profit'].sum().reset_index(name='Projit')"
      ],
      "execution_count": 255,
      "outputs": [
        {
          "output_type": "execute_result",
          "data": {
            "text/html": [
              "<div>\n",
              "<style scoped>\n",
              "    .dataframe tbody tr th:only-of-type {\n",
              "        vertical-align: middle;\n",
              "    }\n",
              "\n",
              "    .dataframe tbody tr th {\n",
              "        vertical-align: top;\n",
              "    }\n",
              "\n",
              "    .dataframe thead th {\n",
              "        text-align: right;\n",
              "    }\n",
              "</style>\n",
              "<table border=\"1\" class=\"dataframe\">\n",
              "  <thead>\n",
              "    <tr style=\"text-align: right;\">\n",
              "      <th></th>\n",
              "      <th>loan_granted</th>\n",
              "      <th>loan_repaid</th>\n",
              "      <th>Projit</th>\n",
              "    </tr>\n",
              "  </thead>\n",
              "  <tbody>\n",
              "    <tr>\n",
              "      <th>0</th>\n",
              "      <td>0</td>\n",
              "      <td>not granted</td>\n",
              "      <td>0</td>\n",
              "    </tr>\n",
              "    <tr>\n",
              "      <th>1</th>\n",
              "      <td>1</td>\n",
              "      <td>0</td>\n",
              "      <td>-16948</td>\n",
              "    </tr>\n",
              "    <tr>\n",
              "      <th>2</th>\n",
              "      <td>1</td>\n",
              "      <td>1</td>\n",
              "      <td>30706</td>\n",
              "    </tr>\n",
              "  </tbody>\n",
              "</table>\n",
              "</div>"
            ],
            "text/plain": [
              "   loan_granted  loan_repaid  Projit\n",
              "0             0  not granted       0\n",
              "1             1            0  -16948\n",
              "2             1            1   30706"
            ]
          },
          "metadata": {
            "tags": []
          },
          "execution_count": 255
        }
      ]
    },
    {
      "metadata": {
        "id": "fjQedCpWGF2H",
        "colab_type": "code",
        "colab": {
          "base_uri": "https://localhost:8080/",
          "height": 112
        },
        "outputId": "fc4d93c6-e9cf-48b1-fb72-86aecc636499"
      },
      "cell_type": "code",
      "source": [
        "df_loan_tr['moneymaking'] = [ -1 if x == 0 else 1 for x in df_loan_tr['loan_repaid']]\n",
        "df_loan_tr.groupby(['moneymaking']).size().reset_index(name='Freq')"
      ],
      "execution_count": 256,
      "outputs": [
        {
          "output_type": "execute_result",
          "data": {
            "text/html": [
              "<div>\n",
              "<style scoped>\n",
              "    .dataframe tbody tr th:only-of-type {\n",
              "        vertical-align: middle;\n",
              "    }\n",
              "\n",
              "    .dataframe tbody tr th {\n",
              "        vertical-align: top;\n",
              "    }\n",
              "\n",
              "    .dataframe thead th {\n",
              "        text-align: right;\n",
              "    }\n",
              "</style>\n",
              "<table border=\"1\" class=\"dataframe\">\n",
              "  <thead>\n",
              "    <tr style=\"text-align: right;\">\n",
              "      <th></th>\n",
              "      <th>moneymaking</th>\n",
              "      <th>Freq</th>\n",
              "    </tr>\n",
              "  </thead>\n",
              "  <tbody>\n",
              "    <tr>\n",
              "      <th>0</th>\n",
              "      <td>-1</td>\n",
              "      <td>16948</td>\n",
              "    </tr>\n",
              "    <tr>\n",
              "      <th>1</th>\n",
              "      <td>1</td>\n",
              "      <td>84152</td>\n",
              "    </tr>\n",
              "  </tbody>\n",
              "</table>\n",
              "</div>"
            ],
            "text/plain": [
              "   moneymaking   Freq\n",
              "0           -1  16948\n",
              "1            1  84152"
            ]
          },
          "metadata": {
            "tags": []
          },
          "execution_count": 256
        }
      ]
    },
    {
      "metadata": {
        "id": "GegI9oSNGGGn",
        "colab_type": "code",
        "colab": {}
      },
      "cell_type": "code",
      "source": [
        "df_model = pd.merge(df_borrower_tr,df_loan_tr, how = 'inner', on ='loan_id')"
      ],
      "execution_count": 0,
      "outputs": []
    },
    {
      "metadata": {
        "id": "AZfJczfgGGOD",
        "colab_type": "code",
        "colab": {
          "base_uri": "https://localhost:8080/",
          "height": 416
        },
        "outputId": "1d8b246b-4e66-44ab-bd51-2c4c5033bfad"
      },
      "cell_type": "code",
      "source": [
        "df_model.info()"
      ],
      "execution_count": 90,
      "outputs": [
        {
          "output_type": "stream",
          "text": [
            "<class 'pandas.core.frame.DataFrame'>\n",
            "Int64Index: 101100 entries, 0 to 101099\n",
            "Data columns (total 18 columns):\n",
            "loan_id                                            101100 non-null int64\n",
            "is_first_loan                                      101100 non-null int64\n",
            "fully_repaid_previous_loans                        101100 non-null float64\n",
            "currently_repaying_other_loans                     101100 non-null float64\n",
            "total_credit_card_limit                            101100 non-null int64\n",
            "avg_percentage_credit_card_limit_used_last_year    101100 non-null float64\n",
            "saving_amount                                      101100 non-null int64\n",
            "checking_amount                                    101100 non-null int64\n",
            "is_employed                                        101100 non-null int64\n",
            "yearly_salary                                      101100 non-null int64\n",
            "age                                                101100 non-null int64\n",
            "dependent_number                                   101100 non-null int64\n",
            "loan_purpose                                       101100 non-null object\n",
            "date                                               101100 non-null object\n",
            "loan_granted                                       101100 non-null int64\n",
            "loan_repaid                                        101100 non-null object\n",
            "profit                                             101100 non-null int64\n",
            "moneymaking                                        101100 non-null int64\n",
            "dtypes: float64(3), int64(12), object(3)\n",
            "memory usage: 14.7+ MB\n"
          ],
          "name": "stdout"
        }
      ]
    },
    {
      "metadata": {
        "id": "z1eo8uFQGGLu",
        "colab_type": "code",
        "colab": {
          "base_uri": "https://localhost:8080/",
          "height": 226
        },
        "outputId": "e04e9906-ba72-4200-93d0-f41b7409ad49"
      },
      "cell_type": "code",
      "source": [
        "df_model.sample(5)"
      ],
      "execution_count": 91,
      "outputs": [
        {
          "output_type": "execute_result",
          "data": {
            "text/html": [
              "<div>\n",
              "<style scoped>\n",
              "    .dataframe tbody tr th:only-of-type {\n",
              "        vertical-align: middle;\n",
              "    }\n",
              "\n",
              "    .dataframe tbody tr th {\n",
              "        vertical-align: top;\n",
              "    }\n",
              "\n",
              "    .dataframe thead th {\n",
              "        text-align: right;\n",
              "    }\n",
              "</style>\n",
              "<table border=\"1\" class=\"dataframe\">\n",
              "  <thead>\n",
              "    <tr style=\"text-align: right;\">\n",
              "      <th></th>\n",
              "      <th>loan_id</th>\n",
              "      <th>is_first_loan</th>\n",
              "      <th>fully_repaid_previous_loans</th>\n",
              "      <th>currently_repaying_other_loans</th>\n",
              "      <th>total_credit_card_limit</th>\n",
              "      <th>avg_percentage_credit_card_limit_used_last_year</th>\n",
              "      <th>saving_amount</th>\n",
              "      <th>checking_amount</th>\n",
              "      <th>is_employed</th>\n",
              "      <th>yearly_salary</th>\n",
              "      <th>age</th>\n",
              "      <th>dependent_number</th>\n",
              "      <th>loan_purpose</th>\n",
              "      <th>date</th>\n",
              "      <th>loan_granted</th>\n",
              "      <th>loan_repaid</th>\n",
              "      <th>profit</th>\n",
              "      <th>moneymaking</th>\n",
              "    </tr>\n",
              "  </thead>\n",
              "  <tbody>\n",
              "    <tr>\n",
              "      <th>48458</th>\n",
              "      <td>518472</td>\n",
              "      <td>1</td>\n",
              "      <td>2.0</td>\n",
              "      <td>2.0</td>\n",
              "      <td>7800</td>\n",
              "      <td>0.54</td>\n",
              "      <td>1762</td>\n",
              "      <td>2315</td>\n",
              "      <td>1</td>\n",
              "      <td>11100</td>\n",
              "      <td>25</td>\n",
              "      <td>1</td>\n",
              "      <td>emergency_funds</td>\n",
              "      <td>2012-04-18</td>\n",
              "      <td>1</td>\n",
              "      <td>1</td>\n",
              "      <td>1</td>\n",
              "      <td>1</td>\n",
              "    </tr>\n",
              "    <tr>\n",
              "      <th>49643</th>\n",
              "      <td>632085</td>\n",
              "      <td>0</td>\n",
              "      <td>1.0</td>\n",
              "      <td>0.0</td>\n",
              "      <td>4900</td>\n",
              "      <td>0.60</td>\n",
              "      <td>2170</td>\n",
              "      <td>882</td>\n",
              "      <td>1</td>\n",
              "      <td>29100</td>\n",
              "      <td>20</td>\n",
              "      <td>5</td>\n",
              "      <td>business</td>\n",
              "      <td>2012-01-03</td>\n",
              "      <td>1</td>\n",
              "      <td>1</td>\n",
              "      <td>1</td>\n",
              "      <td>1</td>\n",
              "    </tr>\n",
              "    <tr>\n",
              "      <th>37040</th>\n",
              "      <td>533016</td>\n",
              "      <td>0</td>\n",
              "      <td>1.0</td>\n",
              "      <td>0.0</td>\n",
              "      <td>4300</td>\n",
              "      <td>1.01</td>\n",
              "      <td>2472</td>\n",
              "      <td>3511</td>\n",
              "      <td>1</td>\n",
              "      <td>29800</td>\n",
              "      <td>36</td>\n",
              "      <td>0</td>\n",
              "      <td>business</td>\n",
              "      <td>2012-11-15</td>\n",
              "      <td>0</td>\n",
              "      <td>not granted</td>\n",
              "      <td>0</td>\n",
              "      <td>0</td>\n",
              "    </tr>\n",
              "    <tr>\n",
              "      <th>20575</th>\n",
              "      <td>981042</td>\n",
              "      <td>0</td>\n",
              "      <td>1.0</td>\n",
              "      <td>1.0</td>\n",
              "      <td>3400</td>\n",
              "      <td>0.67</td>\n",
              "      <td>1191</td>\n",
              "      <td>1682</td>\n",
              "      <td>0</td>\n",
              "      <td>0</td>\n",
              "      <td>32</td>\n",
              "      <td>6</td>\n",
              "      <td>business</td>\n",
              "      <td>2012-05-07</td>\n",
              "      <td>0</td>\n",
              "      <td>not granted</td>\n",
              "      <td>0</td>\n",
              "      <td>0</td>\n",
              "    </tr>\n",
              "    <tr>\n",
              "      <th>70762</th>\n",
              "      <td>138988</td>\n",
              "      <td>1</td>\n",
              "      <td>2.0</td>\n",
              "      <td>2.0</td>\n",
              "      <td>9300</td>\n",
              "      <td>0.85</td>\n",
              "      <td>3551</td>\n",
              "      <td>10110</td>\n",
              "      <td>1</td>\n",
              "      <td>35300</td>\n",
              "      <td>49</td>\n",
              "      <td>1</td>\n",
              "      <td>investment</td>\n",
              "      <td>2012-07-09</td>\n",
              "      <td>1</td>\n",
              "      <td>1</td>\n",
              "      <td>1</td>\n",
              "      <td>1</td>\n",
              "    </tr>\n",
              "  </tbody>\n",
              "</table>\n",
              "</div>"
            ],
            "text/plain": [
              "       loan_id  is_first_loan  fully_repaid_previous_loans  \\\n",
              "48458   518472              1                          2.0   \n",
              "49643   632085              0                          1.0   \n",
              "37040   533016              0                          1.0   \n",
              "20575   981042              0                          1.0   \n",
              "70762   138988              1                          2.0   \n",
              "\n",
              "       currently_repaying_other_loans  total_credit_card_limit  \\\n",
              "48458                             2.0                     7800   \n",
              "49643                             0.0                     4900   \n",
              "37040                             0.0                     4300   \n",
              "20575                             1.0                     3400   \n",
              "70762                             2.0                     9300   \n",
              "\n",
              "       avg_percentage_credit_card_limit_used_last_year  saving_amount  \\\n",
              "48458                                             0.54           1762   \n",
              "49643                                             0.60           2170   \n",
              "37040                                             1.01           2472   \n",
              "20575                                             0.67           1191   \n",
              "70762                                             0.85           3551   \n",
              "\n",
              "       checking_amount  is_employed  yearly_salary  age  dependent_number  \\\n",
              "48458             2315            1          11100   25                 1   \n",
              "49643              882            1          29100   20                 5   \n",
              "37040             3511            1          29800   36                 0   \n",
              "20575             1682            0              0   32                 6   \n",
              "70762            10110            1          35300   49                 1   \n",
              "\n",
              "          loan_purpose        date  loan_granted  loan_repaid  profit  \\\n",
              "48458  emergency_funds  2012-04-18             1            1       1   \n",
              "49643         business  2012-01-03             1            1       1   \n",
              "37040         business  2012-11-15             0  not granted       0   \n",
              "20575         business  2012-05-07             0  not granted       0   \n",
              "70762       investment  2012-07-09             1            1       1   \n",
              "\n",
              "       moneymaking  \n",
              "48458            1  \n",
              "49643            1  \n",
              "37040            0  \n",
              "20575            0  \n",
              "70762            1  "
            ]
          },
          "metadata": {
            "tags": []
          },
          "execution_count": 91
        }
      ]
    },
    {
      "metadata": {
        "id": "iQCh9ANkJrlg",
        "colab_type": "text"
      },
      "cell_type": "markdown",
      "source": [
        "# Feature Engineering"
      ]
    },
    {
      "metadata": {
        "id": "EwUWs2e1BPB3",
        "colab_type": "text"
      },
      "cell_type": "markdown",
      "source": [
        "## 1.Graphical analysis\n",
        "Modelling with \"profit\" target variable, I have to face the multiclass classification problems, unfortunally, my knowledge is not enough to solve this problems at this moment. \n",
        "\n",
        "Thus, I change my target into \"moneymaking\" feature, as I want to predict exactly whether the borrower will pay the loan or not.\n",
        "\n",
        "\n"
      ]
    },
    {
      "metadata": {
        "id": "sXeYh_7xLlKb",
        "colab_type": "code",
        "colab": {}
      },
      "cell_type": "code",
      "source": [
        "df_train = df_model[df_model.columns.difference(['loan_id','date','profit','loan_repaid','loan_granted'])]\n"
      ],
      "execution_count": 0,
      "outputs": []
    },
    {
      "metadata": {
        "id": "TrKR3siNJoZP",
        "colab_type": "code",
        "colab": {
          "base_uri": "https://localhost:8080/",
          "height": 1180
        },
        "outputId": "8a43e2e9-37a1-460d-f5e9-08a67b209d33"
      },
      "cell_type": "code",
      "source": [
        "import matplotlib.pyplot as plt\n",
        "\n",
        "correlations = df_train.corr()\n",
        "#fig = plt.figure()\n",
        "#ax = fig.add_subplot(111)\n",
        "#cax = ax.matshow(correlations, vmin=-1, vmax=1)\n",
        "#fig.colorbar(cax)\n",
        "#names = list(df_model)\n",
        "#ax.set_xticklabels(names)\n",
        "#ax.set_yticklabels(names)\n",
        "#plt.show()\n",
        "\n",
        "# Using seaborn package\n",
        "# Generate a mask for the upper triangle\n",
        "mask = np.zeros_like(correlations, dtype=np.bool)\n",
        "mask[np.triu_indices_from(mask)] = True\n",
        "\n",
        "# Set up the matplotlib figure\n",
        "f, ax = plt.subplots(figsize=(11, 9))\n",
        "\n",
        "# Generate a custom diverging colormap\n",
        "cmap = sns.diverging_palette(260, 10, as_cmap=True)\n",
        "\n",
        "# Draw the heatmap with the mask and correct aspect ratio\n",
        "sns.heatmap(correlations, mask=mask, cmap=cmap, vmin = -1, vmax= 1 , center=0,\n",
        "            square=True, linewidths=.5, cbar_kws={\"shrink\": .5})\n",
        "\n",
        "correlations"
      ],
      "execution_count": 259,
      "outputs": [
        {
          "output_type": "execute_result",
          "data": {
            "text/html": [
              "<div>\n",
              "<style scoped>\n",
              "    .dataframe tbody tr th:only-of-type {\n",
              "        vertical-align: middle;\n",
              "    }\n",
              "\n",
              "    .dataframe tbody tr th {\n",
              "        vertical-align: top;\n",
              "    }\n",
              "\n",
              "    .dataframe thead th {\n",
              "        text-align: right;\n",
              "    }\n",
              "</style>\n",
              "<table border=\"1\" class=\"dataframe\">\n",
              "  <thead>\n",
              "    <tr style=\"text-align: right;\">\n",
              "      <th></th>\n",
              "      <th>age</th>\n",
              "      <th>avg_percentage_credit_card_limit_used_last_year</th>\n",
              "      <th>checking_amount</th>\n",
              "      <th>currently_repaying_other_loans</th>\n",
              "      <th>dependent_number</th>\n",
              "      <th>fully_repaid_previous_loans</th>\n",
              "      <th>is_employed</th>\n",
              "      <th>is_first_loan</th>\n",
              "      <th>moneymaking</th>\n",
              "      <th>saving_amount</th>\n",
              "      <th>total_credit_card_limit</th>\n",
              "      <th>yearly_salary</th>\n",
              "    </tr>\n",
              "  </thead>\n",
              "  <tbody>\n",
              "    <tr>\n",
              "      <th>age</th>\n",
              "      <td>1.000000</td>\n",
              "      <td>-0.002836</td>\n",
              "      <td>0.000355</td>\n",
              "      <td>-0.003097</td>\n",
              "      <td>0.000862</td>\n",
              "      <td>-0.001454</td>\n",
              "      <td>0.005059</td>\n",
              "      <td>-0.002353</td>\n",
              "      <td>-0.000584</td>\n",
              "      <td>-0.005321</td>\n",
              "      <td>-0.004052</td>\n",
              "      <td>0.005412</td>\n",
              "    </tr>\n",
              "    <tr>\n",
              "      <th>avg_percentage_credit_card_limit_used_last_year</th>\n",
              "      <td>-0.002836</td>\n",
              "      <td>1.000000</td>\n",
              "      <td>-0.006122</td>\n",
              "      <td>0.000093</td>\n",
              "      <td>0.005154</td>\n",
              "      <td>-0.000406</td>\n",
              "      <td>-0.009516</td>\n",
              "      <td>-0.002585</td>\n",
              "      <td>-0.076825</td>\n",
              "      <td>-0.010489</td>\n",
              "      <td>0.318143</td>\n",
              "      <td>-0.011848</td>\n",
              "    </tr>\n",
              "    <tr>\n",
              "      <th>checking_amount</th>\n",
              "      <td>0.000355</td>\n",
              "      <td>-0.006122</td>\n",
              "      <td>1.000000</td>\n",
              "      <td>-0.062500</td>\n",
              "      <td>-0.081963</td>\n",
              "      <td>0.009189</td>\n",
              "      <td>0.244383</td>\n",
              "      <td>0.005114</td>\n",
              "      <td>0.244091</td>\n",
              "      <td>0.301041</td>\n",
              "      <td>0.240926</td>\n",
              "      <td>0.282909</td>\n",
              "    </tr>\n",
              "    <tr>\n",
              "      <th>currently_repaying_other_loans</th>\n",
              "      <td>-0.003097</td>\n",
              "      <td>0.000093</td>\n",
              "      <td>-0.062500</td>\n",
              "      <td>1.000000</td>\n",
              "      <td>0.018802</td>\n",
              "      <td>0.867965</td>\n",
              "      <td>-0.055670</td>\n",
              "      <td>0.928767</td>\n",
              "      <td>-0.046939</td>\n",
              "      <td>-0.063285</td>\n",
              "      <td>-0.052500</td>\n",
              "      <td>-0.065930</td>\n",
              "    </tr>\n",
              "    <tr>\n",
              "      <th>dependent_number</th>\n",
              "      <td>0.000862</td>\n",
              "      <td>0.005154</td>\n",
              "      <td>-0.081963</td>\n",
              "      <td>0.018802</td>\n",
              "      <td>1.000000</td>\n",
              "      <td>-0.000526</td>\n",
              "      <td>-0.060847</td>\n",
              "      <td>0.000887</td>\n",
              "      <td>-0.062818</td>\n",
              "      <td>-0.075647</td>\n",
              "      <td>-0.058650</td>\n",
              "      <td>-0.073218</td>\n",
              "    </tr>\n",
              "    <tr>\n",
              "      <th>fully_repaid_previous_loans</th>\n",
              "      <td>-0.001454</td>\n",
              "      <td>-0.000406</td>\n",
              "      <td>0.009189</td>\n",
              "      <td>0.867965</td>\n",
              "      <td>-0.000526</td>\n",
              "      <td>1.000000</td>\n",
              "      <td>0.001688</td>\n",
              "      <td>0.937598</td>\n",
              "      <td>0.013536</td>\n",
              "      <td>0.009899</td>\n",
              "      <td>0.005712</td>\n",
              "      <td>0.001855</td>\n",
              "    </tr>\n",
              "    <tr>\n",
              "      <th>is_employed</th>\n",
              "      <td>0.005059</td>\n",
              "      <td>-0.009516</td>\n",
              "      <td>0.244383</td>\n",
              "      <td>-0.055670</td>\n",
              "      <td>-0.060847</td>\n",
              "      <td>0.001688</td>\n",
              "      <td>1.000000</td>\n",
              "      <td>-0.000971</td>\n",
              "      <td>-0.126143</td>\n",
              "      <td>0.248526</td>\n",
              "      <td>0.195274</td>\n",
              "      <td>0.799051</td>\n",
              "    </tr>\n",
              "    <tr>\n",
              "      <th>is_first_loan</th>\n",
              "      <td>-0.002353</td>\n",
              "      <td>-0.002585</td>\n",
              "      <td>0.005114</td>\n",
              "      <td>0.928767</td>\n",
              "      <td>0.000887</td>\n",
              "      <td>0.937598</td>\n",
              "      <td>-0.000971</td>\n",
              "      <td>1.000000</td>\n",
              "      <td>0.009840</td>\n",
              "      <td>0.005650</td>\n",
              "      <td>0.000679</td>\n",
              "      <td>-0.001674</td>\n",
              "    </tr>\n",
              "    <tr>\n",
              "      <th>moneymaking</th>\n",
              "      <td>-0.000584</td>\n",
              "      <td>-0.076825</td>\n",
              "      <td>0.244091</td>\n",
              "      <td>-0.046939</td>\n",
              "      <td>-0.062818</td>\n",
              "      <td>0.013536</td>\n",
              "      <td>-0.126143</td>\n",
              "      <td>0.009840</td>\n",
              "      <td>1.000000</td>\n",
              "      <td>0.246620</td>\n",
              "      <td>0.137722</td>\n",
              "      <td>0.026722</td>\n",
              "    </tr>\n",
              "    <tr>\n",
              "      <th>saving_amount</th>\n",
              "      <td>-0.005321</td>\n",
              "      <td>-0.010489</td>\n",
              "      <td>0.301041</td>\n",
              "      <td>-0.063285</td>\n",
              "      <td>-0.075647</td>\n",
              "      <td>0.009899</td>\n",
              "      <td>0.248526</td>\n",
              "      <td>0.005650</td>\n",
              "      <td>0.246620</td>\n",
              "      <td>1.000000</td>\n",
              "      <td>0.234181</td>\n",
              "      <td>0.288712</td>\n",
              "    </tr>\n",
              "    <tr>\n",
              "      <th>total_credit_card_limit</th>\n",
              "      <td>-0.004052</td>\n",
              "      <td>0.318143</td>\n",
              "      <td>0.240926</td>\n",
              "      <td>-0.052500</td>\n",
              "      <td>-0.058650</td>\n",
              "      <td>0.005712</td>\n",
              "      <td>0.195274</td>\n",
              "      <td>0.000679</td>\n",
              "      <td>0.137722</td>\n",
              "      <td>0.234181</td>\n",
              "      <td>1.000000</td>\n",
              "      <td>0.222497</td>\n",
              "    </tr>\n",
              "    <tr>\n",
              "      <th>yearly_salary</th>\n",
              "      <td>0.005412</td>\n",
              "      <td>-0.011848</td>\n",
              "      <td>0.282909</td>\n",
              "      <td>-0.065930</td>\n",
              "      <td>-0.073218</td>\n",
              "      <td>0.001855</td>\n",
              "      <td>0.799051</td>\n",
              "      <td>-0.001674</td>\n",
              "      <td>0.026722</td>\n",
              "      <td>0.288712</td>\n",
              "      <td>0.222497</td>\n",
              "      <td>1.000000</td>\n",
              "    </tr>\n",
              "  </tbody>\n",
              "</table>\n",
              "</div>"
            ],
            "text/plain": [
              "                                                      age  \\\n",
              "age                                              1.000000   \n",
              "avg_percentage_credit_card_limit_used_last_year -0.002836   \n",
              "checking_amount                                  0.000355   \n",
              "currently_repaying_other_loans                  -0.003097   \n",
              "dependent_number                                 0.000862   \n",
              "fully_repaid_previous_loans                     -0.001454   \n",
              "is_employed                                      0.005059   \n",
              "is_first_loan                                   -0.002353   \n",
              "moneymaking                                     -0.000584   \n",
              "saving_amount                                   -0.005321   \n",
              "total_credit_card_limit                         -0.004052   \n",
              "yearly_salary                                    0.005412   \n",
              "\n",
              "                                                 avg_percentage_credit_card_limit_used_last_year  \\\n",
              "age                                                                                    -0.002836   \n",
              "avg_percentage_credit_card_limit_used_last_year                                         1.000000   \n",
              "checking_amount                                                                        -0.006122   \n",
              "currently_repaying_other_loans                                                          0.000093   \n",
              "dependent_number                                                                        0.005154   \n",
              "fully_repaid_previous_loans                                                            -0.000406   \n",
              "is_employed                                                                            -0.009516   \n",
              "is_first_loan                                                                          -0.002585   \n",
              "moneymaking                                                                            -0.076825   \n",
              "saving_amount                                                                          -0.010489   \n",
              "total_credit_card_limit                                                                 0.318143   \n",
              "yearly_salary                                                                          -0.011848   \n",
              "\n",
              "                                                 checking_amount  \\\n",
              "age                                                     0.000355   \n",
              "avg_percentage_credit_card_limit_used_last_year        -0.006122   \n",
              "checking_amount                                         1.000000   \n",
              "currently_repaying_other_loans                         -0.062500   \n",
              "dependent_number                                       -0.081963   \n",
              "fully_repaid_previous_loans                             0.009189   \n",
              "is_employed                                             0.244383   \n",
              "is_first_loan                                           0.005114   \n",
              "moneymaking                                             0.244091   \n",
              "saving_amount                                           0.301041   \n",
              "total_credit_card_limit                                 0.240926   \n",
              "yearly_salary                                           0.282909   \n",
              "\n",
              "                                                 currently_repaying_other_loans  \\\n",
              "age                                                                   -0.003097   \n",
              "avg_percentage_credit_card_limit_used_last_year                        0.000093   \n",
              "checking_amount                                                       -0.062500   \n",
              "currently_repaying_other_loans                                         1.000000   \n",
              "dependent_number                                                       0.018802   \n",
              "fully_repaid_previous_loans                                            0.867965   \n",
              "is_employed                                                           -0.055670   \n",
              "is_first_loan                                                          0.928767   \n",
              "moneymaking                                                           -0.046939   \n",
              "saving_amount                                                         -0.063285   \n",
              "total_credit_card_limit                                               -0.052500   \n",
              "yearly_salary                                                         -0.065930   \n",
              "\n",
              "                                                 dependent_number  \\\n",
              "age                                                      0.000862   \n",
              "avg_percentage_credit_card_limit_used_last_year          0.005154   \n",
              "checking_amount                                         -0.081963   \n",
              "currently_repaying_other_loans                           0.018802   \n",
              "dependent_number                                         1.000000   \n",
              "fully_repaid_previous_loans                             -0.000526   \n",
              "is_employed                                             -0.060847   \n",
              "is_first_loan                                            0.000887   \n",
              "moneymaking                                             -0.062818   \n",
              "saving_amount                                           -0.075647   \n",
              "total_credit_card_limit                                 -0.058650   \n",
              "yearly_salary                                           -0.073218   \n",
              "\n",
              "                                                 fully_repaid_previous_loans  \\\n",
              "age                                                                -0.001454   \n",
              "avg_percentage_credit_card_limit_used_last_year                    -0.000406   \n",
              "checking_amount                                                     0.009189   \n",
              "currently_repaying_other_loans                                      0.867965   \n",
              "dependent_number                                                   -0.000526   \n",
              "fully_repaid_previous_loans                                         1.000000   \n",
              "is_employed                                                         0.001688   \n",
              "is_first_loan                                                       0.937598   \n",
              "moneymaking                                                         0.013536   \n",
              "saving_amount                                                       0.009899   \n",
              "total_credit_card_limit                                             0.005712   \n",
              "yearly_salary                                                       0.001855   \n",
              "\n",
              "                                                 is_employed  is_first_loan  \\\n",
              "age                                                 0.005059      -0.002353   \n",
              "avg_percentage_credit_card_limit_used_last_year    -0.009516      -0.002585   \n",
              "checking_amount                                     0.244383       0.005114   \n",
              "currently_repaying_other_loans                     -0.055670       0.928767   \n",
              "dependent_number                                   -0.060847       0.000887   \n",
              "fully_repaid_previous_loans                         0.001688       0.937598   \n",
              "is_employed                                         1.000000      -0.000971   \n",
              "is_first_loan                                      -0.000971       1.000000   \n",
              "moneymaking                                        -0.126143       0.009840   \n",
              "saving_amount                                       0.248526       0.005650   \n",
              "total_credit_card_limit                             0.195274       0.000679   \n",
              "yearly_salary                                       0.799051      -0.001674   \n",
              "\n",
              "                                                 moneymaking  saving_amount  \\\n",
              "age                                                -0.000584      -0.005321   \n",
              "avg_percentage_credit_card_limit_used_last_year    -0.076825      -0.010489   \n",
              "checking_amount                                     0.244091       0.301041   \n",
              "currently_repaying_other_loans                     -0.046939      -0.063285   \n",
              "dependent_number                                   -0.062818      -0.075647   \n",
              "fully_repaid_previous_loans                         0.013536       0.009899   \n",
              "is_employed                                        -0.126143       0.248526   \n",
              "is_first_loan                                       0.009840       0.005650   \n",
              "moneymaking                                         1.000000       0.246620   \n",
              "saving_amount                                       0.246620       1.000000   \n",
              "total_credit_card_limit                             0.137722       0.234181   \n",
              "yearly_salary                                       0.026722       0.288712   \n",
              "\n",
              "                                                 total_credit_card_limit  \\\n",
              "age                                                            -0.004052   \n",
              "avg_percentage_credit_card_limit_used_last_year                 0.318143   \n",
              "checking_amount                                                 0.240926   \n",
              "currently_repaying_other_loans                                 -0.052500   \n",
              "dependent_number                                               -0.058650   \n",
              "fully_repaid_previous_loans                                     0.005712   \n",
              "is_employed                                                     0.195274   \n",
              "is_first_loan                                                   0.000679   \n",
              "moneymaking                                                     0.137722   \n",
              "saving_amount                                                   0.234181   \n",
              "total_credit_card_limit                                         1.000000   \n",
              "yearly_salary                                                   0.222497   \n",
              "\n",
              "                                                 yearly_salary  \n",
              "age                                                   0.005412  \n",
              "avg_percentage_credit_card_limit_used_last_year      -0.011848  \n",
              "checking_amount                                       0.282909  \n",
              "currently_repaying_other_loans                       -0.065930  \n",
              "dependent_number                                     -0.073218  \n",
              "fully_repaid_previous_loans                           0.001855  \n",
              "is_employed                                           0.799051  \n",
              "is_first_loan                                        -0.001674  \n",
              "moneymaking                                           0.026722  \n",
              "saving_amount                                         0.288712  \n",
              "total_credit_card_limit                               0.222497  \n",
              "yearly_salary                                         1.000000  "
            ]
          },
          "metadata": {
            "tags": []
          },
          "execution_count": 259
        },
        {
          "output_type": "display_data",
          "data": {
            "image/png": "[encoded data removed]",
            "text/plain": [
              "<matplotlib.figure.Figure at 0x7fa5f50538d0>"
            ]
          },
          "metadata": {
            "tags": []
          }
        }
      ]
    },
    {
      "metadata": {
        "id": "TaQedDsvOlaw",
        "colab_type": "code",
        "colab": {}
      },
      "cell_type": "code",
      "source": [
        "# Use box plot with serveral continous variable"
      ],
      "execution_count": 0,
      "outputs": []
    },
    {
      "metadata": {
        "id": "RBa3CiN1Joks",
        "colab_type": "code",
        "colab": {
          "base_uri": "https://localhost:8080/",
          "height": 450
        },
        "outputId": "275f15d4-48fd-4791-8fd8-b4553a4c5670"
      },
      "cell_type": "code",
      "source": [
        "sns.boxplot(x=\"moneymaking\", y=\"total_credit_card_limit\", whis=1.6, data=df_train)\n",
        "# whis defined as proportion of the IQR past the low and high quartiles to extend the plot whiskers \n",
        "# or interquartile range (IQR)\n",
        "# therefore, maximum = Q3 + 1.6*IQR , min = Q1 - 1.6*IQR\n",
        "Q1 = df_train['total_credit_card_limit'].quantile(0.25)\n",
        "Q3 = df_train['total_credit_card_limit'].quantile(0.75)\n",
        "IQR = Q3 - Q1\n",
        "print('> No.outliner: %d \\n' %((df_train['total_credit_card_limit'] < (Q1 - 1.6 * IQR)) | (df_train['total_credit_card_limit'] > (Q3 + 1.6 * IQR))).sum())"
      ],
      "execution_count": 260,
      "outputs": [
        {
          "output_type": "stream",
          "text": [
            "> No.outliner: 338 \n",
            "\n"
          ],
          "name": "stdout"
        },
        {
          "output_type": "stream",
          "text": [
            "/usr/local/lib/python3.6/dist-packages/seaborn/categorical.py:454: FutureWarning: remove_na is deprecated and is a private function. Do not use.\n",
            "  box_data = remove_na(group_data)\n"
          ],
          "name": "stderr"
        },
        {
          "output_type": "display_data",
          "data": {
            "image/png": "[encoded data removed]",
            "text/plain": [
              "<matplotlib.figure.Figure at 0x7fa5f51bfeb8>"
            ]
          },
          "metadata": {
            "tags": []
          }
        }
      ]
    },
    {
      "metadata": {
        "id": "Y85lRUL0P61U",
        "colab_type": "code",
        "colab": {
          "base_uri": "https://localhost:8080/",
          "height": 450
        },
        "outputId": "c1a0093b-788e-44b0-c082-1f956ff6ec64"
      },
      "cell_type": "code",
      "source": [
        "sns.boxplot(x=\"moneymaking\", y=\"checking_amount\", whis=1.6, data=df_train)\n",
        "# whis defined as proportion of the IQR past the low and high quartiles to extend the plot whiskers \n",
        "# or interquartile range (IQR)\n",
        "# therefore, maximum = Q3 + 1.6*IQR , min = Q1 - 1.6*IQR\n",
        "Q1 = df_train['checking_amount'].quantile(0.25)\n",
        "Q3 = df_train['checking_amount'].quantile(0.75)\n",
        "IQR = Q3 - Q1\n",
        "print('> No.outliner: %d \\n' %((df_train['checking_amount'] < (Q1 - 1.6 * IQR)) | (df_train['checking_amount'] > (Q3 + 1.6 * IQR))).sum())"
      ],
      "execution_count": 261,
      "outputs": [
        {
          "output_type": "stream",
          "text": [
            "> No.outliner: 2217 \n",
            "\n"
          ],
          "name": "stdout"
        },
        {
          "output_type": "stream",
          "text": [
            "/usr/local/lib/python3.6/dist-packages/seaborn/categorical.py:454: FutureWarning: remove_na is deprecated and is a private function. Do not use.\n",
            "  box_data = remove_na(group_data)\n"
          ],
          "name": "stderr"
        },
        {
          "output_type": "display_data",
          "data": {
            "image/png": "[encoded data removed]",
            "text/plain": [
              "<matplotlib.figure.Figure at 0x7fa5f51fd518>"
            ]
          },
          "metadata": {
            "tags": []
          }
        }
      ]
    },
    {
      "metadata": {
        "id": "k66uUwNdeI6W",
        "colab_type": "code",
        "colab": {
          "base_uri": "https://localhost:8080/",
          "height": 450
        },
        "outputId": "12e8c9c3-ea59-4e24-bdb2-84d67c904e5a"
      },
      "cell_type": "code",
      "source": [
        "sns.boxplot(x=\"moneymaking\", y=\"saving_amount\", whis=1.6, data=df_train)\n",
        "# whis defined as proportion of the IQR past the low and high quartiles to extend the plot whiskers \n",
        "# or interquartile range (IQR)\n",
        "# therefore, maximum = Q3 + 1.6*IQR , min = Q1 - 1.6*IQR\n",
        "Q1 = df_train['saving_amount'].quantile(0.25)\n",
        "Q3 = df_train['saving_amount'].quantile(0.75)\n",
        "IQR = Q3 - Q1\n",
        "print('> No.outliner: %d \\n' %((df_train['saving_amount'] < (Q1 - 1.6 * IQR)) | (df_train['saving_amount'] > (Q3 + 1.6 * IQR))).sum())"
      ],
      "execution_count": 262,
      "outputs": [
        {
          "output_type": "stream",
          "text": [
            "> No.outliner: 4275 \n",
            "\n"
          ],
          "name": "stdout"
        },
        {
          "output_type": "stream",
          "text": [
            "/usr/local/lib/python3.6/dist-packages/seaborn/categorical.py:454: FutureWarning: remove_na is deprecated and is a private function. Do not use.\n",
            "  box_data = remove_na(group_data)\n"
          ],
          "name": "stderr"
        },
        {
          "output_type": "display_data",
          "data": {
            "image/png": "[encoded data removed]",
            "text/plain": [
              "<matplotlib.figure.Figure at 0x7fa5f86bc908>"
            ]
          },
          "metadata": {
            "tags": []
          }
        }
      ]
    },
    {
      "metadata": {
        "id": "Q_1wfAoYAV2m",
        "colab_type": "text"
      },
      "cell_type": "markdown",
      "source": [
        "### Note:\n",
        "  saving_amount, and checking_amount may be too skewed,  however, we cannot remove these values as the outlier, because this could contain the critical information for modelling."
      ]
    },
    {
      "metadata": {
        "id": "jxfAFZx2fFDv",
        "colab_type": "code",
        "colab": {
          "base_uri": "https://localhost:8080/",
          "height": 450
        },
        "outputId": "cb98087a-4f8b-48ca-fb5b-27dcc10ca3ee"
      },
      "cell_type": "code",
      "source": [
        "sns.boxplot(x=\"moneymaking\", y=\"yearly_salary\", whis=1.6, data=df_train)\n",
        "# whis defined as proportion of the IQR past the low and high quartiles to extend the plot whiskers \n",
        "# or interquartile range (IQR)\n",
        "# therefore, maximum = Q3 + 1.6*IQR , min = Q1 - 1.6*IQR\n",
        "Q1 = df_train['yearly_salary'].quantile(0.25)\n",
        "Q3 = df_train['yearly_salary'].quantile(0.75)\n",
        "IQR = Q3 - Q1\n",
        "print('> No.outliner: %d \\n' %((df_train['yearly_salary'] < (Q1 - 1.6 * IQR)) | (df_train['yearly_salary'] > (Q3 + 1.6 * IQR))).sum())"
      ],
      "execution_count": 263,
      "outputs": [
        {
          "output_type": "stream",
          "text": [
            "> No.outliner: 3 \n",
            "\n"
          ],
          "name": "stdout"
        },
        {
          "output_type": "stream",
          "text": [
            "/usr/local/lib/python3.6/dist-packages/seaborn/categorical.py:454: FutureWarning: remove_na is deprecated and is a private function. Do not use.\n",
            "  box_data = remove_na(group_data)\n"
          ],
          "name": "stderr"
        },
        {
          "output_type": "display_data",
          "data": {
            "image/png": "[encoded data removed]",
            "text/plain": [
              "<matplotlib.figure.Figure at 0x7fa5f51bf160>"
            ]
          },
          "metadata": {
            "tags": []
          }
        }
      ]
    },
    {
      "metadata": {
        "id": "b155LxYw_gAE",
        "colab_type": "code",
        "colab": {
          "base_uri": "https://localhost:8080/",
          "height": 450
        },
        "outputId": "d69631d7-979f-48a5-b527-63e8e1c5ac80"
      },
      "cell_type": "code",
      "source": [
        "sns.boxplot(x=\"moneymaking\", y=\"age\", whis=1.6, data=df_train)\n",
        "# whis defined as proportion of the IQR past the low and high quartiles to extend the plot whiskers \n",
        "# or interquartile range (IQR)\n",
        "# therefore, maximum = Q3 + 1.6*IQR , min = Q1 - 1.6*IQR\n",
        "Q1 = df_train['age'].quantile(0.25)\n",
        "Q3 = df_train['age'].quantile(0.75)\n",
        "IQR = Q3 - Q1\n",
        "print('> No.outliner: %d \\n' %((df_train['age'] < (Q1 - 1.6 * IQR)) | (df_train['age'] > (Q3 + 1.6 * IQR))).sum())"
      ],
      "execution_count": 264,
      "outputs": [
        {
          "output_type": "stream",
          "text": [
            "> No.outliner: 90 \n",
            "\n"
          ],
          "name": "stdout"
        },
        {
          "output_type": "stream",
          "text": [
            "/usr/local/lib/python3.6/dist-packages/seaborn/categorical.py:454: FutureWarning: remove_na is deprecated and is a private function. Do not use.\n",
            "  box_data = remove_na(group_data)\n"
          ],
          "name": "stderr"
        },
        {
          "output_type": "display_data",
          "data": {
            "image/png": "[encoded data removed]",
            "text/plain": [
              "<matplotlib.figure.Figure at 0x7fa5ff0560f0>"
            ]
          },
          "metadata": {
            "tags": []
          }
        }
      ]
    },
    {
      "metadata": {
        "id": "Yuy65MtyjZjF",
        "colab_type": "text"
      },
      "cell_type": "markdown",
      "source": [
        "## 2.Important Features"
      ]
    },
    {
      "metadata": {
        "id": "52oKkW4Jj2z8",
        "colab_type": "code",
        "colab": {}
      },
      "cell_type": "code",
      "source": [
        "from sklearn.model_selection import train_test_split\n",
        "from sklearn.ensemble import ExtraTreesClassifier"
      ],
      "execution_count": 0,
      "outputs": []
    },
    {
      "metadata": {
        "id": "rnOKKEUljY85",
        "colab_type": "code",
        "colab": {}
      },
      "cell_type": "code",
      "source": [
        "y = df_train['moneymaking']\n",
        "X = df_train.drop(['moneymaking'],axis=1).copy()\n",
        "X_train, X_test, y_train, y_test = train_test_split(X, y, test_size=0.2, random_state=42)"
      ],
      "execution_count": 0,
      "outputs": []
    },
    {
      "metadata": {
        "id": "fKpXC0DEnNSA",
        "colab_type": "code",
        "colab": {}
      },
      "cell_type": "code",
      "source": [
        "# Endcoding the categorical features and getting the dummies matrix\n",
        "X_train=pd.get_dummies(X_train, prefix=['loan_purpose'], columns=['loan_purpose'])"
      ],
      "execution_count": 0,
      "outputs": []
    },
    {
      "metadata": {
        "id": "iqjbvQqhl57j",
        "colab_type": "code",
        "colab": {
          "base_uri": "https://localhost:8080/",
          "height": 121
        },
        "outputId": "afdf4f19-989c-41ab-921e-e1523ccf7344"
      },
      "cell_type": "code",
      "source": [
        "# Build a forest and compute the feature importances\n",
        "clf_forest = ExtraTreesClassifier(n_estimators=250,\n",
        "                              random_state=0)\n",
        "clf_forest.fit(X_train, y_train)"
      ],
      "execution_count": 268,
      "outputs": [
        {
          "output_type": "execute_result",
          "data": {
            "text/plain": [
              "ExtraTreesClassifier(bootstrap=False, class_weight=None, criterion='gini',\n",
              "           max_depth=None, max_features='auto', max_leaf_nodes=None,\n",
              "           min_impurity_decrease=0.0, min_impurity_split=None,\n",
              "           min_samples_leaf=1, min_samples_split=2,\n",
              "           min_weight_fraction_leaf=0.0, n_estimators=250, n_jobs=1,\n",
              "           oob_score=False, random_state=0, verbose=0, warm_start=False)"
            ]
          },
          "metadata": {
            "tags": []
          },
          "execution_count": 268
        }
      ]
    },
    {
      "metadata": {
        "id": "ZRM0zeYGl6E9",
        "colab_type": "code",
        "colab": {
          "base_uri": "https://localhost:8080/",
          "height": 602
        },
        "outputId": "bbf46996-548b-4698-a4e8-df0b102bc91e"
      },
      "cell_type": "code",
      "source": [
        "# std = np.std([tree.feature_importances_ for tree in clf_forest.estimators_],axis=0)\n",
        "features = X_train.columns\n",
        "importances = clf_forest.feature_importances_\n",
        "nSelectedFeature = 11\n",
        "indices = np.argsort(importances)[-(nSelectedFeature-1):]\n",
        "\n",
        "# Print the feature ranking\n",
        "rank = np.argsort(clf_forest.feature_importances_)[::-1]\n",
        "print(\"Feature ranking:\")\n",
        "for f in range(nSelectedFeature):\n",
        "    print(\"%d. %s (%f)\" % (f + 1, features[rank[f]] , importances[rank[f]]))\n",
        "\n",
        "\n",
        "# Bar plot\n",
        "plt.title('Feature Importances')\n",
        "plt.barh(range(len(indices)), importances[indices], color='r', align='center')\n",
        "plt.yticks(range(len(indices)), [features[i] for i in indices])\n",
        "plt.xlabel('Relative Importance')"
      ],
      "execution_count": 269,
      "outputs": [
        {
          "output_type": "stream",
          "text": [
            "Feature ranking:\n",
            "1. saving_amount (0.187259)\n",
            "2. checking_amount (0.180769)\n",
            "3. total_credit_card_limit (0.127340)\n",
            "4. avg_percentage_credit_card_limit_used_last_year (0.123178)\n",
            "5. age (0.108905)\n",
            "6. yearly_salary (0.102952)\n",
            "7. dependent_number (0.068194)\n",
            "8. is_employed (0.036917)\n",
            "9. currently_repaying_other_loans (0.022157)\n",
            "10. fully_repaid_previous_loans (0.010737)\n",
            "11. loan_purpose_emergency_funds (0.006173)\n"
          ],
          "name": "stdout"
        },
        {
          "output_type": "execute_result",
          "data": {
            "text/plain": [
              "Text(0.5,0,'Relative Importance')"
            ]
          },
          "metadata": {
            "tags": []
          },
          "execution_count": 269
        },
        {
          "output_type": "display_data",
          "data": {
            "image/png": "[encoded data removed]",
            "text/plain": [
              "<matplotlib.figure.Figure at 0x7fa5ff313080>"
            ]
          },
          "metadata": {
            "tags": []
          }
        }
      ]
    },
    {
      "metadata": {
        "id": "q3amUI3PfWWW",
        "colab_type": "text"
      },
      "cell_type": "markdown",
      "source": [
        "### Note:\n",
        "  After this step, I can make decision for dropping  features namely: yearly_salary, is_first_loan, currently_repaying_other_loans. <br>\n",
        "  This is because yearly_salary significantly correlates with is_employed, and the latter feature get higher importance in model.  Similar for the case of removing is_first_loan and currently_repaying_other_loans."
      ]
    },
    {
      "metadata": {
        "id": "0TwfCh-LBgyo",
        "colab_type": "text"
      },
      "cell_type": "markdown",
      "source": [
        "## 3.Feature selection"
      ]
    },
    {
      "metadata": {
        "id": "OFQybrKHfFZR",
        "colab_type": "code",
        "colab": {
          "base_uri": "https://localhost:8080/",
          "height": 226
        },
        "outputId": "aeb3aed4-c5f8-464b-b3e3-5736acb4f972"
      },
      "cell_type": "code",
      "source": [
        "df_trained = df_train[df_train.columns.difference(['is_employed','is_first_loan','currently_repaying_other_loans'])]\n",
        "df_trained.head()"
      ],
      "execution_count": 290,
      "outputs": [
        {
          "output_type": "execute_result",
          "data": {
            "text/html": [
              "<div>\n",
              "<style scoped>\n",
              "    .dataframe tbody tr th:only-of-type {\n",
              "        vertical-align: middle;\n",
              "    }\n",
              "\n",
              "    .dataframe tbody tr th {\n",
              "        vertical-align: top;\n",
              "    }\n",
              "\n",
              "    .dataframe thead th {\n",
              "        text-align: right;\n",
              "    }\n",
              "</style>\n",
              "<table border=\"1\" class=\"dataframe\">\n",
              "  <thead>\n",
              "    <tr style=\"text-align: right;\">\n",
              "      <th></th>\n",
              "      <th>age</th>\n",
              "      <th>avg_percentage_credit_card_limit_used_last_year</th>\n",
              "      <th>checking_amount</th>\n",
              "      <th>dependent_number</th>\n",
              "      <th>fully_repaid_previous_loans</th>\n",
              "      <th>loan_purpose</th>\n",
              "      <th>moneymaking</th>\n",
              "      <th>saving_amount</th>\n",
              "      <th>total_credit_card_limit</th>\n",
              "      <th>yearly_salary</th>\n",
              "    </tr>\n",
              "  </thead>\n",
              "  <tbody>\n",
              "    <tr>\n",
              "      <th>0</th>\n",
              "      <td>47</td>\n",
              "      <td>0.49</td>\n",
              "      <td>1073</td>\n",
              "      <td>3</td>\n",
              "      <td>2.0</td>\n",
              "      <td>business</td>\n",
              "      <td>1</td>\n",
              "      <td>3285</td>\n",
              "      <td>8000</td>\n",
              "      <td>0</td>\n",
              "    </tr>\n",
              "    <tr>\n",
              "      <th>1</th>\n",
              "      <td>33</td>\n",
              "      <td>1.03</td>\n",
              "      <td>5299</td>\n",
              "      <td>1</td>\n",
              "      <td>1.0</td>\n",
              "      <td>investment</td>\n",
              "      <td>1</td>\n",
              "      <td>636</td>\n",
              "      <td>4500</td>\n",
              "      <td>13500</td>\n",
              "    </tr>\n",
              "    <tr>\n",
              "      <th>2</th>\n",
              "      <td>38</td>\n",
              "      <td>0.82</td>\n",
              "      <td>3422</td>\n",
              "      <td>8</td>\n",
              "      <td>2.0</td>\n",
              "      <td>other</td>\n",
              "      <td>1</td>\n",
              "      <td>2085</td>\n",
              "      <td>6900</td>\n",
              "      <td>24500</td>\n",
              "    </tr>\n",
              "    <tr>\n",
              "      <th>3</th>\n",
              "      <td>24</td>\n",
              "      <td>0.82</td>\n",
              "      <td>3388</td>\n",
              "      <td>1</td>\n",
              "      <td>1.0</td>\n",
              "      <td>investment</td>\n",
              "      <td>1</td>\n",
              "      <td>358</td>\n",
              "      <td>1200</td>\n",
              "      <td>0</td>\n",
              "    </tr>\n",
              "    <tr>\n",
              "      <th>4</th>\n",
              "      <td>36</td>\n",
              "      <td>0.80</td>\n",
              "      <td>4282</td>\n",
              "      <td>1</td>\n",
              "      <td>0.0</td>\n",
              "      <td>emergency_funds</td>\n",
              "      <td>1</td>\n",
              "      <td>2138</td>\n",
              "      <td>6900</td>\n",
              "      <td>18100</td>\n",
              "    </tr>\n",
              "  </tbody>\n",
              "</table>\n",
              "</div>"
            ],
            "text/plain": [
              "   age  avg_percentage_credit_card_limit_used_last_year  checking_amount  \\\n",
              "0   47                                             0.49             1073   \n",
              "1   33                                             1.03             5299   \n",
              "2   38                                             0.82             3422   \n",
              "3   24                                             0.82             3388   \n",
              "4   36                                             0.80             4282   \n",
              "\n",
              "   dependent_number  fully_repaid_previous_loans     loan_purpose  \\\n",
              "0                 3                          2.0         business   \n",
              "1                 1                          1.0       investment   \n",
              "2                 8                          2.0            other   \n",
              "3                 1                          1.0       investment   \n",
              "4                 1                          0.0  emergency_funds   \n",
              "\n",
              "   moneymaking  saving_amount  total_credit_card_limit  yearly_salary  \n",
              "0            1           3285                     8000              0  \n",
              "1            1            636                     4500          13500  \n",
              "2            1           2085                     6900          24500  \n",
              "3            1            358                     1200              0  \n",
              "4            1           2138                     6900          18100  "
            ]
          },
          "metadata": {
            "tags": []
          },
          "execution_count": 290
        }
      ]
    },
    {
      "metadata": {
        "id": "kAa29SZ8Cciw",
        "colab_type": "code",
        "colab": {
          "base_uri": "https://localhost:8080/",
          "height": 619
        },
        "outputId": "3dafcb45-f693-45a2-df94-258d685817c2"
      },
      "cell_type": "code",
      "source": [
        "#I uses the boxplot transformation to reduce the skew of continous varibale\n",
        "# plus 1 for eliminating zero cases\n",
        "df_trained['checking_amount'], para = stats.boxcox(df_trained['checking_amount']+1)\n",
        "col = df_trained['checking_amount']\n",
        "print(np.isinf(col).sum()>1)\n",
        "print(col.isnull().sum()>0)\n",
        "\n",
        "Q1 = col.quantile(0.25)\n",
        "Q3 = col.quantile(0.75)\n",
        "IQR = Q3 - Q1\n",
        "print('> No.outliner: %d \\n' %((col < (Q1 - 1.6 * IQR)) | (col > (Q3 + 1.6 * IQR))).sum())\n",
        "\n",
        "plt.figure(figsize=(15,6))\n",
        "plt.subplot(1, 2, 1)\n",
        "fig = sns.boxplot(y=col)\n",
        "fig.set_title('')\n",
        "fig.set_ylabel('checking_amount')\n",
        "    \n",
        "plt.subplot(1, 2, 2)\n",
        "fig = sns.distplot(col.dropna())#.hist(bins=20)\n",
        "fig.set_ylabel('Volumn')\n",
        "fig.set_xlabel('checking_amount')\n",
        "\n",
        "plt.show()"
      ],
      "execution_count": 291,
      "outputs": [
        {
          "output_type": "stream",
          "text": [
            "/usr/local/lib/python3.6/dist-packages/ipykernel_launcher.py:1: SettingWithCopyWarning: \n",
            "A value is trying to be set on a copy of a slice from a DataFrame.\n",
            "Try using .loc[row_indexer,col_indexer] = value instead\n",
            "\n",
            "See the caveats in the documentation: http://pandas.pydata.org/pandas-docs/stable/indexing.html#indexing-view-versus-copy\n",
            "  \"\"\"Entry point for launching an IPython kernel.\n",
            "/usr/local/lib/python3.6/dist-packages/seaborn/categorical.py:454: FutureWarning: remove_na is deprecated and is a private function. Do not use.\n",
            "  box_data = remove_na(group_data)\n"
          ],
          "name": "stderr"
        },
        {
          "output_type": "stream",
          "text": [
            "False\n",
            "False\n",
            "> No.outliner: 499 \n",
            "\n"
          ],
          "name": "stdout"
        },
        {
          "output_type": "display_data",
          "data": {
            "image/png": "[encoded data removed]",
            "text/plain": [
              "<matplotlib.figure.Figure at 0x7fa5fab724a8>"
            ]
          },
          "metadata": {
            "tags": []
          }
        }
      ]
    },
    {
      "metadata": {
        "id": "22XgQA2sEGLI",
        "colab_type": "code",
        "colab": {
          "base_uri": "https://localhost:8080/",
          "height": 616
        },
        "outputId": "0089dc49-241d-46a1-cd36-3ef273f085d5"
      },
      "cell_type": "code",
      "source": [
        "#I uses the boxplot transformation to reduce the skew of continous varibale\n",
        "# plus 1 for eliminating zero cases\n",
        "df_trained['saving_amount'], para = stats.boxcox(df_trained['saving_amount']+1)\n",
        "col = df_trained['saving_amount']\n",
        "print(np.isinf(col).sum()>1)\n",
        "print(col.isnull().sum()>0)\n",
        "\n",
        "Q1 = col.quantile(0.25)\n",
        "Q3 = col.quantile(0.75)\n",
        "IQR = Q3 - Q1\n",
        "print('> No.outliner: %d \\n' %((col < (Q1 - 1.6 * IQR)) | (col > (Q3 + 1.6 * IQR))).sum())\n",
        "\n",
        "plt.figure(figsize=(15,6))\n",
        "plt.subplot(1, 2, 1)\n",
        "fig = sns.boxplot(y=col)\n",
        "fig.set_title('')\n",
        "fig.set_ylabel('checking_amount')\n",
        "    \n",
        "plt.subplot(1, 2, 2)\n",
        "fig = sns.distplot(col.dropna())#.hist(bins=20)\n",
        "fig.set_ylabel('Volumn')\n",
        "fig.set_xlabel('checking_amount')\n",
        "\n",
        "plt.show()"
      ],
      "execution_count": 293,
      "outputs": [
        {
          "output_type": "stream",
          "text": [
            "/usr/local/lib/python3.6/dist-packages/ipykernel_launcher.py:1: SettingWithCopyWarning: \n",
            "A value is trying to be set on a copy of a slice from a DataFrame.\n",
            "Try using .loc[row_indexer,col_indexer] = value instead\n",
            "\n",
            "See the caveats in the documentation: http://pandas.pydata.org/pandas-docs/stable/indexing.html#indexing-view-versus-copy\n",
            "  \"\"\"Entry point for launching an IPython kernel.\n",
            "/usr/local/lib/python3.6/dist-packages/seaborn/categorical.py:454: FutureWarning: remove_na is deprecated and is a private function. Do not use.\n",
            "  box_data = remove_na(group_data)\n"
          ],
          "name": "stderr"
        },
        {
          "output_type": "stream",
          "text": [
            "False\n",
            "False\n",
            "> No.outliner: 693 \n",
            "\n"
          ],
          "name": "stdout"
        },
        {
          "output_type": "display_data",
          "data": {
            "image/png": "[encoded data removed]",
            "text/plain": [
              "<matplotlib.figure.Figure at 0x7fa5ff343208>"
            ]
          },
          "metadata": {
            "tags": []
          }
        }
      ]
    },
    {
      "metadata": {
        "id": "YowdfoCVdCPE",
        "colab_type": "code",
        "colab": {
          "base_uri": "https://localhost:8080/",
          "height": 616
        },
        "outputId": "e23afa88-964d-425f-adda-d8aee32a69d4"
      },
      "cell_type": "code",
      "source": [
        "#I uses the boxplot transformation to reduce the skew of continous varibale\n",
        "# plus 1 for eliminating zero cases\n",
        "df_trained['yearly_salary'], para = stats.boxcox(df_trained['yearly_salary']+1)\n",
        "col = df_trained['yearly_salary']\n",
        "print(np.isinf(col).sum()>1)\n",
        "print(col.isnull().sum()>0)\n",
        "\n",
        "Q1 = col.quantile(0.25)\n",
        "Q3 = col.quantile(0.75)\n",
        "IQR = Q3 - Q1\n",
        "print('> No.outliner: %d \\n' %((col < (Q1 - 1.6 * IQR)) | (col > (Q3 + 1.6 * IQR))).sum())\n",
        "\n",
        "plt.figure(figsize=(15,6))\n",
        "plt.subplot(1, 2, 1)\n",
        "fig = sns.boxplot(y=col)\n",
        "fig.set_title('')\n",
        "fig.set_ylabel('checking_amount')\n",
        "    \n",
        "plt.subplot(1, 2, 2)\n",
        "fig = sns.distplot(col.dropna())#.hist(bins=20)\n",
        "fig.set_ylabel('Volumn')\n",
        "fig.set_xlabel('checking_amount')\n",
        "\n",
        "plt.show()"
      ],
      "execution_count": 292,
      "outputs": [
        {
          "output_type": "stream",
          "text": [
            "/usr/local/lib/python3.6/dist-packages/ipykernel_launcher.py:1: SettingWithCopyWarning: \n",
            "A value is trying to be set on a copy of a slice from a DataFrame.\n",
            "Try using .loc[row_indexer,col_indexer] = value instead\n",
            "\n",
            "See the caveats in the documentation: http://pandas.pydata.org/pandas-docs/stable/indexing.html#indexing-view-versus-copy\n",
            "  \"\"\"Entry point for launching an IPython kernel.\n",
            "/usr/local/lib/python3.6/dist-packages/seaborn/categorical.py:454: FutureWarning: remove_na is deprecated and is a private function. Do not use.\n",
            "  box_data = remove_na(group_data)\n"
          ],
          "name": "stderr"
        },
        {
          "output_type": "stream",
          "text": [
            "False\n",
            "False\n",
            "> No.outliner: 0 \n",
            "\n"
          ],
          "name": "stdout"
        },
        {
          "output_type": "display_data",
          "data": {
            "image/png": "[encoded data removed]",
            "text/plain": [
              "<matplotlib.figure.Figure at 0x7fa5f89986a0>"
            ]
          },
          "metadata": {
            "tags": []
          }
        }
      ]
    },
    {
      "metadata": {
        "id": "pGOG8H4XEelS",
        "colab_type": "text"
      },
      "cell_type": "markdown",
      "source": [
        "# Fitting model"
      ]
    },
    {
      "metadata": {
        "id": "sk66GVjQM2eR",
        "colab_type": "text"
      },
      "cell_type": "markdown",
      "source": [
        "## Define function"
      ]
    },
    {
      "metadata": {
        "colab_type": "code",
        "id": "HfJvvsgLNHO-",
        "colab": {}
      },
      "cell_type": "code",
      "source": [
        "from sklearn.base import BaseEstimator\n",
        "from sklearn.base import ClassifierMixin\n",
        "from sklearn.preprocessing import LabelEncoder\n",
        "from sklearn.externals import six\n",
        "from sklearn.base import clone\n",
        "from sklearn.pipeline import _name_estimators\n",
        "import numpy as np\n",
        "import operator\n",
        "class MajorityVoteClassifier(BaseEstimator, ClassifierMixin):\n",
        "    \"\"\" A majority vote ensemble classifier\n",
        "\n",
        "    Parameters\n",
        "    ----------\n",
        "    classifiers : array-like, shape = [n_classifiers]\n",
        "      Different classifiers for the ensemble\n",
        "\n",
        "    vote : str, {'classlabel', 'probability'} (default='label')\n",
        "      If 'classlabel' the prediction is based on the argmax of\n",
        "        class labels. Else if 'probability', the argmax of\n",
        "        the sum of probabilities is used to predict the class label\n",
        "        (recommended for calibrated classifiers).\n",
        "\n",
        "    weights : array-like, shape = [n_classifiers], optional (default=None)\n",
        "      If a list of `int` or `float` values are provided, the classifiers\n",
        "      are weighted by importance; Uses uniform weights if `weights=None`.\n",
        "\n",
        "    \"\"\"\n",
        "\n",
        "    def __init__(self, classifiers, vote='classlabel', weights=None):\n",
        "\n",
        "        self.classifiers = classifiers\n",
        "        self.named_classifiers = {key: value for key, value\n",
        "                                  in _name_estimators(classifiers)}\n",
        "        self.vote = vote\n",
        "        self.weights = weights\n",
        "\n",
        "    def fit(self, X, y):\n",
        "        \"\"\" Fit classifiers.\n",
        "\n",
        "        Parameters\n",
        "        ----------\n",
        "        X : {array-like, sparse matrix}, shape = [n_samples, n_features]\n",
        "            Matrix of training samples.\n",
        "\n",
        "        y : array-like, shape = [n_samples]\n",
        "            Vector of target class labels.\n",
        "\n",
        "        Returns\n",
        "        -------\n",
        "        self : object\n",
        "\n",
        "        \"\"\"\n",
        "        if self.vote not in ('probability', 'classlabel'):\n",
        "            raise ValueError(\"vote must be 'probability' or 'classlabel'\"\n",
        "                             \"; got (vote=%r)\"\n",
        "                             % self.vote)\n",
        "\n",
        "        if self.weights and len(self.weights) != len(self.classifiers):\n",
        "            raise ValueError('Number of classifiers and weights must be equal'\n",
        "                             '; got %d weights, %d classifiers'\n",
        "                             % (len(self.weights), len(self.classifiers)))\n",
        "\n",
        "        # Use LabelEncoder to ensure class labels start with 0, which\n",
        "        # is important for np.argmax call in self.predict\n",
        "        self.lablenc_ = LabelEncoder()\n",
        "        self.lablenc_.fit(y)\n",
        "        self.classes_ = self.lablenc_.classes_\n",
        "        self.classifiers_ = []\n",
        "        for clf in self.classifiers:\n",
        "            fitted_clf = clone(clf).fit(X, self.lablenc_.transform(y))\n",
        "            self.classifiers_.append(fitted_clf)\n",
        "        return self\n",
        "\n",
        "    def predict(self, X):\n",
        "        \"\"\" Predict class labels for X.\n",
        "\n",
        "        Parameters\n",
        "        ----------\n",
        "        X : {array-like, sparse matrix}, shape = [n_samples, n_features]\n",
        "            Matrix of training samples.\n",
        "\n",
        "        Returns\n",
        "        ----------\n",
        "        maj_vote : array-like, shape = [n_samples]\n",
        "            Predicted class labels.\n",
        "\n",
        "        \"\"\"\n",
        "        if self.vote == 'probability':\n",
        "            maj_vote = np.argmax(self.predict_proba(X), axis=1)\n",
        "        else:  # 'classlabel' vote\n",
        "\n",
        "            #  Collect results from clf.predict calls\n",
        "            predictions = np.asarray([clf.predict(X)\n",
        "                                      for clf in self.classifiers_]).T\n",
        "\n",
        "            maj_vote = np.apply_along_axis(\n",
        "                lambda x:\n",
        "                np.argmax(np.bincount(x,\n",
        "                                      weights=self.weights)),\n",
        "                axis=1,\n",
        "                arr=predictions)\n",
        "        maj_vote = self.lablenc_.inverse_transform(maj_vote)\n",
        "        return maj_vote\n",
        "\n",
        "    def predict_proba(self, X):\n",
        "        \"\"\" Predict class probabilities for X.\n",
        "\n",
        "        Parameters\n",
        "        ----------\n",
        "        X : {array-like, sparse matrix}, shape = [n_samples, n_features]\n",
        "            Training vectors, where n_samples is the number of samples and\n",
        "            n_features is the number of features.\n",
        "\n",
        "        Returns\n",
        "        ----------\n",
        "        avg_proba : array-like, shape = [n_samples, n_classes]\n",
        "            Weighted average probability for each class per sample.\n",
        "\n",
        "        \"\"\"\n",
        "        probas = np.asarray([clf.predict_proba(X)\n",
        "                             for clf in self.classifiers_])\n",
        "        avg_proba = np.average(probas, axis=0, weights=self.weights)\n",
        "        return avg_proba\n",
        "\n",
        "    def get_params(self, deep=True):\n",
        "        \"\"\" Get classifier parameter names for GridSearch\"\"\"\n",
        "        if not deep:\n",
        "            return super(MajorityVoteClassifier, self).get_params(deep=False)\n",
        "        else:\n",
        "            out = self.named_classifiers.copy()\n",
        "            for name, step in six.iteritems(self.named_classifiers):\n",
        "                for key, value in six.iteritems(step.get_params(deep=True)):\n",
        "                    out['%s__%s' % (name, key)] = value\n",
        "            return out"
      ],
      "execution_count": 0,
      "outputs": []
    },
    {
      "metadata": {
        "id": "AhKWeQ9ENl1N",
        "colab_type": "text"
      },
      "cell_type": "markdown",
      "source": [
        "## Majority Voting"
      ]
    },
    {
      "metadata": {
        "id": "Rn2eL9dhGRXm",
        "colab_type": "code",
        "colab": {}
      },
      "cell_type": "code",
      "source": [
        "from sklearn import datasets\n",
        "from sklearn.preprocessing import StandardScaler\n",
        "from sklearn.preprocessing import LabelEncoder\n",
        "from sklearn.model_selection import train_test_split\n",
        "\n",
        "import numpy as np\n",
        "from sklearn.linear_model import LogisticRegression\n",
        "from sklearn.tree import DecisionTreeClassifier\n",
        "from sklearn.neighbors import KNeighborsClassifier\n",
        "from sklearn.pipeline import Pipeline\n",
        "from sklearn.model_selection import cross_val_score"
      ],
      "execution_count": 0,
      "outputs": []
    },
    {
      "metadata": {
        "id": "pRrhfWqjGSEC",
        "colab_type": "code",
        "colab": {}
      },
      "cell_type": "code",
      "source": [
        "y = df_trained['moneymaking']\n",
        "X = df_trained.drop(['moneymaking'],axis=1).copy()\n",
        "X=pd.get_dummies(X, prefix=['loan_purpose'], columns=['loan_purpose'])\n",
        "X_train, X_test, y_train, y_test = train_test_split(X, y, test_size=0.2, random_state=42)"
      ],
      "execution_count": 0,
      "outputs": []
    },
    {
      "metadata": {
        "id": "x4_TWKr1GhiC",
        "colab_type": "code",
        "colab": {
          "base_uri": "https://localhost:8080/",
          "height": 104
        },
        "outputId": "ae6ae0e2-3f1b-49c2-a253-de34e744ed10"
      },
      "cell_type": "code",
      "source": [
        "clf1 = LogisticRegression(penalty='l2', C=0.001, random_state=1)\n",
        "clf2 = DecisionTreeClassifier(max_depth=1, criterion='entropy', random_state=0)\n",
        "clf3 = KNeighborsClassifier(n_neighbors=1, p=2, metric='minkowski')\n",
        "pipe1 = Pipeline([['sc', StandardScaler()], ['clf', clf1]])\n",
        "pipe3 = Pipeline([['sc', StandardScaler()], ['clf', clf3]])\n",
        "clf_labels = ['Logistic regression', 'Decision tree', 'KNN']\n",
        "print('10-fold cross validation:\\n')\n",
        "for clf, label in zip([pipe1, clf2, pipe3], clf_labels):\n",
        "  scores = cross_val_score(estimator=clf,X=X_train,y=y_train,cv=10,scoring='roc_auc')\n",
        "  print(\"ROC AUC: %0.2f (+/- %0.2f) [%s]\"% (scores.mean(), scores.std(), label))"
      ],
      "execution_count": 295,
      "outputs": [
        {
          "output_type": "stream",
          "text": [
            "10-fold cross validation:\n",
            "\n",
            "ROC AUC: 0.80 (+/- 0.01) [Logistic regression]\n",
            "ROC AUC: 0.66 (+/- 0.00) [Decision tree]\n",
            "ROC AUC: 0.66 (+/- 0.01) [KNN]\n"
          ],
          "name": "stdout"
        }
      ]
    },
    {
      "metadata": {
        "id": "YzvhentgGhpU",
        "colab_type": "code",
        "colab": {
          "base_uri": "https://localhost:8080/",
          "height": 86
        },
        "outputId": "1484ada9-0ac2-4428-d41c-b33975cd8530"
      },
      "cell_type": "code",
      "source": [
        "# Majority Rule (hard) Voting\n",
        "mv_clf = MajorityVoteClassifier(classifiers=[pipe1, clf2, pipe3])\n",
        "clf_labels += ['Majority voting']\n",
        "all_clf = [pipe1, clf2, pipe3, mv_clf]\n",
        "for clf, label in zip(all_clf, clf_labels):\n",
        "  scores = cross_val_score(estimator=clf,X=X_train,y=y_train,cv=10,scoring='roc_auc')\n",
        "  print(\"ROC AUC: %0.2f (+/- %0.2f) [%s]\"% (scores.mean(), scores.std(), label))"
      ],
      "execution_count": 297,
      "outputs": [
        {
          "output_type": "stream",
          "text": [
            "ROC AUC: 0.80 (+/- 0.01) [Logistic regression]\n",
            "ROC AUC: 0.66 (+/- 0.00) [Decision tree]\n",
            "ROC AUC: 0.66 (+/- 0.01) [KNN]\n",
            "ROC AUC: 0.82 (+/- 0.01) [Majority voting]\n"
          ],
          "name": "stdout"
        }
      ]
    },
    {
      "metadata": {
        "id": "zEMqy5tFMMDz",
        "colab_type": "code",
        "colab": {
          "base_uri": "https://localhost:8080/",
          "height": 361
        },
        "outputId": "25ab2b7a-7dbc-48b7-b0cd-d6ef600f71c8"
      },
      "cell_type": "code",
      "source": [
        "from sklearn.metrics import roc_curve\n",
        "from sklearn.metrics import auc\n",
        "colors = ['black', 'orange', 'blue', 'green']\n",
        "linestyles = [':', '--', '-.', '-']\n",
        "for clf, label, clr, ls in zip(all_clf, clf_labels, colors, linestyles):\n",
        "  # assuming the label of the positive class is 1\n",
        "  y_pred = clf.fit(X_train, y_train).predict_proba(X_test)[:, 1]\n",
        "  fpr, tpr, thresholds = roc_curve(y_true=y_test, y_score=y_pred)\n",
        "  roc_auc = auc(x=fpr, y=tpr)\n",
        "  plt.plot(fpr, tpr, color=clr, linestyle=ls, label='%s (auc = %0.2f)' % (label, roc_auc))\n",
        "\n",
        "plt.legend(loc='lower right')\n",
        "plt.plot([0, 1], [0, 1], linestyle='--', color='gray', linewidth=2)\n",
        "plt.xlim([-0.1, 1.1])\n",
        "plt.ylim([-0.1, 1.1])\n",
        "plt.grid(alpha=0.5)\n",
        "plt.xlabel('False positive rate (FPR)')\n",
        "plt.ylabel('True positive rate (TPR)')\n",
        "#plt.savefig('images/04_04', dpi=300)\n",
        "plt.show()"
      ],
      "execution_count": 298,
      "outputs": [
        {
          "output_type": "display_data",
          "data": {
            "image/png": "[encoded data removed]",
            "text/plain": [
              "<matplotlib.figure.Figure at 0x7fa5ff2ec5f8>"
            ]
          },
          "metadata": {
            "tags": []
          }
        }
      ]
    },
    {
      "metadata": {
        "id": "zehuP9wLGGE2",
        "colab_type": "text"
      },
      "cell_type": "markdown",
      "source": [
        "## Bagging"
      ]
    },
    {
      "metadata": {
        "id": "ewfWK3VUO4U0",
        "colab_type": "code",
        "colab": {}
      },
      "cell_type": "code",
      "source": [
        "from sklearn.ensemble import BaggingClassifier\n",
        "from sklearn.tree import DecisionTreeClassifier\n",
        "\n",
        "tree = DecisionTreeClassifier(criterion='entropy',max_depth=None,random_state=1)\n",
        "bag = BaggingClassifier(base_estimator=tree,\n",
        "                        n_estimators=500,\n",
        "                        max_samples=1.0,\n",
        "                        max_features=1.0,\n",
        "                        bootstrap=True,\n",
        "                        bootstrap_features=False,\n",
        "                        n_jobs=1,\n",
        "                        random_state=1)"
      ],
      "execution_count": 0,
      "outputs": []
    },
    {
      "metadata": {
        "id": "enJzW5HbO4fw",
        "colab_type": "code",
        "colab": {
          "base_uri": "https://localhost:8080/",
          "height": 104
        },
        "outputId": "d9f70bde-e963-49fc-d4d2-93a9d5dc122b"
      },
      "cell_type": "code",
      "source": [
        "from sklearn.metrics import accuracy_score\n",
        "tree = tree.fit(X_train, y_train)\n",
        "tree_y_train_pred = tree.predict(X_train)\n",
        "tree_y_test_pred = tree.predict(X_test)\n",
        "\n",
        "tree_train = accuracy_score(y_train, tree_y_train_pred)\n",
        "tree_test = accuracy_score(y_test, tree_y_test_pred)\n",
        "print('Decision tree train/test accuracies %.3f/%.3f'% (tree_train, tree_test))\n",
        "print('comparing bank profitability vs your my profitability in test_set %.3f/%.3f \\n'%(y_test.sum(), tree_y_test_pred.sum()))\n",
        "\n",
        "bag = bag.fit(X_train, y_train)\n",
        "bag_y_train_pred = bag.predict(X_train)\n",
        "bag_y_test_pred = bag.predict(X_test)\n",
        "\n",
        "bag_train = accuracy_score(y_train, y_train_pred)\n",
        "bag_test = accuracy_score(y_test, y_test_pred)\n",
        "print('Bagging train/test accuracies %.3f/%.3f'% (bag_train, bag_test))\n",
        "print('comparing bank profitability vs your my profitability in test_set %.3f/%.3f'%(y_test.sum(), bag_y_test_pred.sum()))"
      ],
      "execution_count": 300,
      "outputs": [
        {
          "output_type": "stream",
          "text": [
            "Decision tree train/test accuracies 1.000/0.812\n",
            "comparing bank profitability vs your my profitability in test_set 13466.000/13136.000 \n",
            "\n",
            "Bagging train/test accuracies 0.304/0.346\n",
            "comparing bank profitability vs your my profitability in test_set 13466.000/14144.000\n"
          ],
          "name": "stdout"
        }
      ]
    },
    {
      "metadata": {
        "id": "RgV_CxIjGJp8",
        "colab_type": "text"
      },
      "cell_type": "markdown",
      "source": [
        "## Adaptive bossting"
      ]
    },
    {
      "metadata": {
        "id": "rH3YsqKsWkIQ",
        "colab_type": "code",
        "colab": {
          "base_uri": "https://localhost:8080/",
          "height": 104
        },
        "outputId": "55054fe6-74da-44d5-e43c-d3a453d80233"
      },
      "cell_type": "code",
      "source": [
        "from sklearn.ensemble import AdaBoostClassifier\n",
        "tree = DecisionTreeClassifier(criterion='entropy', max_depth=None, random_state=1)\n",
        "ada = AdaBoostClassifier(base_estimator=tree, n_estimators=500, learning_rate=0.1, random_state=1)\n",
        "\n",
        "tree = tree.fit(X_train, y_train)\n",
        "tree_y_train_pred = tree.predict(X_train)\n",
        "tree_y_test_pred = tree.predict(X_test)\n",
        "tree_train = accuracy_score(y_train, y_train_pred)\n",
        "tree_test = accuracy_score(y_test, y_test_pred)\n",
        "print('Decision tree train/test accuracies %.3f/%.3f'% (tree_train, tree_test))\n",
        "print('comparing bank profitability vs your my profitability in test_set %.3f/%.3f \\n'%(y_test.sum(), tree_y_test_pred.sum()))\n",
        "\n",
        "ada = ada.fit(X_train, y_train)\n",
        "ada_y_train_pred = ada.predict(X_train)\n",
        "ada_y_test_pred = ada.predict(X_test)\n",
        "ada_train = accuracy_score(y_train, y_train_pred)\n",
        "ada_test = accuracy_score(y_test, y_test_pred)\n",
        "print('AdaBoost train/test accuracies %.3f/%.3f'% (ada_train, ada_test))\n",
        "print('comparing bank profitability vs your my profitability in test_set %.3f/%.3f'%(y_test.sum(), ada_y_test_pred.sum()))"
      ],
      "execution_count": 299,
      "outputs": [
        {
          "output_type": "stream",
          "text": [
            "Decision tree train/test accuracies 0.304/0.346\n",
            "comparing bank profitability vs your my profitability in test_set 13466.000/13136.000 \n",
            "\n",
            "AdaBoost train/test accuracies 0.304/0.346\n",
            "comparing bank profitability vs your my profitability in test_set 13466.000/13074.000\n"
          ],
          "name": "stdout"
        }
      ]
    },
    {
      "metadata": {
        "id": "EWPj1PXuPmhy",
        "colab_type": "text"
      },
      "cell_type": "markdown",
      "source": [
        "# Final answer:\n",
        "1. As concerned in Feature Engineering section, I have built the variable to describe the model follows strategies 3 class-output: -1 lost, 0 neutral, 1 earned. However, the technique to solve this multiclass classification is over my level at this time. Therefore, I had changed to the binary problems as \n",
        "\n",
        "\n",
        "2. Using revenue-level rules above, however by my assumption, we agree that my model only lose money -1 when customers do not reload the rent amount. Thus, we will earn 1 for others case. Following the result above, I have 3 times that the profit of my model is less than the banking, however,  I also have a positive result for Bagging model, and in this case my model give a better result for customer credit rating model - 13466/14144.\n",
        "\n",
        "\n",
        "3. As I mentioned in Important features section, I have the feature ranking as follows Feature ranking: 1. saving_amount (0.187259), 2. checking_amount (0.180769), 3. total_credit_card_limit (0.127340), 4. avg_percentage_credit_card_limit_used_last_year (0.123178), 5. age (0.108905), 6. yearly_salary (0.102952), 7. dependent_number (0.068194), 8. is_employed (0.036917). Hence, the most critical feature is saving amount, and \"is_employed\" took at 8th position over 10, however, this feature is significantly relevent with \"yearly_salary\" but it is less important than. \n",
        "\n",
        "4. It is really hard to find the effective answer for the question of adding other varibales, in my opinion, we should extend more information about the customer such as: living address, academic level or their vehicle type."
      ]
    }
  ]
}