{
 "cells": [
  {
   "cell_type": "markdown",
   "metadata": {},
   "source": [
    "# Chap 1 & 2"
   ]
  },
  {
   "cell_type": "markdown",
   "metadata": {},
   "source": [
    "[Chap 1](https://lagunita.stanford.edu/assets/courseware/v1/af163b1b5874fcb7a86de55dd8205d39/c4x/HumanitiesSciences/StatLearning/asset/introduction-handout.pdf)\n",
    "\n",
    "- Give the information about Statistical Learning Problems\n",
    "    - Identify the risk factors for prostate cancer.\n",
    "    - Classify a recorded phoneme based on a log-periodogram.\n",
    "    - Predict whether someone will have a heart attack on the basis of demographic, diet and clinical measurements.\n",
    "    - Customize an email spam detection system.\n",
    "    - Identify the numbers in a handwritten zip code.\n",
    "    - Classify a tissue sample into one of several cancer classes, based on a gene expression profile.\n",
    "    - Establish the relationship between salary and demographic variables in population survey data.\n",
    "    - Classify the pixels in a LANDSAT image, by usage.\n",
    "\n",
    "<img src=\"./Image/1&2-a.png\"  width=\"360\" height=\"260\"/>\n",
    "<img src=\"./Image/1&2-b.png\"  width=\"360\" height=\"260\"/>\n",
    "<img src=\"./Image/1&2-c.png\"  width=\"360\" height=\"260\"/>"
   ]
  },
  {
   "cell_type": "markdown",
   "metadata": {},
   "source": [
    "[Chap 2](https://lagunita.stanford.edu/assets/courseware/v1/389682606dce6fd04aaa833c86e6f577/c4x/HumanitiesSciences/StatLearning/asset/statistical_learning-handout.pdf)\n",
    "- Regression function f(x)\n",
    "<img src=\"./Image/1&2-d.png\"  width=\"460\" height=\"360\"/>\n",
    "- What is good for f(x)\n",
    "<img src=\"./Image/1&2-e.png\"  width=\"460\" height=\"360\"/>\n",
    "- How estimate f\n",
    "<img src=\"./Image/1&2-f.png\"  width=\"460\" height=\"360\"/>\n",
    "<img src=\"./Image/1&2-g.png\"  width=\"460\" height=\"360\"/>"
   ]
  },
  {
   "cell_type": "markdown",
   "metadata": {},
   "source": [
    "Trade of btw simple and complex model\n",
    "<img src=\"./Image/1&2-h.png\"  width=\"460\" height=\"360\"/>\n",
    "<img src=\"./Image/1&2-i.png\"  width=\"460\" height=\"360\"/>\n",
    "<img src=\"./Image/1&2-j.png\"  width=\"460\" height=\"360\"/>"
   ]
  },
  {
   "cell_type": "markdown",
   "metadata": {},
   "source": [
    "- Classification \n",
    "<img src=\"./Image/1&2-l.png\"  width=\"460\" height=\"360\"/>\n",
    "<img src=\"./Image/1&2-m.png\"  width=\"460\" height=\"360\"/>\n",
    "<img src=\"./Image/1&2-n.png\"  width=\"460\" height=\"360\"/>\n",
    "<img src=\"./Image/1&2-o.png\"  width=\"460\" height=\"360\"/>"
   ]
  },
  {
   "cell_type": "code",
   "execution_count": null,
   "metadata": {},
   "outputs": [],
   "source": []
  }
 ],
 "metadata": {
  "kernelspec": {
   "display_name": "Python 3",
   "language": "python",
   "name": "python3"
  },
  "language_info": {
   "codemirror_mode": {
    "name": "ipython",
    "version": 3
   },
   "file_extension": ".py",
   "mimetype": "text/x-python",
   "name": "python",
   "nbconvert_exporter": "python",
   "pygments_lexer": "ipython3",
   "version": "3.6.5"
  }
 },
 "nbformat": 4,
 "nbformat_minor": 2
}
