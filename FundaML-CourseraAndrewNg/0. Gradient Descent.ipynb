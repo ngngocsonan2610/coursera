{
 "cells": [
  {
   "cell_type": "markdown",
   "metadata": {},
   "source": [
    "## Gradient Descent \n",
    "\n",
    "The summary of [lecture note](https://github.com/tuanavu/coursera-stanford/blob/master/machine_learning/lecture/week_1/ii_linear_regression_with_one_variable_week_1/Model%20and%20Cost%20Function.ipynb)\n",
    "\n",
    "More sources and Example:\n",
    "- https://machinelearningcoban.com/2017/01/16/gradientdescent2/\n",
    "\n",
    "Best source\n",
    "- http://ruder.io/optimizing-gradient-descent/index.html#amsgrad\n",
    "\n",
    "Example of [Gradient Descent for  a convex quadratic function in n-dimensional space](https://colab.research.google.com/drive/190GPiQz4yQHTPYKH41BoFoT9Ugr1hWFP) of the form\n",
    "\n",
    "$$f(x) = \\frac{1}{2}\\mathrm x^TA\\mathrm x + b^T\\mathrm x,$$"
   ]
  }
 ],
 "metadata": {
  "kernelspec": {
   "display_name": "Python 3",
   "language": "python",
   "name": "python3"
  },
  "language_info": {
   "codemirror_mode": {
    "name": "ipython",
    "version": 3
   },
   "file_extension": ".py",
   "mimetype": "text/x-python",
   "name": "python",
   "nbconvert_exporter": "python",
   "pygments_lexer": "ipython3",
   "version": "3.6.6"
  }
 },
 "nbformat": 4,
 "nbformat_minor": 2
}
