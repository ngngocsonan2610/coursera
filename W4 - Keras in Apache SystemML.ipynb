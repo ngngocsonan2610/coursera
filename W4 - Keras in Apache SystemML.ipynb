{
    "cells": [
        {
            "metadata": {},
            "cell_type": "markdown",
            "source": "# Assignment 4\n## Understaning scaling of linear algebra operations on Apache Spark using Apache SystemML\n\nIn this assignment we want you to understand how to scale linear algebra operations from a single machine to multiple machines, memory and CPU cores using Apache SystemML. Therefore we want you to understand how to migrate from a numpy program to a SystemML DML program. Don't worry. We will give you a lot of hints. Finally, you won't need this knowledge anyways if you are sticking to Keras only, but once you go beyond that point you'll be happy to see what's going on behind the scenes. Please make sure you run this notebook from an Apache Spark 2.3 notebook.\n\nSo the first thing we need to ensure is that we are on the latest version of SystemML, which is 1.2.0:\n\nThe steps are:\n- pip install\n- link the jars to the correct location\n- restart the kernel\n- start execution at the cell with the version - check"
        },
        {
            "metadata": {},
            "cell_type": "code",
            "source": "!pip install systemml",
            "execution_count": 1,
            "outputs": [
                {
                    "output_type": "stream",
                    "text": "Waiting for a Spark session to start...\nSpark Initialization Done! ApplicationId = app-20200302065315-0000\nKERNEL_ID = 38399d8f-fa5e-4e4a-a295-f8d159f2e33e\nCollecting systemml\n\u001b[?25l  Downloading https://files.pythonhosted.org/packages/b1/94/62104cb8c526b462cd501c7319926fb81ac9a5668574a0b3407658a506ab/systemml-1.2.0.tar.gz (9.7MB)\n\u001b[K    100% |################################| 9.7MB 1.6MB/s eta 0:00:01\n\u001b[?25hCollecting numpy>=1.8.2 (from systemml)\n\u001b[?25l  Downloading https://files.pythonhosted.org/packages/62/20/4d43e141b5bc426ba38274933ef8e76e85c7adea2c321ecf9ebf7421cedf/numpy-1.18.1-cp36-cp36m-manylinux1_x86_64.whl (20.1MB)\n\u001b[K    100% |################################| 20.2MB 1.0MB/s eta 0:00:01\n\u001b[?25hCollecting scipy>=0.15.1 (from systemml)\n\u001b[?25l  Downloading https://files.pythonhosted.org/packages/dc/29/162476fd44203116e7980cfbd9352eef9db37c49445d1fec35509022f6aa/scipy-1.4.1-cp36-cp36m-manylinux1_x86_64.whl (26.1MB)\n\u001b[K    100% |################################| 26.1MB 885kB/s eta 0:00:01\n\u001b[?25hCollecting pandas (from systemml)\n\u001b[?25l  Downloading https://files.pythonhosted.org/packages/08/ec/b5dd8cfb078380fb5ae9325771146bccd4e8cad2d3e4c72c7433010684eb/pandas-1.0.1-cp36-cp36m-manylinux1_x86_64.whl (10.1MB)\n\u001b[K    100% |################################| 10.1MB 1.8MB/s eta 0:00:01\n\u001b[?25hCollecting scikit-learn (from systemml)\n\u001b[?25l  Downloading https://files.pythonhosted.org/packages/e1/7f/366dcba1ba076a88a50bea732dbc033c0c5bbf7876010e6edc67948579d5/scikit_learn-0.22.2-cp36-cp36m-manylinux1_x86_64.whl (7.1MB)\n\u001b[K    100% |################################| 7.1MB 2.2MB/s eta 0:00:01\n\u001b[?25hCollecting Pillow>=2.0.0 (from systemml)\n\u001b[?25l  Downloading https://files.pythonhosted.org/packages/19/5e/23dcc0ce3cc2abe92efd3cd61d764bee6ccdf1b667a1fb566f45dc249953/Pillow-7.0.0-cp36-cp36m-manylinux1_x86_64.whl (2.1MB)\n\u001b[K    100% |################################| 2.1MB 3.4MB/s eta 0:00:01\n\u001b[?25hCollecting python-dateutil>=2.6.1 (from pandas->systemml)\n\u001b[?25l  Downloading https://files.pythonhosted.org/packages/d4/70/d60450c3dd48ef87586924207ae8907090de0b306af2bce5d134d78615cb/python_dateutil-2.8.1-py2.py3-none-any.whl (227kB)\n\u001b[K    100% |################################| 235kB 4.8MB/s eta 0:00:01\n\u001b[?25hCollecting pytz>=2017.2 (from pandas->systemml)\n\u001b[?25l  Downloading https://files.pythonhosted.org/packages/e7/f9/f0b53f88060247251bf481fa6ea62cd0d25bf1b11a87888e53ce5b7c8ad2/pytz-2019.3-py2.py3-none-any.whl (509kB)\n\u001b[K    100% |################################| 512kB 5.1MB/s eta 0:00:01\n\u001b[?25hCollecting joblib>=0.11 (from scikit-learn->systemml)\n\u001b[?25l  Downloading https://files.pythonhosted.org/packages/28/5c/cf6a2b65a321c4a209efcdf64c2689efae2cb62661f8f6f4bb28547cf1bf/joblib-0.14.1-py2.py3-none-any.whl (294kB)\n\u001b[K    100% |################################| 296kB 5.1MB/s eta 0:00:01\n\u001b[?25hCollecting six>=1.5 (from python-dateutil>=2.6.1->pandas->systemml)\n  Downloading https://files.pythonhosted.org/packages/65/eb/1f97cb97bfc2390a276969c6fae16075da282f5058082d4cb10c6c5c1dba/six-1.14.0-py2.py3-none-any.whl\nBuilding wheels for collected packages: systemml\n  Building wheel for systemml (setup.py) ... \u001b[?25ldone\n\u001b[?25h  Stored in directory: /home/spark/shared/.cache/pip/wheels/cf/07/79/b3ed6f12afe06b2ab55d60dcfd62e66240f5d8c6088a518177\nSuccessfully built systemml\n\u001b[31mtensorflow 1.13.1 requires tensorboard<1.14.0,>=1.13.0, which is not installed.\u001b[0m\nInstalling collected packages: numpy, scipy, six, python-dateutil, pytz, pandas, joblib, scikit-learn, Pillow, systemml\nSuccessfully installed Pillow-7.0.0 joblib-0.14.1 numpy-1.18.1 pandas-1.0.1 python-dateutil-2.8.1 pytz-2019.3 scikit-learn-0.22.2 scipy-1.4.1 six-1.14.0 systemml-1.2.0\n",
                    "name": "stdout"
                }
            ]
        },
        {
            "metadata": {},
            "cell_type": "markdown",
            "source": "Now we need to create two sym links that the newest version is picket up - this is a workaround and will be removed soon"
        },
        {
            "metadata": {},
            "cell_type": "code",
            "source": "!ln -s -f ~/user-libs/python3.6/systemml/systemml-java/systemml-1.2.0-extra.jar ~/user-libs/spark2/systemml-1.2.0-extra.jar\n!ln -s -f ~/user-libs/python3.6/systemml/systemml-java/systemml-1.2.0.jar ~/user-libs/spark2/systemml-1.2.0.jar",
            "execution_count": 2,
            "outputs": []
        },
        {
            "metadata": {},
            "cell_type": "markdown",
            "source": "Now please restart the kernel and make sure the version is correct"
        },
        {
            "metadata": {},
            "cell_type": "code",
            "source": "from systemml import MLContext\nml = MLContext(spark)\nprint(ml.version())\n    \nif not ml.version() == '1.2.0':\n    raise ValueError('please upgrade to SystemML 1.2.0, or restart your Kernel (Kernel->Restart & Clear Output)')",
            "execution_count": 1,
            "outputs": [
                {
                    "output_type": "stream",
                    "text": "Waiting for a Spark session to start...\nSpark Initialization Done! ApplicationId = app-20200302065724-0002\nKERNEL_ID = 38399d8f-fa5e-4e4a-a295-f8d159f2e33e\n1.2.0\n",
                    "name": "stdout"
                }
            ]
        },
        {
            "metadata": {},
            "cell_type": "markdown",
            "source": "Congratulations, if you see version 1.2.0, please continue with the notebook..."
        },
        {
            "metadata": {},
            "cell_type": "code",
            "source": "from systemml import MLContext, dml\nimport numpy as np\nimport time",
            "execution_count": 2,
            "outputs": []
        },
        {
            "metadata": {},
            "cell_type": "markdown",
            "source": "Then we create an MLContext to interface with Apache SystemML. Note that we pass a SparkSession object as parameter so SystemML now knows how to talk to the Apache Spark cluster"
        },
        {
            "metadata": {},
            "cell_type": "code",
            "source": "ml = MLContext(spark)",
            "execution_count": 3,
            "outputs": []
        },
        {
            "metadata": {},
            "cell_type": "markdown",
            "source": "Now we create some large random matrices to have numpy and SystemML crunch on it"
        },
        {
            "metadata": {},
            "cell_type": "code",
            "source": "u = np.random.rand(1000,10000)\ns = np.random.rand(10000,1000)\nw = np.random.rand(1000,1000)",
            "execution_count": 4,
            "outputs": []
        },
        {
            "metadata": {},
            "cell_type": "markdown",
            "source": "Now we implement a short one-liner to define a very simple linear algebra operation\n\nIn case you are unfamiliar with matrxi-matrix multiplication: https://en.wikipedia.org/wiki/Matrix_multiplication\n\nsum(U' * (W . (U * S)))\n\n\n| Legend        |            |   \n| ------------- |-------------| \n| '      | transpose of a matrix | \n| * | matrix-matrix multiplication      |  \n| . | scalar multiplication      |   \n\n"
        },
        {
            "metadata": {},
            "cell_type": "code",
            "source": "start = time.time()\nres = np.sum(u.T.dot(w * u.dot(s)))\nprint (time.time()-start)",
            "execution_count": 5,
            "outputs": [
                {
                    "output_type": "stream",
                    "text": "2.0879814624786377\n",
                    "name": "stdout"
                }
            ]
        },
        {
            "metadata": {},
            "cell_type": "markdown",
            "source": "As you can see this executes perfectly fine. Note that this is even a very efficient execution because numpy uses a C/C++ backend which is known for it's performance. But what happens if U, S or W get such big that the available main memory cannot cope with it? Let's give it a try:"
        },
        {
            "metadata": {},
            "cell_type": "code",
            "source": "# u = np.random.rand(10000,100000)\n# s = np.random.rand(100000,10000)\n# w = np.random.rand(10000,10000)",
            "execution_count": null,
            "outputs": []
        },
        {
            "metadata": {},
            "cell_type": "markdown",
            "source": "After a short while you should see a memory error. This is because the operating system process was not able to allocate enough memory for storing the numpy array on the heap. Now it's time to re-implement the very same operations as DML in SystemML, and this is your task. Just replace all ###your_code_goes_here sections with proper code, please consider the following table which contains all DML syntax you need:\n\n| Syntax        |            |   \n| ------------- |-------------| \n| t(M)      | transpose of a matrix, where M is the matrix | \n| %*% | matrix-matrix multiplication      |  \n| * | scalar multiplication      |   \n\n## Task"
        },
        {
            "metadata": {},
            "cell_type": "markdown",
            "source": "In order to show you the advantage of SystemML over numpy we've blown up the sizes of the matrices. Unfortunately, on a 1-2 worker Spark cluster it takes quite some time to complete. Therefore we've stripped down the example to smaller matrices below, but we've kept the code, just in case you are curious to check it out. But you might want to use some more workers which you easily can configure in the environment settings of the project within Watson Studio. Just be aware that you're currently limited to free 50 capacity unit hours per month wich are consumed by the additional workers."
        },
        {
            "metadata": {},
            "cell_type": "code",
            "source": "script = \"\"\"\nU = rand(rows=1000,cols=10000)\nS = rand(rows=10000,cols=1000)\nW = rand(rows=1000,cols=1000)\n\nres = sum(t(U) %*% (W * (U %*% S)))\n\"\"\"\n# res = sum(###your_code_goes_here(U) %*% (W * (U ###your_code_goes_here S)))",
            "execution_count": 13,
            "outputs": []
        },
        {
            "metadata": {},
            "cell_type": "markdown",
            "source": "To get consistent results we switch from a random matrix initialization to something deterministic"
        },
        {
            "metadata": {},
            "cell_type": "code",
            "source": "# u = np.arange(100000).reshape((100, 1000))\n# s = np.arange(100000).reshape((1000, 100))\n# w = np.arange(10000).reshape((100, 100))\n\n# prog = dml(script).output('res')\nprog = dml(script).input('U', u).input('S', s).input('W', w).output('res')\n\n# res = ml.execute(prog).get('res')\nres = ml.execute(prog).get('res')\nprint(res)",
            "execution_count": 15,
            "outputs": [
                {
                    "output_type": "stream",
                    "text": "SystemML Statistics:\nTotal execution time:\t\t4.174 sec.\nNumber of executed Spark inst:\t0.\n\n\n6249067735291.72\n",
                    "name": "stdout"
                }
            ]
        },
        {
            "metadata": {},
            "cell_type": "markdown",
            "source": "If everything runs fine you should get *6252492444241.075* as result (or something in that bullpark). Feel free to submit your DML script to the grader now!\n\n### Submission"
        },
        {
            "metadata": {},
            "cell_type": "code",
            "source": "!rm -f rklib.py\n!wget https://raw.githubusercontent.com/romeokienzler/developerWorks/master/coursera/ai/rklib.py",
            "execution_count": 16,
            "outputs": [
                {
                    "output_type": "stream",
                    "text": "--2020-03-02 07:03:00--  https://raw.githubusercontent.com/romeokienzler/developerWorks/master/coursera/ai/rklib.py\nResolving raw.githubusercontent.com (raw.githubusercontent.com)... 199.232.8.133\nConnecting to raw.githubusercontent.com (raw.githubusercontent.com)|199.232.8.133|:443... connected.\nHTTP request sent, awaiting response... 200 OK\nLength: 2289 (2.2K) [text/plain]\nSaving to: 'rklib.py'\n\n100%[======================================>] 2,289       --.-K/s   in 0s      \n\n2020-03-02 07:03:00 (36.2 MB/s) - 'rklib.py' saved [2289/2289]\n\n",
                    "name": "stdout"
                }
            ]
        },
        {
            "metadata": {},
            "cell_type": "code",
            "source": "from rklib import submit\nkey = \"esRk7vn-Eeej-BLTuYzd0g\"\n\n\nemail = \"ngngocsonan2610@gmail.com\"",
            "execution_count": null,
            "outputs": []
        },
        {
            "metadata": {
                "collapsed": true
            },
            "cell_type": "code",
            "source": "part = \"fUxc8\"\ntoken = \"Hejz98lk8FuqTANb\" #you can obtain it from the grader page on Coursera (have a look here if you need more information on how to obtain the token https://youtu.be/GcDo0Rwe06U?t=276)\nsubmit(email, token, key, part, [part], script)",
            "execution_count": null,
            "outputs": []
        }
    ],
    "metadata": {
        "kernelspec": {
            "name": "python36",
            "display_name": "Python 3.6 with Spark",
            "language": "python3"
        },
        "language_info": {
            "mimetype": "text/x-python",
            "nbconvert_exporter": "python",
            "name": "python",
            "pygments_lexer": "ipython3",
            "version": "3.6.8",
            "file_extension": ".py",
            "codemirror_mode": {
                "version": 3,
                "name": "ipython"
            }
        }
    },
    "nbformat": 4,
    "nbformat_minor": 1
}